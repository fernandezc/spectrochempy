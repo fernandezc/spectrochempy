{
 "cells": [
  {
   "cell_type": "markdown",
   "id": "4a5062bd",
   "metadata": {},
   "source": [
    "# The NDDataset object"
   ]
  },
  {
   "cell_type": "markdown",
   "id": "378bb6cc",
   "metadata": {},
   "source": [
    "The NDDataset is the main object used by **SpectroChemPy**.\n",
    "\n",
    "Like numpy ndarrays, NDDatasets have the capability to be sliced, sorted and subjected to\n",
    "mathematical operations.\n",
    "\n",
    "But, in addition, NDDatasets may have units, can be masked and each dimension can have\n",
    "coordinates also with units.\n",
    "This makes NDDatasets aware of units compatibility, *e.g.*, for binary operations such as\n",
    "addition or subtraction or during the application of mathematical operations.\n",
    "In addition to or in replacement of numerical data for coordinates,\n",
    "NDDatasets can also have labeled coordinates where labels can be different kinds of\n",
    "objects (strings, datetime objects, numpy ndarrays or other NDDatasets, etc.).\n",
    "\n",
    "This offers a lot of flexibility in using NDDatasets that, we hope, will be useful\n",
    "for applications.\n",
    "See the [Examples](../../../gettingstarted/examples/gallery/auto_examples_core/index.rst) for\n",
    "additional information about such possible applications."
   ]
  },
  {
   "cell_type": "markdown",
   "id": "84a04bdc",
   "metadata": {},
   "source": [
    "## Table of Contents\n",
    "\n",
    "* [Introduction](#Introduction)\n",
    "  * [1D-Dataset (unidimensional dataset)](#1D-Dataset-(unidimensional-dataset))\n",
    "  * [nD-Dataset (multidimensional dataset)](#nD-Dataset-(multidimensional-dataset))\n",
    "* [Metadata and Attributes](#About-the-dates-and-times)\n",
    "  * [About dates and times](#About-dates-and-times)\n",
    "  * [About the history attribute](#About-the-history-attribute)\n",
    "* [Units](#Units)\n",
    "* [Coordinates](#Coordinates)\n",
    "  * [Labels](#Labels)\n",
    "  * [Sharing coordinates between dimensions](#Sharing-coordinates-between-dimensions)\n",
    "  * [Setting coordinates using set_coordset](#Setting-coordinates-using-set_coordset)\n",
    "  * [Adding several coordinates to a single dimension](#Adding-several-coordinates-to-a-single-dimension)\n",
    "  * [Math operations on coordinates](#Math-operations-on-coordinates)\n",
    "  * [Summary of coordinate setting syntax](#Summary-of-the-coordinate-setting-syntax)\n",
    "* [Methods to create NDDataset](#Methods-to-create-NDDataset)\n",
    "  * [Create a dataset from a function](#Create-a-dataset-from-a-function)\n",
    "  * [Using numpy-like constructors](#Using-numpy-like-constructors-of-NDDatasets)\n",
    "  * [Copying existing NDDataset](#Copying-existing-NDDataset)\n",
    "  * [Importing from external datasets](#Importing-from-external-datasets)"
   ]
  },
  {
   "cell_type": "markdown",
   "id": "29a8552a",
   "metadata": {},
   "source": [
    "## Introduction"
   ]
  },
  {
   "cell_type": "markdown",
   "id": "1565faaf",
   "metadata": {},
   "source": [
    "**Below (and in the next sections), we try to give an almost complete view of the\n",
    "NDDataset features.**"
   ]
  },
  {
   "cell_type": "markdown",
   "id": "73681c1e",
   "metadata": {
    "lines_to_next_cell": 0
   },
   "source": [
    "As we will make some reference to the\n",
    "**[numpy](https://numpy.org/doc/stable/index.html)** library, we also import it here."
   ]
  },
  {
   "cell_type": "code",
   "execution_count": null,
   "id": "daeecf63",
   "metadata": {},
   "outputs": [],
   "source": [
    "import numpy as np\n",
    "\n",
    "import spectrochempy as scp"
   ]
  },
  {
   "cell_type": "markdown",
   "id": "17577529",
   "metadata": {
    "lines_to_next_cell": 0
   },
   "source": [
    "We additionally import the three main SpectroChemPy objects that we will use through\n",
    "this tutorial"
   ]
  },
  {
   "cell_type": "code",
   "execution_count": null,
   "id": "1e688a32",
   "metadata": {},
   "outputs": [],
   "source": [
    "from spectrochempy import Coord\n",
    "from spectrochempy import CoordSet\n",
    "from spectrochempy import NDDataset"
   ]
  },
  {
   "cell_type": "markdown",
   "id": "5e7a8853",
   "metadata": {
    "lines_to_next_cell": 0
   },
   "source": [
    "For a convenient usage of units, we will also directly import\n",
    "**[ur](#Units)**, the unit registry which contains all available\n",
    "units."
   ]
  },
  {
   "cell_type": "code",
   "execution_count": null,
   "id": "6726b96a",
   "metadata": {},
   "outputs": [],
   "source": [
    "from spectrochempy import ur"
   ]
  },
  {
   "cell_type": "markdown",
   "id": "4c187039",
   "metadata": {},
   "source": [
    "Multidimensional arrays are defined in Spectrochempy using the `NDDataset` object.\n",
    "\n",
    "`NDDataset` objects mostly behave like numpy's `numpy.ndarray`\n",
    "(see for instance\n",
    "[numpy quickstart tutorial](https://numpy.org/doc/stable/user/quickstart.html))."
   ]
  },
  {
   "cell_type": "markdown",
   "id": "25741645",
   "metadata": {},
   "source": [
    "However, unlike raw numpy arrays, the presence of optional properties makes\n",
    "them (hopefully) more appropriate for handling spectroscopic information,\n",
    "which is one of the major objectives of the SpectroChemPy package:\n",
    "\n",
    "* `mask`: Data can be partially masked at will\n",
    "* `units`: Data can have units, allowing units-aware operations\n",
    "* `CoordSet`: Data can have a set of coordinates, one or several per dimension\n",
    "\n",
    "Additional metadata can also be added to the instances of this class\n",
    "through the `meta` properties."
   ]
  },
  {
   "cell_type": "markdown",
   "id": "7f848cf7",
   "metadata": {},
   "source": [
    "## 1D-Dataset (unidimensional dataset)"
   ]
  },
  {
   "cell_type": "markdown",
   "id": "1fa02c11",
   "metadata": {},
   "source": [
    "In the following example, a minimal 1D dataset is created from a simple list,\n",
    "to which we can add some metadata:"
   ]
  },
  {
   "cell_type": "code",
   "execution_count": null,
   "id": "75aa0609",
   "metadata": {},
   "outputs": [],
   "source": [
    "d1D = NDDataset(\n",
    "    [10.0, 20.0, 30.0],\n",
    "    name=\"Dataset N1\",\n",
    "    author=\"Blake and Mortimer\",\n",
    "    description=\"A dataset from scratch\",\n",
    "    history=\"creation\",\n",
    ")\n",
    "d1D"
   ]
  },
  {
   "cell_type": "code",
   "execution_count": null,
   "id": "db101278",
   "metadata": {},
   "outputs": [],
   "source": [
    "print(d1D)"
   ]
  },
  {
   "cell_type": "code",
   "execution_count": null,
   "id": "f70cf044",
   "metadata": {},
   "outputs": [],
   "source": [
    "d1D.plot(figsize=(3, 2))"
   ]
  },
  {
   "cell_type": "markdown",
   "id": "d3fa5c9c",
   "metadata": {},
   "source": [
    "Except few additional metadata such `author` , `created` ..., there is not much\n",
    "difference with respect to a conventional\n",
    "**[numpy.array](\n",
    "https://numpy.org/doc/stable/reference/generated/numpy.array.html#numpy.array)**.\n",
    "For example, one\n",
    "can apply numpy\n",
    "**[ufunc](https://numpy.org/doc/stable/reference/ufuncs.html#available-ufuncs)'s**\n",
    "directly to a NDDataset or make basic arithmetic\n",
    "operation with these objects:"
   ]
  },
  {
   "cell_type": "code",
   "execution_count": null,
   "id": "1d54439b",
   "metadata": {},
   "outputs": [],
   "source": [
    "np.sqrt(d1D)"
   ]
  },
  {
   "cell_type": "code",
   "execution_count": null,
   "id": "4c7ca0a7",
   "metadata": {},
   "outputs": [],
   "source": [
    "d1D += d1D / 2.0\n",
    "d1D"
   ]
  },
  {
   "cell_type": "markdown",
   "id": "d52a6211",
   "metadata": {},
   "source": [
    "As seen above, there are some attributes that are automatically added to the dataset:\n",
    "\n",
    "* `id`: This is a unique identifier for the object.\n",
    "* `name`: A short and unique name for the dataset. It will be equal to the automatic\n",
    "  `id` if it is not provided.\n",
    "* `author`: Author determined from the computer name if not provided.\n",
    "* `created`: Date and time of creation.\n",
    "* `modified`: Date and time of modification.\n",
    "\n",
    "These attributes can be modified by the user, but the `id`, `created` and `modified`\n",
    "attributes are read only.\n",
    "\n",
    "Some other attributes are defined to describe the data:\n",
    "* `title`: A long name that will be used in plots or in some other operations.\n",
    "* `history`: History of operations performed on the object since its creation.\n",
    "* `description`: A comment or a description of the object's purpose or contents.\n",
    "* `origin`: An optional reference to the source of the data."
   ]
  },
  {
   "cell_type": "markdown",
   "id": "66974b22",
   "metadata": {},
   "source": [
    "Here is an example of the use of the NDDataset attributes:"
   ]
  },
  {
   "cell_type": "code",
   "execution_count": null,
   "id": "ce23e72c",
   "metadata": {},
   "outputs": [],
   "source": [
    "d1D.title = \"intensity\"\n",
    "d1D.name = \"mydataset\"\n",
    "d1D.history = \"created from scratch\"\n",
    "d1D.description = \"Some experimental measurements\"\n",
    "d1D"
   ]
  },
  {
   "cell_type": "markdown",
   "id": "a75eff2f",
   "metadata": {},
   "source": [
    "d1D is a 1D (1-dimensional) dataset with only one dimension.\n",
    "\n",
    "Some attributes are useful to check this kind of information:"
   ]
  },
  {
   "cell_type": "code",
   "execution_count": null,
   "id": "db4bb5fc",
   "metadata": {},
   "outputs": [],
   "source": [
    "d1D.shape  # the shape of 1D contain only one dimension size"
   ]
  },
  {
   "cell_type": "code",
   "execution_count": null,
   "id": "89bba3da",
   "metadata": {},
   "outputs": [],
   "source": [
    "d1D.ndim  # the number of dimensions"
   ]
  },
  {
   "cell_type": "code",
   "execution_count": null,
   "id": "05878d78",
   "metadata": {},
   "outputs": [],
   "source": [
    "d1D.dims  # the name of the dimension (it has been automatically attributed)"
   ]
  },
  {
   "cell_type": "markdown",
   "id": "cfd69ca7",
   "metadata": {},
   "source": [
    "**Note**: The names of the dimensions are set automatically. But they can be changed,\n",
    "with <u>the limitation</u> that the\n",
    "name must be a single letter."
   ]
  },
  {
   "cell_type": "code",
   "execution_count": null,
   "id": "c61fa037",
   "metadata": {},
   "outputs": [],
   "source": [
    "d1D.dims = [\"q\"]  # change the list of dim names."
   ]
  },
  {
   "cell_type": "code",
   "execution_count": null,
   "id": "4521b71b",
   "metadata": {},
   "outputs": [],
   "source": [
    "d1D.dims"
   ]
  },
  {
   "cell_type": "markdown",
   "id": "be782b13",
   "metadata": {},
   "source": [
    "### nD-Dataset (multidimensional dataset)"
   ]
  },
  {
   "cell_type": "markdown",
   "id": "65f03e7e",
   "metadata": {},
   "source": [
    "To create a nD NDDataset, we can provide a nD-array like object to the NDDataset\n",
    "instance constructor"
   ]
  },
  {
   "cell_type": "code",
   "execution_count": null,
   "id": "e796fac7",
   "metadata": {},
   "outputs": [],
   "source": [
    "a = np.random.rand(2, 4, 6)\n",
    "a"
   ]
  },
  {
   "cell_type": "code",
   "execution_count": null,
   "id": "aaa7c359",
   "metadata": {},
   "outputs": [],
   "source": [
    "d3D = NDDataset(a)\n",
    "d3D.title = \"energy\"\n",
    "d3D.author = \"Someone\"\n",
    "d3D.name = \"3D dataset creation\"\n",
    "d3D.history = \"created from scratch\"\n",
    "d3D.description = \"Some example\"\n",
    "d3D.dims = [\"u\", \"v\", \"t\"]\n",
    "d3D"
   ]
  },
  {
   "cell_type": "markdown",
   "id": "1b49202a",
   "metadata": {},
   "source": [
    "We can also add all information in a single statement"
   ]
  },
  {
   "cell_type": "code",
   "execution_count": null,
   "id": "87943a88",
   "metadata": {},
   "outputs": [],
   "source": [
    "d3D = NDDataset(\n",
    "    a,\n",
    "    dims=[\"u\", \"v\", \"t\"],\n",
    "    title=\"Energy\",\n",
    "    author=\"Someone\",\n",
    "    name=\"3D_dataset\",\n",
    "    history=\"created from scratch\",\n",
    "    description=\"a single statement creation example\",\n",
    ")\n",
    "d3D"
   ]
  },
  {
   "cell_type": "markdown",
   "id": "fd728c7a",
   "metadata": {},
   "source": [
    "Three names are attributed at creation (if they are not provided with the `dims`\n",
    "attribute, then the names\n",
    "'z','y','x' are automatically attributed)"
   ]
  },
  {
   "cell_type": "code",
   "execution_count": null,
   "id": "31919f10",
   "metadata": {},
   "outputs": [],
   "source": [
    "d3D.dims"
   ]
  },
  {
   "cell_type": "code",
   "execution_count": null,
   "id": "695e4214",
   "metadata": {},
   "outputs": [],
   "source": [
    "d3D.ndim"
   ]
  },
  {
   "cell_type": "code",
   "execution_count": null,
   "id": "8b033210",
   "metadata": {},
   "outputs": [],
   "source": [
    "d3D.shape"
   ]
  },
  {
   "cell_type": "markdown",
   "id": "1d2645cb",
   "metadata": {},
   "source": [
    "## About dates and times\n",
    "The dates and times are stored internally as\n",
    "[UTC (Coordinated Universal Time)](https://en.wikipedia.org/wiki/Coordinated_Universal_Time).\n",
    "Timezone information is stored in the timezone attribute.\n",
    "If not set, the default is to use the local timezone,\n",
    "which is probably the most common case."
   ]
  },
  {
   "cell_type": "code",
   "execution_count": null,
   "id": "02c9b2cf",
   "metadata": {},
   "outputs": [],
   "source": [
    "nd = NDDataset()\n",
    "nd.created"
   ]
  },
  {
   "cell_type": "markdown",
   "id": "ff006204",
   "metadata": {},
   "source": [
    "In this case our local timezone has been used by default for the conversion from\n",
    "UTC datetime."
   ]
  },
  {
   "cell_type": "code",
   "execution_count": null,
   "id": "bf185452",
   "metadata": {},
   "outputs": [],
   "source": [
    "nd.local_timezone"
   ]
  },
  {
   "cell_type": "code",
   "execution_count": null,
   "id": "8bdb540e",
   "metadata": {},
   "outputs": [],
   "source": [
    "nd.timezone = \"EST\"\n",
    "nd.created"
   ]
  },
  {
   "cell_type": "markdown",
   "id": "a9330e2f",
   "metadata": {},
   "source": [
    "For a list of timezone code (TZ) you can have a look at\n",
    "[List_of_tz_database_time_zones](\n",
    "https://en.wikipedia.org/wiki/List_of_tz_database_time_zones)."
   ]
  },
  {
   "cell_type": "markdown",
   "id": "7f103523",
   "metadata": {},
   "source": [
    "## About the `history` attribute"
   ]
  },
  {
   "cell_type": "markdown",
   "id": "fecab6fa",
   "metadata": {},
   "source": [
    "The history is saved internally as a list, but it has a different behavior than\n",
    "the usual list.\n",
    "The first time a NDDataset is created, the list is empty."
   ]
  },
  {
   "cell_type": "code",
   "execution_count": null,
   "id": "932a752c",
   "metadata": {},
   "outputs": [],
   "source": [
    "nd = NDDataset()\n",
    "nd.history"
   ]
  },
  {
   "cell_type": "markdown",
   "id": "57676cb5",
   "metadata": {},
   "source": [
    "Assigning a string to the history attribute has two effects. First,\n",
    "the string is appended automatically to the previous history list, and second, it is\n",
    "preceded by the time it was added."
   ]
  },
  {
   "cell_type": "code",
   "execution_count": null,
   "id": "35488e20",
   "metadata": {},
   "outputs": [],
   "source": [
    "nd.history = \"some history\"\n",
    "nd.history = \"another history to append\"\n",
    "nd.history = \"...\"\n",
    "nd.history"
   ]
  },
  {
   "cell_type": "markdown",
   "id": "a9abdbba",
   "metadata": {},
   "source": [
    "If you want to erase the history, assign an empty list"
   ]
  },
  {
   "cell_type": "code",
   "execution_count": null,
   "id": "170aa3bd",
   "metadata": {},
   "outputs": [],
   "source": [
    "nd.history = []\n",
    "nd.history"
   ]
  },
  {
   "cell_type": "markdown",
   "id": "7dd12f42",
   "metadata": {},
   "source": [
    "If you want to replace the full history, use brackets around your history line:"
   ]
  },
  {
   "cell_type": "code",
   "execution_count": null,
   "id": "72021849",
   "metadata": {},
   "outputs": [],
   "source": [
    "nd.history = \"Created form scratch\"\n",
    "nd.history = \"a second ligne that will be erased\"\n",
    "nd.history = [\"A more interesting message\"]\n",
    "nd.history"
   ]
  },
  {
   "cell_type": "markdown",
   "id": "e2d96189",
   "metadata": {},
   "source": [
    "## Units"
   ]
  },
  {
   "cell_type": "markdown",
   "id": "21097c7b",
   "metadata": {},
   "source": [
    "One interesting feature of NDDataset is the ability to define units for the internal\n",
    "data."
   ]
  },
  {
   "cell_type": "code",
   "execution_count": null,
   "id": "95419e0b",
   "metadata": {},
   "outputs": [],
   "source": [
    "d1D.units = ur.eV  # ur is a registry containing all available units"
   ]
  },
  {
   "cell_type": "code",
   "execution_count": null,
   "id": "20811ad0",
   "metadata": {},
   "outputs": [],
   "source": [
    "d1D  # note the eV symbol of the units added to the values field below"
   ]
  },
  {
   "cell_type": "markdown",
   "id": "0120eb05",
   "metadata": {},
   "source": [
    "This allows to make units-aware calculations:"
   ]
  },
  {
   "cell_type": "code",
   "execution_count": null,
   "id": "6692822c",
   "metadata": {},
   "outputs": [],
   "source": [
    "d1D**2  # note the results in eV^2"
   ]
  },
  {
   "cell_type": "code",
   "execution_count": null,
   "id": "28354969",
   "metadata": {},
   "outputs": [],
   "source": [
    "np.sqrt(d1D)  # note the result in e^0.5"
   ]
  },
  {
   "cell_type": "code",
   "execution_count": null,
   "id": "34c46a9c",
   "metadata": {},
   "outputs": [],
   "source": [
    "time = 5.0 * ur.second\n",
    "d1D / time  # here we get results in eV/s"
   ]
  },
  {
   "cell_type": "markdown",
   "id": "9e3df7a4",
   "metadata": {},
   "source": [
    "Conversion can be done between different units transparently"
   ]
  },
  {
   "cell_type": "code",
   "execution_count": null,
   "id": "bad29829",
   "metadata": {},
   "outputs": [],
   "source": [
    "d1D.to(\"J\")"
   ]
  },
  {
   "cell_type": "code",
   "execution_count": null,
   "id": "e627ff9a",
   "metadata": {},
   "outputs": [],
   "source": [
    "d1D.to(\"K\")"
   ]
  },
  {
   "cell_type": "markdown",
   "id": "b12bef09",
   "metadata": {},
   "source": [
    "For more examples on how to use units with NDDataset, see the\n",
    "[gallery example](../../../gettingstarted/examples/gallery/auto_examples_core/a_nddataset/plot_c_units.html)"
   ]
  },
  {
   "cell_type": "markdown",
   "id": "2089dd76",
   "metadata": {},
   "source": [
    "## Coordinates"
   ]
  },
  {
   "cell_type": "markdown",
   "id": "6a14acf1",
   "metadata": {},
   "source": [
    "The above created `d3D` dataset has 3 dimensions, but no coordinates for these\n",
    "dimensions. Here arises a big difference\n",
    "with simple `numpy` arrays:\n",
    "* We can add coordinates to each dimension of a NDDataset."
   ]
  },
  {
   "cell_type": "markdown",
   "id": "725a6666",
   "metadata": {},
   "source": [
    "To get the list of all defined coordinates, we can use the `coords` attribute:"
   ]
  },
  {
   "cell_type": "code",
   "execution_count": null,
   "id": "d67865bc",
   "metadata": {},
   "outputs": [],
   "source": [
    "d3D.coordset  # no coordinates, so it returns nothing (None)"
   ]
  },
  {
   "cell_type": "code",
   "execution_count": null,
   "id": "6a0ecc93",
   "metadata": {},
   "outputs": [],
   "source": [
    "d3D.t  # the same for coordinate  t, v, u which are not yet set"
   ]
  },
  {
   "cell_type": "markdown",
   "id": "17d02c55",
   "metadata": {},
   "source": [
    "To add coordinates, one way is to set them one by one:"
   ]
  },
  {
   "cell_type": "code",
   "execution_count": null,
   "id": "e7f8ee22",
   "metadata": {},
   "outputs": [],
   "source": [
    "d3D.t = (\n",
    "    Coord.arange(6) * 0.1\n",
    ")  # we need a sequence of 6 values for `t` dimension (see shape above)\n",
    "d3D.t.title = \"time\"\n",
    "d3D.t.units = ur.seconds\n",
    "d3D.coordset  # now return a list of coordinates"
   ]
  },
  {
   "cell_type": "code",
   "execution_count": null,
   "id": "4f06d922",
   "metadata": {},
   "outputs": [],
   "source": [
    "d3D.t"
   ]
  },
  {
   "cell_type": "code",
   "execution_count": null,
   "id": "1b260fb8",
   "metadata": {},
   "outputs": [],
   "source": [
    "d3D.coordset(\"t\")  # Alternative way to get a given coordinates"
   ]
  },
  {
   "cell_type": "code",
   "execution_count": null,
   "id": "893f920d",
   "metadata": {},
   "outputs": [],
   "source": [
    "d3D[\"t\"]  # another alternative way to get a given coordinates"
   ]
  },
  {
   "cell_type": "markdown",
   "id": "4db40537",
   "metadata": {},
   "source": [
    "The two other coordinates u and v are still undefined"
   ]
  },
  {
   "cell_type": "code",
   "execution_count": null,
   "id": "529b49c6",
   "metadata": {},
   "outputs": [],
   "source": [
    "d3D.u, d3D.v"
   ]
  },
  {
   "cell_type": "markdown",
   "id": "f48fe12f",
   "metadata": {},
   "source": [
    "When the dataset is printed, only the information for the existing coordinates is\n",
    "given."
   ]
  },
  {
   "cell_type": "code",
   "execution_count": null,
   "id": "c0e2d030",
   "metadata": {},
   "outputs": [],
   "source": [
    "d3D"
   ]
  },
  {
   "cell_type": "markdown",
   "id": "c5d79401",
   "metadata": {},
   "source": [
    "Programmatically, we can use the attribute `is_empty` or `has_data` to check this"
   ]
  },
  {
   "cell_type": "code",
   "execution_count": null,
   "id": "a7b9ea78",
   "metadata": {},
   "outputs": [],
   "source": [
    "d3D.v.has_data, d3D.v.is_empty"
   ]
  },
  {
   "cell_type": "markdown",
   "id": "565f8af8",
   "metadata": {},
   "source": [
    "An error is raised when a coordinate doesn't exist"
   ]
  },
  {
   "cell_type": "code",
   "execution_count": null,
   "id": "3a397830",
   "metadata": {},
   "outputs": [],
   "source": [
    "try:\n",
    "    d3D.x\n",
    "except Exception as e:\n",
    "    scp.error_(Exception, e)"
   ]
  },
  {
   "cell_type": "markdown",
   "id": "f4f4639b",
   "metadata": {},
   "source": [
    "In some case it can also be useful to get a coordinate from its title instead of its\n",
    "name (the limitation is that if\n",
    "several coordinates have the same title, then only the first ones that is found in\n",
    "the coordinate list, will be\n",
    "returned - this can be ambiguous)"
   ]
  },
  {
   "cell_type": "code",
   "execution_count": null,
   "id": "7fb82571",
   "metadata": {},
   "outputs": [],
   "source": [
    "d3D[\"time\"]"
   ]
  },
  {
   "cell_type": "code",
   "execution_count": null,
   "id": "5f6c7b74",
   "metadata": {},
   "outputs": [],
   "source": [
    "d3D.time"
   ]
  },
  {
   "cell_type": "markdown",
   "id": "50e34fd6",
   "metadata": {},
   "source": [
    "## Labels"
   ]
  },
  {
   "cell_type": "markdown",
   "id": "d0ff883b",
   "metadata": {},
   "source": [
    "It is possible to use labels instead of numerical coordinates. Labels are sequences of\n",
    "objects. The length of the sequence must be equal to the size of the dimension."
   ]
  },
  {
   "cell_type": "code",
   "execution_count": null,
   "id": "69f21c4b",
   "metadata": {},
   "outputs": [],
   "source": [
    "tags = list(\"ab\")\n",
    "d3D.u.title = \"some tags\"\n",
    "d3D.u.labels = tags\n",
    "d3D"
   ]
  },
  {
   "cell_type": "markdown",
   "id": "c0f9ca81",
   "metadata": {},
   "source": [
    "or more complex objects.\n",
    "\n",
    "For instance here we use datetime.timedelta objects:"
   ]
  },
  {
   "cell_type": "code",
   "execution_count": null,
   "id": "5c473086",
   "metadata": {},
   "outputs": [],
   "source": [
    "from datetime import timedelta\n",
    "\n",
    "start = timedelta(0)\n",
    "times = [start + timedelta(seconds=x * 60) for x in range(6)]\n",
    "d3D.t = None\n",
    "d3D.t.labels = times\n",
    "d3D.t.title = \"time\"\n",
    "d3D"
   ]
  },
  {
   "cell_type": "markdown",
   "id": "b9a3fede",
   "metadata": {},
   "source": [
    "In this case, getting a coordinate that doesn't possess numerical data but labels,\n",
    "will return the labels"
   ]
  },
  {
   "cell_type": "code",
   "execution_count": null,
   "id": "654380b9",
   "metadata": {},
   "outputs": [],
   "source": [
    "d3D.time"
   ]
  },
  {
   "cell_type": "markdown",
   "id": "eaa0c1d0",
   "metadata": {},
   "source": [
    "# More insight on coordinates"
   ]
  },
  {
   "cell_type": "markdown",
   "id": "980682ac",
   "metadata": {},
   "source": [
    "## Sharing coordinates between dimensions"
   ]
  },
  {
   "cell_type": "markdown",
   "id": "9d522db8",
   "metadata": {},
   "source": [
    "Sometimes it is not necessary to have different coordinates for each axis. Some can be\n",
    "shared between axes.\n",
    "\n",
    "For example, if we have a square matrix with the same coordinate in the two\n",
    "dimensions, the second dimension can\n",
    "refer to the first. Here we create a square 2D dataset, using the `diag` method:"
   ]
  },
  {
   "cell_type": "code",
   "execution_count": null,
   "id": "37ee2e50",
   "metadata": {},
   "outputs": [],
   "source": [
    "nd = NDDataset.diag((3, 3, 2.5))\n",
    "nd"
   ]
  },
  {
   "cell_type": "markdown",
   "id": "ed809192",
   "metadata": {},
   "source": [
    "and then we add the same coordinate for both dimensions"
   ]
  },
  {
   "cell_type": "code",
   "execution_count": null,
   "id": "838fec64",
   "metadata": {},
   "outputs": [],
   "source": [
    "coordx = Coord.arange(3)\n",
    "nd.set_coordset(x=coordx, y=\"x\")\n",
    "nd"
   ]
  },
  {
   "cell_type": "markdown",
   "id": "e7e2f1fe",
   "metadata": {},
   "source": [
    "## Setting coordinates using `set_coordset`"
   ]
  },
  {
   "cell_type": "markdown",
   "id": "fb539fe9",
   "metadata": {},
   "source": [
    "Let's create 3 `Coord` objects to be used as coordinates for the 3 dimensions of the\n",
    "previous d3D dataset."
   ]
  },
  {
   "cell_type": "code",
   "execution_count": null,
   "id": "ee62e38b",
   "metadata": {},
   "outputs": [],
   "source": [
    "d3D.dims = [\"t\", \"v\", \"u\"]\n",
    "s0, s1, s2 = d3D.shape\n",
    "coord0 = Coord.linspace(10.0, 100.0, s0, units=\"m\", title=\"distance\")\n",
    "coord1 = Coord.linspace(20.0, 25.0, s1, units=\"K\", title=\"temperature\")\n",
    "coord2 = Coord.linspace(0.0, 1000.0, s2, units=\"hour\", title=\"elapsed time\")"
   ]
  },
  {
   "cell_type": "markdown",
   "id": "58d881b7",
   "metadata": {},
   "source": [
    "### Syntax 1"
   ]
  },
  {
   "cell_type": "code",
   "execution_count": null,
   "id": "81017b9f",
   "metadata": {},
   "outputs": [],
   "source": [
    "d3D.set_coordset(u=coord2, v=coord1, t=coord0)\n",
    "d3D"
   ]
  },
  {
   "cell_type": "markdown",
   "id": "d95b04e9",
   "metadata": {},
   "source": [
    "### Syntax 2"
   ]
  },
  {
   "cell_type": "code",
   "execution_count": null,
   "id": "b628ef86",
   "metadata": {},
   "outputs": [],
   "source": [
    "d3D.set_coordset({\"u\": coord2, \"v\": coord1, \"t\": coord0})\n",
    "d3D"
   ]
  },
  {
   "cell_type": "markdown",
   "id": "28c020f3",
   "metadata": {},
   "source": [
    "## Adding several coordinates to a single dimension\n",
    "We can add several coordinates to the same dimension"
   ]
  },
  {
   "cell_type": "code",
   "execution_count": null,
   "id": "ae852669",
   "metadata": {},
   "outputs": [],
   "source": [
    "coord1b = Coord([1, 2, 3, 4], units=\"millitesla\", title=\"magnetic field\")"
   ]
  },
  {
   "cell_type": "code",
   "execution_count": null,
   "id": "e7158365",
   "metadata": {},
   "outputs": [],
   "source": [
    "d3D.set_coordset(u=coord2, v=[coord1, coord1b], t=coord0)\n",
    "d3D"
   ]
  },
  {
   "cell_type": "markdown",
   "id": "8e819cfa",
   "metadata": {},
   "source": [
    "We can retrieve the various coordinates for a single dimension easily:"
   ]
  },
  {
   "cell_type": "code",
   "execution_count": null,
   "id": "78c0095c",
   "metadata": {},
   "outputs": [],
   "source": [
    "d3D.v_1"
   ]
  },
  {
   "cell_type": "markdown",
   "id": "e06b46d7",
   "metadata": {},
   "source": [
    "## Math operations on coordinates\n",
    "Arithmetic operations can be performed on single coordinates:"
   ]
  },
  {
   "cell_type": "code",
   "execution_count": null,
   "id": "5b566b5f",
   "metadata": {},
   "outputs": [],
   "source": [
    "d3D.u = d3D.u * 2\n",
    "d3D.u"
   ]
  },
  {
   "cell_type": "markdown",
   "id": "73dbc550",
   "metadata": {},
   "source": [
    "The ufunc numpy functions can also be applied, and will affect both the magnitude and\n",
    "the units of the coordinates:"
   ]
  },
  {
   "cell_type": "code",
   "execution_count": null,
   "id": "571fc2f2",
   "metadata": {},
   "outputs": [],
   "source": [
    "d3D.u = 1.5 + np.sqrt(d3D.u)\n",
    "d3D.u"
   ]
  },
  {
   "cell_type": "markdown",
   "id": "cc404575",
   "metadata": {},
   "source": [
    "A particularly frequent use case is to subtract the initial value from a coordinate. This can be done\n",
    "directly with the `-` operator:"
   ]
  },
  {
   "cell_type": "code",
   "execution_count": null,
   "id": "13248429",
   "metadata": {},
   "outputs": [],
   "source": [
    "d3D.u = d3D.u - d3D.u[0]\n",
    "d3D.u"
   ]
  },
  {
   "cell_type": "markdown",
   "id": "307dc72e",
   "metadata": {},
   "source": [
    "The operations above will generally *not* work on multiple coordinates, and\n",
    "will raise an error if attempted:"
   ]
  },
  {
   "cell_type": "code",
   "execution_count": null,
   "id": "fd515c07",
   "metadata": {},
   "outputs": [],
   "source": [
    "try:\n",
    "    d3D.v = d3D.v - 1.5\n",
    "except NotImplementedError as e:\n",
    "    scp.error_(NotImplementedError, e)"
   ]
  },
  {
   "cell_type": "markdown",
   "id": "51bb8be9",
   "metadata": {},
   "source": [
    "Only subtraction between multiple coordinates is allowed, and will return a new `CoordSet` where each coordinate\n",
    "has been subtracted:"
   ]
  },
  {
   "cell_type": "code",
   "execution_count": null,
   "id": "d05e8d40",
   "metadata": {},
   "outputs": [],
   "source": [
    "d3D.v = d3D.v - d3D.v[0]\n",
    "d3D.v"
   ]
  },
  {
   "cell_type": "markdown",
   "id": "0dcd32bc",
   "metadata": {},
   "source": [
    "It is always possible to carry out operations on a given coordinate\n",
    "of a CoordSet. This must be done by accessing the coordinate by its name, e.g. `'temperature'` or `'_2'` for\n",
    "the second coordinate of the `v` dimension:"
   ]
  },
  {
   "cell_type": "code",
   "execution_count": null,
   "id": "31d50cdc",
   "metadata": {},
   "outputs": [],
   "source": [
    "d3D.v[\"_2\"] = d3D.v[\"_2\"] + 5.0\n",
    "d3D.v"
   ]
  },
  {
   "cell_type": "markdown",
   "id": "8bf68cf8",
   "metadata": {},
   "source": [
    "## Summary of the coordinate setting syntax\n",
    "Some additional information about coordinate setting syntax"
   ]
  },
  {
   "cell_type": "markdown",
   "id": "a7cf824f",
   "metadata": {},
   "source": [
    "**A.** First syntax (probably the safer because the name of the dimension is\n",
    "specified, so this is less prone to\n",
    "errors!)"
   ]
  },
  {
   "cell_type": "code",
   "execution_count": null,
   "id": "fdbe8ddd",
   "metadata": {},
   "outputs": [],
   "source": [
    "d3D.set_coordset(u=coord2, v=[coord1, coord1b], t=coord0)\n",
    "# or equivalent\n",
    "d3D.set_coordset(u=coord2, v=CoordSet(coord1, coord1b), t=coord0)\n",
    "d3D"
   ]
  },
  {
   "cell_type": "markdown",
   "id": "85a97b58",
   "metadata": {},
   "source": [
    "**B.** Second syntax assuming the coordinates are given in the order of the\n",
    "dimensions.\n",
    "\n",
    "Remember that we can check this order using the `dims` attribute of a NDDataset"
   ]
  },
  {
   "cell_type": "code",
   "execution_count": null,
   "id": "e78d6d3f",
   "metadata": {},
   "outputs": [],
   "source": [
    "d3D.dims"
   ]
  },
  {
   "cell_type": "code",
   "execution_count": null,
   "id": "e25c8984",
   "metadata": {},
   "outputs": [],
   "source": [
    "d3D.set_coordset((coord0, [coord1, coord1b], coord2))\n",
    "# or equivalent\n",
    "d3D.set_coordset(coord0, CoordSet(coord1, coord1b), coord2)\n",
    "d3D"
   ]
  },
  {
   "cell_type": "markdown",
   "id": "1e5c3b35",
   "metadata": {},
   "source": [
    "**C.** Third syntax (from a dictionary)"
   ]
  },
  {
   "cell_type": "code",
   "execution_count": null,
   "id": "c24ae274",
   "metadata": {},
   "outputs": [],
   "source": [
    "d3D.set_coordset({\"t\": coord0, \"u\": coord2, \"v\": [coord1, coord1b]})\n",
    "d3D"
   ]
  },
  {
   "cell_type": "markdown",
   "id": "e46f9b58",
   "metadata": {},
   "source": [
    "**D.** It is also possible to use directly the `CoordSet` property"
   ]
  },
  {
   "cell_type": "code",
   "execution_count": null,
   "id": "97af6c69",
   "metadata": {},
   "outputs": [],
   "source": [
    "d3D.coordset = coord0, [coord1, coord1b], coord2\n",
    "d3D"
   ]
  },
  {
   "cell_type": "code",
   "execution_count": null,
   "id": "7b161b72",
   "metadata": {},
   "outputs": [],
   "source": [
    "d3D.coordset = {\"t\": coord0, \"u\": coord2, \"v\": [coord1, coord1b]}\n",
    "d3D"
   ]
  },
  {
   "cell_type": "code",
   "execution_count": null,
   "id": "8e97f2da",
   "metadata": {},
   "outputs": [],
   "source": [
    "d3D.coordset = CoordSet(t=coord0, u=coord2, v=[coord1, coord1b])\n",
    "d3D"
   ]
  },
  {
   "cell_type": "markdown",
   "id": "201f1aa4",
   "metadata": {},
   "source": [
    "<div class='alert alert-warning'>\n",
    "<b>WARNING</b>\n",
    "<p>\n",
    "Do not use lists for setting multiple coordinates across different dimensions! Use tuples instead.\n",
    "</p>\n",
    "<p>\n",
    "Lists have a special meaning in SpectroChemPy - they're used to set multiple coordinates for the same dimension.\n",
    "</p>\n",
    "</div>"
   ]
  },
  {
   "cell_type": "markdown",
   "id": "8be3f8a3",
   "metadata": {},
   "source": [
    "This raises an error (lists have another meaning: they're used to set multiple coordinates\n",
    "for the same dimension, as shown in examples A and B above):"
   ]
  },
  {
   "cell_type": "code",
   "execution_count": null,
   "id": "00da2bde",
   "metadata": {},
   "outputs": [],
   "source": [
    "try:\n",
    "    d3D.coordset = [coord0, coord1, coord2]\n",
    "except ValueError:\n",
    "    scp.error_(\n",
    "        ValueError,\n",
    "        \"Coordinates must be of the same size for a dimension with multiple coordinates\",\n",
    "    )"
   ]
  },
  {
   "cell_type": "markdown",
   "id": "6ea2a1d5",
   "metadata": {},
   "source": [
    "This works: it uses a tuple `()`, not a list `[]`"
   ]
  },
  {
   "cell_type": "code",
   "execution_count": null,
   "id": "42a73c98",
   "metadata": {},
   "outputs": [],
   "source": [
    "d3D.coordset = (\n",
    "    coord0,\n",
    "    coord1,\n",
    "    coord2,\n",
    ")  # equivalent to d3D.coordset = coord0, coord1, coord2\n",
    "d3D"
   ]
  },
  {
   "cell_type": "markdown",
   "id": "f7cb56c5",
   "metadata": {},
   "source": [
    "**E.** Setting the coordinates individually"
   ]
  },
  {
   "cell_type": "markdown",
   "id": "65216e64",
   "metadata": {},
   "source": [
    "Either a single coordinate"
   ]
  },
  {
   "cell_type": "code",
   "execution_count": null,
   "id": "924649ad",
   "metadata": {
    "lines_to_next_cell": 0
   },
   "outputs": [],
   "source": [
    "d3D.u = coord2\n",
    "d3D"
   ]
  },
  {
   "cell_type": "markdown",
   "id": "a04196c1",
   "metadata": {},
   "source": [
    "or multiple coordinates for a single dimension"
   ]
  },
  {
   "cell_type": "code",
   "execution_count": null,
   "id": "bd739065",
   "metadata": {
    "lines_to_next_cell": 0
   },
   "outputs": [],
   "source": [
    "d3D.v = [coord1, coord1b]\n",
    "d3D"
   ]
  },
  {
   "cell_type": "markdown",
   "id": "16394f16",
   "metadata": {},
   "source": [
    "or using a CoordSet object."
   ]
  },
  {
   "cell_type": "code",
   "execution_count": null,
   "id": "84cd3eaf",
   "metadata": {},
   "outputs": [],
   "source": [
    "d3D.v = CoordSet(coord1, coord1b)\n",
    "d3D"
   ]
  },
  {
   "cell_type": "markdown",
   "id": "614d5448",
   "metadata": {},
   "source": [
    "# Methods to create NDDataset\n",
    "\n",
    "There are many ways to create `NDDataset` objects.\n",
    "\n",
    "Let's first create 2 coordinate objects, for which we can define `labels` and `units`.\n",
    "Note the use of the function `linspace` to generate the data."
   ]
  },
  {
   "cell_type": "code",
   "execution_count": null,
   "id": "87157d0c",
   "metadata": {},
   "outputs": [],
   "source": [
    "c0 = Coord.linspace(\n",
    "    start=4000.0, stop=1000.0, num=5, labels=None, units=\"cm^-1\", title=\"wavenumber\"\n",
    ")"
   ]
  },
  {
   "cell_type": "code",
   "execution_count": null,
   "id": "d14c3577",
   "metadata": {},
   "outputs": [],
   "source": [
    "c1 = Coord.linspace(\n",
    "    10.0, 40.0, 3, labels=[\"Cold\", \"RT\", \"Hot\"], units=\"K\", title=\"temperature\"\n",
    ")"
   ]
  },
  {
   "cell_type": "markdown",
   "id": "ea9e2c89",
   "metadata": {},
   "source": [
    "The full coordset will be the following"
   ]
  },
  {
   "cell_type": "code",
   "execution_count": null,
   "id": "08426dda",
   "metadata": {
    "lines_to_next_cell": 2
   },
   "outputs": [],
   "source": [
    "cs = CoordSet(c0, c1)\n",
    "cs"
   ]
  },
  {
   "cell_type": "markdown",
   "id": "7e98b1b1",
   "metadata": {},
   "source": [
    "Now we will generate the full dataset using the `fromfunction` method.\n",
    "All needed information is passed as\n",
    "parameters to the NDDataset constructor."
   ]
  },
  {
   "cell_type": "markdown",
   "id": "34504e7b",
   "metadata": {
    "lines_to_next_cell": 2
   },
   "source": [
    "## Create a dataset from a function"
   ]
  },
  {
   "cell_type": "code",
   "execution_count": null,
   "id": "cd0b6231",
   "metadata": {},
   "outputs": [],
   "source": [
    "def func(x, y, extra):\n",
    "    return x * y / extra"
   ]
  },
  {
   "cell_type": "code",
   "execution_count": null,
   "id": "bff1376b",
   "metadata": {},
   "outputs": [],
   "source": [
    "ds = NDDataset.fromfunction(\n",
    "    func,\n",
    "    extra=100 * ur.cm**-1,  # extra arguments passed to the function\n",
    "    coordset=cs,\n",
    "    name=\"mydataset\",\n",
    "    title=\"absorbance\",\n",
    "    units=None,\n",
    ")  # when None, units will be determined from the function results\n",
    "\n",
    "ds.description = \"\"\"Dataset example created for this tutorial.\n",
    "It's a 2-D dataset\"\"\"\n",
    "\n",
    "ds.author = \"Blake & Mortimer\"\n",
    "ds"
   ]
  },
  {
   "cell_type": "markdown",
   "id": "a6239b01",
   "metadata": {},
   "source": [
    "## Using numpy-like constructors of NDDatasets"
   ]
  },
  {
   "cell_type": "code",
   "execution_count": null,
   "id": "585865a9",
   "metadata": {},
   "outputs": [],
   "source": [
    "dz = NDDataset.zeros(\n",
    "    (5, 3), coordset=cs, units=\"meters\", title=\"Datasets with only zeros\"\n",
    ")"
   ]
  },
  {
   "cell_type": "code",
   "execution_count": null,
   "id": "7c8070ea",
   "metadata": {},
   "outputs": [],
   "source": [
    "do = NDDataset.ones(\n",
    "    (5, 3), coordset=cs, units=\"kilograms\", title=\"Datasets with only ones\"\n",
    ")"
   ]
  },
  {
   "cell_type": "code",
   "execution_count": null,
   "id": "c17c8413",
   "metadata": {},
   "outputs": [],
   "source": [
    "df = NDDataset.full(\n",
    "    (5, 3), fill_value=1.25, coordset=cs, units=\"radians\", title=\"with only float=1.25\"\n",
    ")\n",
    "df"
   ]
  },
  {
   "cell_type": "markdown",
   "id": "a1df3c3c",
   "metadata": {},
   "source": [
    "As with numpy, it is also possible to take another dataset as a template:"
   ]
  },
  {
   "cell_type": "code",
   "execution_count": null,
   "id": "b12e24b2",
   "metadata": {},
   "outputs": [],
   "source": [
    "df = NDDataset.full_like(d3D, dtype=\"int\", fill_value=2)\n",
    "df"
   ]
  },
  {
   "cell_type": "code",
   "execution_count": null,
   "id": "9ff86aea",
   "metadata": {},
   "outputs": [],
   "source": [
    "nd = NDDataset.diag((3, 3, 2.5))\n",
    "nd"
   ]
  },
  {
   "cell_type": "markdown",
   "id": "b7b1ce21",
   "metadata": {},
   "source": [
    "## Copying existing NDDataset\n",
    "\n",
    "To copy an existing dataset, this is as simple as:"
   ]
  },
  {
   "cell_type": "code",
   "execution_count": null,
   "id": "082ded5c",
   "metadata": {},
   "outputs": [],
   "source": [
    "d3D_copy = d3D.copy()"
   ]
  },
  {
   "cell_type": "markdown",
   "id": "fe843513",
   "metadata": {},
   "source": [
    "or alternatively:"
   ]
  },
  {
   "cell_type": "code",
   "execution_count": null,
   "id": "f10016f2",
   "metadata": {},
   "outputs": [],
   "source": [
    "d3D_copy = d3D[:]"
   ]
  },
  {
   "cell_type": "markdown",
   "id": "e865a9ed",
   "metadata": {},
   "source": [
    "Finally, it is also possible to initialize a dataset using an existing one:"
   ]
  },
  {
   "cell_type": "code",
   "execution_count": null,
   "id": "1aec5a86",
   "metadata": {},
   "outputs": [],
   "source": [
    "d3Dduplicate = NDDataset(d3D, name=f\"duplicate of {d3D.name}\", units=\"absorbance\")\n",
    "d3Dduplicate"
   ]
  },
  {
   "cell_type": "markdown",
   "id": "66f7e016",
   "metadata": {},
   "source": [
    "## Importing from external datasets\n",
    "\n",
    "NDDatasets can be created from the importation of external data.\n",
    "\n",
    "A **test** data folder contains some sample data for experimenting with features of\n",
    "datasets."
   ]
  },
  {
   "cell_type": "code",
   "execution_count": null,
   "id": "4a71d8d5",
   "metadata": {},
   "outputs": [],
   "source": [
    "# let check if this directory exists and display its actual content:\n",
    "datadir = scp.preferences.datadir\n",
    "if datadir.exists():\n",
    "    print(datadir.name)"
   ]
  },
  {
   "cell_type": "markdown",
   "id": "a65ae643",
   "metadata": {},
   "source": [
    "Let's load grouped IR spectra acquired using OMNIC:"
   ]
  },
  {
   "cell_type": "code",
   "execution_count": null,
   "id": "943cffd2",
   "metadata": {},
   "outputs": [],
   "source": [
    "nd = scp.read_omnic(datadir / \"irdata/nh4y-activation.spg\")\n",
    "scp.preferences.reset()\n",
    "nd.plot()"
   ]
  },
  {
   "cell_type": "markdown",
   "id": "9bed8bb8",
   "metadata": {},
   "source": [
    "Even if we do not specify the **datadir**, the application first looks in the\n",
    "default directory."
   ]
  },
  {
   "cell_type": "markdown",
   "id": "b4e67ca0",
   "metadata": {},
   "source": [
    "Now, lets load a NMR dataset (in the Bruker format)."
   ]
  },
  {
   "cell_type": "code",
   "execution_count": null,
   "id": "9c3c1c4c",
   "metadata": {},
   "outputs": [],
   "source": [
    "path = datadir / \"nmrdata\" / \"bruker\" / \"tests\" / \"nmr\" / \"topspin_2d\"\n",
    "\n",
    "# load the data directly (no need to create the dataset first)\n",
    "nd2 = scp.read_topspin(path, expno=1, remove_digital_filter=True)\n",
    "\n",
    "# view it...\n",
    "nd2.x.to(\"s\")\n",
    "nd2.y.to(\"ms\")\n",
    "\n",
    "ax = nd2.plot(method=\"map\")"
   ]
  }
 ],
 "metadata": {
  "jupytext": {
   "formats": "ipynb,py:percent",
   "notebook_metadata_filter": "all"
  },
  "kernelspec": {
   "display_name": "Python 3 (ipykernel)",
   "language": "python",
   "name": "python3"
  },
  "language_info": {
   "codemirror_mode": {
    "name": "ipython",
    "version": 3
   },
   "file_extension": ".py",
   "mimetype": "text/x-python",
   "name": "python",
   "nbconvert_exporter": "python",
   "pygments_lexer": "ipython3",
   "version": "3.13.2"
  },
  "widgets": {
   "application/vnd.jupyter.widget-state+json": {
    "state": {},
    "version_major": 2,
    "version_minor": 0
   }
  }
 },
 "nbformat": 4,
 "nbformat_minor": 5
}
