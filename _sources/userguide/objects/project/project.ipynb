{
 "cells": [
  {
   "cell_type": "markdown",
   "id": "211d8976",
   "metadata": {},
   "source": [
    "# Project management\n",
    "\n",
    "from pathlib import Path"
   ]
  },
  {
   "cell_type": "code",
   "execution_count": null,
   "id": "ce02268e",
   "metadata": {},
   "outputs": [],
   "source": [
    "from spectrochempy import Project\n",
    "from spectrochempy import pathclean\n",
    "from spectrochempy import preferences as prefs"
   ]
  },
  {
   "cell_type": "markdown",
   "id": "708c5044",
   "metadata": {},
   "source": [
    "## Project creation\n",
    "We can easily create a new project to store various datasets"
   ]
  },
  {
   "cell_type": "code",
   "execution_count": null,
   "id": "ec081921",
   "metadata": {},
   "outputs": [],
   "source": [
    "proj = Project()"
   ]
  },
  {
   "cell_type": "markdown",
   "id": "18eea429",
   "metadata": {},
   "source": [
    "As we did not specify a name, a name has been attributed automatically:"
   ]
  },
  {
   "cell_type": "code",
   "execution_count": null,
   "id": "7c6cce7e",
   "metadata": {},
   "outputs": [],
   "source": [
    "proj.name"
   ]
  },
  {
   "cell_type": "markdown",
   "id": "b99346a3",
   "metadata": {},
   "source": [
    "------\n",
    "To get the signature of the object, one can use the usual '?'. Uncomment the following line to check"
   ]
  },
  {
   "cell_type": "code",
   "execution_count": null,
   "id": "2b0fe335",
   "metadata": {},
   "outputs": [],
   "source": [
    "# Project?"
   ]
  },
  {
   "cell_type": "markdown",
   "id": "7e687e03",
   "metadata": {},
   "source": [
    "----\n",
    "Let's change this name"
   ]
  },
  {
   "cell_type": "code",
   "execution_count": null,
   "id": "f0ec4b37",
   "metadata": {},
   "outputs": [],
   "source": [
    "proj.name = \"myNMRdata\"\n",
    "proj"
   ]
  },
  {
   "cell_type": "markdown",
   "id": "57e56d39",
   "metadata": {},
   "source": [
    "Now we will add a dataset to the project.\n",
    "\n",
    "First we read the dataset (here some NMR data) and we give it some name (e.g. 'nmr n°1')"
   ]
  },
  {
   "cell_type": "code",
   "execution_count": null,
   "id": "196d4878",
   "metadata": {},
   "outputs": [],
   "source": [
    "datadir = pathclean(prefs.datadir)\n",
    "path = datadir / \"nmrdata\" / \"bruker\" / \"tests\" / \"nmr\"\n",
    "\n",
    "from spectrochempy import read_topspin\n",
    "\n",
    "nd1 = read_topspin(\n",
    "    path / \"topspin_1d\", expno=1, remove_digital_filter=True, name=\"NMR_1D\"\n",
    ")\n",
    "nd2 = read_topspin(\n",
    "    path / \"topspin_2d\", expno=1, remove_digital_filter=True, name=\"NMR_2D\"\n",
    ")"
   ]
  },
  {
   "cell_type": "markdown",
   "id": "02ac9a0f",
   "metadata": {},
   "source": [
    "To add it to the project, we use the `add_dataset` function for a single dataset:"
   ]
  },
  {
   "cell_type": "code",
   "execution_count": null,
   "id": "bff684a4",
   "metadata": {},
   "outputs": [],
   "source": [
    "proj.add_datasets(nd1)"
   ]
  },
  {
   "cell_type": "markdown",
   "id": "3a461950",
   "metadata": {},
   "source": [
    "or `add_datasets` for several datasets."
   ]
  },
  {
   "cell_type": "code",
   "execution_count": null,
   "id": "14c7d199",
   "metadata": {},
   "outputs": [],
   "source": [
    "proj.add_datasets(nd1, nd2)"
   ]
  },
  {
   "cell_type": "markdown",
   "id": "4e0cdbb3",
   "metadata": {},
   "source": [
    "Display its structure"
   ]
  },
  {
   "cell_type": "code",
   "execution_count": null,
   "id": "2c516b63",
   "metadata": {},
   "outputs": [],
   "source": [
    "proj"
   ]
  },
  {
   "cell_type": "markdown",
   "id": "938e58cc",
   "metadata": {},
   "source": [
    "It is also possible to add other projects as sub-project (using the `add_project` )"
   ]
  },
  {
   "cell_type": "markdown",
   "id": "5b16018e",
   "metadata": {},
   "source": [
    "## Remove an element from a project"
   ]
  },
  {
   "cell_type": "code",
   "execution_count": null,
   "id": "407848be",
   "metadata": {},
   "outputs": [],
   "source": [
    "proj.remove_dataset(\"NMR_1D\")\n",
    "proj"
   ]
  },
  {
   "cell_type": "markdown",
   "id": "52ba52c5",
   "metadata": {},
   "source": [
    "## Get project's elements"
   ]
  },
  {
   "cell_type": "code",
   "execution_count": null,
   "id": "f94016b9",
   "metadata": {},
   "outputs": [],
   "source": [
    "proj.add_datasets(nd1, nd2)\n",
    "proj"
   ]
  },
  {
   "cell_type": "markdown",
   "id": "294f2ba2",
   "metadata": {},
   "source": [
    "We can just use the name of the element as a project attribute."
   ]
  },
  {
   "cell_type": "code",
   "execution_count": null,
   "id": "aa9c1d91",
   "metadata": {},
   "outputs": [],
   "source": [
    "proj.NMR_1D"
   ]
  },
  {
   "cell_type": "code",
   "execution_count": null,
   "id": "a5ea8d7e",
   "metadata": {},
   "outputs": [],
   "source": [
    "proj.NMR_1D.plot()"
   ]
  },
  {
   "cell_type": "markdown",
   "id": "18e1c914",
   "metadata": {},
   "source": [
    "However, this work only if the name contains no space, dot, comma, colon, etc.\n",
    "The only special character allowed is\n",
    "the underscore `_` .  If the name is not respecting this, then it is possible to use\n",
    "the following syntax (as a\n",
    "project behave as a dictionary). For example:"
   ]
  },
  {
   "cell_type": "code",
   "execution_count": null,
   "id": "7c2661fd",
   "metadata": {},
   "outputs": [],
   "source": [
    "proj[\"NMR_1D\"].data"
   ]
  },
  {
   "cell_type": "code",
   "execution_count": null,
   "id": "1c4c86b2",
   "metadata": {},
   "outputs": [],
   "source": [
    "proj.NMR_2D"
   ]
  },
  {
   "cell_type": "markdown",
   "id": "6a2d9763",
   "metadata": {},
   "source": [
    "## Saving and loading projects"
   ]
  },
  {
   "cell_type": "code",
   "execution_count": null,
   "id": "a7c32238",
   "metadata": {},
   "outputs": [],
   "source": [
    "proj"
   ]
  },
  {
   "cell_type": "markdown",
   "id": "ba51af70",
   "metadata": {},
   "source": [
    "#### Saving"
   ]
  },
  {
   "cell_type": "code",
   "execution_count": null,
   "id": "09a6595d",
   "metadata": {},
   "outputs": [],
   "source": [
    "proj.save_as(\"NMR\")"
   ]
  },
  {
   "cell_type": "markdown",
   "id": "b0bdd604",
   "metadata": {},
   "source": [
    "#### Loading"
   ]
  },
  {
   "cell_type": "code",
   "execution_count": null,
   "id": "b3fb2ef4",
   "metadata": {},
   "outputs": [],
   "source": [
    "proj2 = Project.load(\"NMR\")"
   ]
  },
  {
   "cell_type": "code",
   "execution_count": null,
   "id": "fc746798",
   "metadata": {},
   "outputs": [],
   "source": [
    "proj2"
   ]
  },
  {
   "cell_type": "code",
   "execution_count": null,
   "id": "c770e110",
   "metadata": {},
   "outputs": [],
   "source": [
    "proj2.NMR_1D.plot()"
   ]
  },
  {
   "cell_type": "code",
   "execution_count": null,
   "id": "1df89b42",
   "metadata": {},
   "outputs": [],
   "source": [
    "proj2.NMR_2D"
   ]
  },
  {
   "cell_type": "code",
   "execution_count": null,
   "id": "4a01a4d8",
   "metadata": {},
   "outputs": [],
   "source": [
    "proj.NMR_2D.plot()"
   ]
  },
  {
   "cell_type": "code",
   "execution_count": null,
   "id": "e0e4c768",
   "metadata": {},
   "outputs": [],
   "source": []
  }
 ],
 "metadata": {
  "jupytext": {
   "formats": "ipynb,py:percent",
   "notebook_metadata_filter": "all"
  },
  "kernelspec": {
   "display_name": "Python 3 (ipykernel)",
   "language": "python",
   "name": "python3"
  },
  "language_info": {
   "codemirror_mode": {
    "name": "ipython",
    "version": 3
   },
   "file_extension": ".py",
   "mimetype": "text/x-python",
   "name": "python",
   "nbconvert_exporter": "python",
   "pygments_lexer": "ipython3",
   "version": "3.9.9"
  },
  "widgets": {
   "application/vnd.jupyter.widget-state+json": {
    "state": {},
    "version_major": 2,
    "version_minor": 0
   }
  }
 },
 "nbformat": 4,
 "nbformat_minor": 5
}
