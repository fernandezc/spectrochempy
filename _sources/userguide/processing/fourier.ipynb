{
 "cells": [
  {
   "cell_type": "markdown",
   "id": "7f728e0f",
   "metadata": {},
   "source": [
    "# One-dimensional (1D) Fourier transformation"
   ]
  },
  {
   "cell_type": "markdown",
   "id": "4ace8ece",
   "metadata": {},
   "source": [
    "In this notebook, we are going to transform time-domain data into 1D or 2D spectra using SpectroChemPy\n",
    "processing tools"
   ]
  },
  {
   "cell_type": "code",
   "execution_count": null,
   "id": "e941bad4",
   "metadata": {},
   "outputs": [],
   "source": [
    "import spectrochempy as scp"
   ]
  },
  {
   "cell_type": "markdown",
   "id": "b04ea1e1",
   "metadata": {},
   "source": [
    "## FFT of 1D NMR spectra"
   ]
  },
  {
   "cell_type": "markdown",
   "id": "33fc0719",
   "metadata": {},
   "source": [
    "First we open read some time domain data. Here is a NMD free induction decay (FID):"
   ]
  },
  {
   "cell_type": "code",
   "execution_count": null,
   "id": "23008bb4",
   "metadata": {},
   "outputs": [],
   "source": [
    "path = scp.preferences.datadir / \"nmrdata\" / \"bruker\" / \"tests\" / \"nmr\" / \"topspin_1d\"\n",
    "fid = scp.read_topspin(path)\n",
    "fid"
   ]
  },
  {
   "cell_type": "markdown",
   "id": "84642b36",
   "metadata": {},
   "source": [
    "The type of the data is complex:"
   ]
  },
  {
   "cell_type": "code",
   "execution_count": null,
   "id": "38bb3d4b",
   "metadata": {},
   "outputs": [],
   "source": [
    "fid.dtype"
   ]
  },
  {
   "cell_type": "markdown",
   "id": "97fc626d",
   "metadata": {},
   "source": [
    "We can represent both real and imaginary parts on the same plot using the `show_complex` parameter."
   ]
  },
  {
   "cell_type": "code",
   "execution_count": null,
   "id": "240d7f66",
   "metadata": {},
   "outputs": [],
   "source": [
    "prefs = scp.preferences\n",
    "prefs.figure.figsize = (6, 3)\n",
    "fid.plot(show_complex=True, xlim=(0, 15000))\n",
    "print(\"td = \", fid.size)"
   ]
  },
  {
   "cell_type": "markdown",
   "id": "41bfc496",
   "metadata": {},
   "source": [
    "Now we perform a Fast Fourier Transform (FFT):"
   ]
  },
  {
   "cell_type": "code",
   "execution_count": null,
   "id": "eeca1a3f",
   "metadata": {},
   "outputs": [],
   "source": [
    "spec = scp.fft(fid)\n",
    "spec.plot(xlim=(100, -100))\n",
    "print(\"si = \", spec.size)\n",
    "spec"
   ]
  },
  {
   "cell_type": "markdown",
   "id": "8de86551",
   "metadata": {},
   "source": [
    "**Alternative notation**"
   ]
  },
  {
   "cell_type": "code",
   "execution_count": null,
   "id": "bf40160e",
   "metadata": {},
   "outputs": [],
   "source": [
    "k = 1024\n",
    "spec = fid.fft(size=32 * k)\n",
    "spec.plot(xlim=(100, -100))\n",
    "print(\"si = \", spec.size)"
   ]
  },
  {
   "cell_type": "code",
   "execution_count": null,
   "id": "ee95cc0a",
   "metadata": {},
   "outputs": [],
   "source": [
    "newfid = spec.ifft()\n",
    "# x coordinate is in second (base units) so lets transform it\n",
    "newfid.plot(show_complex=True, xlim=(0, 15000))"
   ]
  },
  {
   "cell_type": "markdown",
   "id": "39963a13",
   "metadata": {},
   "source": [
    "Let's compare fid and newfid. There differs as a rephasing has been automatically applied after the first FFT (with\n",
    "the parameters found in the original fid metadata: PHC0 and PHC1).\n",
    "\n",
    "First point in the time domain of the real part is at the maximum."
   ]
  },
  {
   "cell_type": "code",
   "execution_count": null,
   "id": "e9af00a1",
   "metadata": {},
   "outputs": [],
   "source": [
    "newfid.real.plot(c=\"r\", label=\"fft + ifft\")\n",
    "ax = fid.real.plot(clear=False, xlim=(0, 5000), ls=\"--\", label=\"original real part\")\n",
    "_ = ax.legend()"
   ]
  },
  {
   "cell_type": "markdown",
   "id": "742341c5",
   "metadata": {},
   "source": [
    "First point in the time domain of the imaginary part is at the minimum."
   ]
  },
  {
   "cell_type": "code",
   "execution_count": null,
   "id": "3cc2dea4",
   "metadata": {},
   "outputs": [],
   "source": [
    "fid.imag.plot(ls=\"--\", label=\"original imaginary part\")\n",
    "ax = newfid.imag.plot(clear=False, xlim=(0, 5000), c=\"r\", label=\"fft + ifft\")\n",
    "_ = ax.legend(loc=\"lower right\")"
   ]
  },
  {
   "cell_type": "markdown",
   "id": "5a71be14",
   "metadata": {},
   "source": [
    "## Preprocessing\n",
    "\n",
    "### Line broadening\n",
    "Often before applying FFT, some exponential multiplication `em`or other broadening filters such as `gm` or `sp`\n",
    "are applied.\n",
    "See the dedicated [apodization tutorial](apodization.rst)."
   ]
  },
  {
   "cell_type": "code",
   "execution_count": null,
   "id": "f9d97487",
   "metadata": {},
   "outputs": [],
   "source": [
    "fid2 = fid.em(lb=\"50. Hz\")\n",
    "spec2 = fid2.fft()\n",
    "spec2.plot()\n",
    "spec.plot(\n",
    "    clear=False, xlim=(10, -5), c=\"r\"\n",
    ")  # superpose the non broadened spectrum in red and show expansion."
   ]
  },
  {
   "cell_type": "markdown",
   "id": "71515e7b",
   "metadata": {},
   "source": [
    "### Zero-filling"
   ]
  },
  {
   "cell_type": "code",
   "execution_count": null,
   "id": "b007ed24",
   "metadata": {},
   "outputs": [],
   "source": [
    "print(\"td = \", fid.size)"
   ]
  },
  {
   "cell_type": "code",
   "execution_count": null,
   "id": "498f600b",
   "metadata": {},
   "outputs": [],
   "source": [
    "td = 64 * 1024  # size: 64 K\n",
    "fid3 = fid.zf_size(size=td)\n",
    "print(\"new td = \", fid3.x.size)"
   ]
  },
  {
   "cell_type": "code",
   "execution_count": null,
   "id": "e0e68a79",
   "metadata": {},
   "outputs": [],
   "source": [
    "spec3 = fid3.fft()\n",
    "spec3.plot(xlim=(100, -100))\n",
    "print(\"si = \", spec3.size)"
   ]
  },
  {
   "cell_type": "markdown",
   "id": "009a682f",
   "metadata": {},
   "source": [
    "### Time domain baseline correction\n",
    "See the dedicated [Time domain baseline correction tutorial](td_baseline.rst)."
   ]
  },
  {
   "cell_type": "markdown",
   "id": "38f596df",
   "metadata": {},
   "source": [
    "### Magnitude calculation"
   ]
  },
  {
   "cell_type": "code",
   "execution_count": null,
   "id": "757cc4a2",
   "metadata": {},
   "outputs": [],
   "source": [
    "ms = spec.mc()\n",
    "ms.plot(xlim=(10, -10))\n",
    "spec.plot(clear=False, xlim=(10, -10), c=\"r\")"
   ]
  },
  {
   "cell_type": "markdown",
   "id": "12a832c0",
   "metadata": {},
   "source": [
    "### Power spectrum"
   ]
  },
  {
   "cell_type": "code",
   "execution_count": null,
   "id": "c898042c",
   "metadata": {},
   "outputs": [],
   "source": [
    "mp = spec.ps()\n",
    "(mp / mp.max()).plot()\n",
    "(spec / spec.max()).plot(\n",
    "    clear=False, xlim=(10, -10), c=\"r\"\n",
    ")  # Here we have normalized the spectra at their max value."
   ]
  },
  {
   "cell_type": "markdown",
   "id": "6705139c",
   "metadata": {},
   "source": [
    "# Real Fourier transform"
   ]
  },
  {
   "cell_type": "markdown",
   "id": "2bd86314",
   "metadata": {},
   "source": [
    "In some case, it might be interesting to perform real Fourier transform . For instance, as a demonstration,\n",
    "we will independently transform real and imaginary part of the previous fid, and recombine them to obtain the same\n",
    "result as when performing complex fourier transform on the complex dataset."
   ]
  },
  {
   "cell_type": "code",
   "execution_count": null,
   "id": "b5c89c76",
   "metadata": {},
   "outputs": [],
   "source": [
    "lim = (-20, 20)\n",
    "spec3.plot(xlim=lim)\n",
    "spec3.imag.plot(xlim=lim)"
   ]
  },
  {
   "cell_type": "code",
   "execution_count": null,
   "id": "f0ae1f36",
   "metadata": {},
   "outputs": [],
   "source": [
    "Re = fid3.real.astype(\"complex64\")\n",
    "fR = Re.fft()\n",
    "fR.plot(xlim=lim, show_complex=True)\n",
    "Im = fid3.imag.astype(\"complex64\")\n",
    "fI = Im.fft()\n",
    "fI.plot(xlim=lim, show_complex=True)"
   ]
  },
  {
   "cell_type": "markdown",
   "id": "7f58f155",
   "metadata": {},
   "source": [
    "Recombination:"
   ]
  },
  {
   "cell_type": "code",
   "execution_count": null,
   "id": "f23cb711",
   "metadata": {},
   "outputs": [],
   "source": [
    "(fR - fI.imag).plot(xlim=lim)\n",
    "(fR.imag + fI).plot(xlim=lim)"
   ]
  }
 ],
 "metadata": {
  "jupytext": {
   "cell_metadata_filter": "title,-all",
   "formats": "ipynb,py:percent",
   "notebook_metadata_filter": "all"
  },
  "kernelspec": {
   "display_name": "Python 3 (ipykernel)",
   "language": "python",
   "name": "python3"
  },
  "language_info": {
   "codemirror_mode": {
    "name": "ipython",
    "version": 3
   },
   "file_extension": ".py",
   "mimetype": "text/x-python",
   "name": "python",
   "nbconvert_exporter": "python",
   "pygments_lexer": "ipython3",
   "version": "3.13.2"
  },
  "widgets": {
   "application/vnd.jupyter.widget-state+json": {
    "state": {},
    "version_major": 2,
    "version_minor": 0
   }
  }
 },
 "nbformat": 4,
 "nbformat_minor": 5
}
