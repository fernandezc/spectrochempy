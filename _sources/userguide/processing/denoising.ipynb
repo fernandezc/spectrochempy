{
 "cells": [
  {
   "cell_type": "markdown",
   "id": "b612f574",
   "metadata": {},
   "source": [
    "# Denoising"
   ]
  },
  {
   "cell_type": "code",
   "execution_count": null,
   "id": "3fc2123a",
   "metadata": {},
   "outputs": [],
   "source": [
    "import spectrochempy as scp"
   ]
  },
  {
   "cell_type": "markdown",
   "id": "a3dfc593",
   "metadata": {},
   "source": [
    "## Denoising 2D spectra\n",
    "Denoising 2D spectra can be done using the above filtering techniques which can be applied sequentially\n",
    "to each rows of a 2D dataset.\n",
    "\n",
    "e.g., let's take a series of Raman spectra for demonstration: These spectra present both a significant noise and cosmic rays spikes."
   ]
  },
  {
   "cell_type": "code",
   "execution_count": null,
   "id": "f8f7b4c5",
   "metadata": {},
   "outputs": [],
   "source": [
    "# Load the data\n",
    "dataset = scp.read(\"ramandata/labspec/serie190214-1.txt\")\n",
    "# select the useful region (in particular spectra are 0 after 6500 s)\n",
    "nd = dataset[0.0:6500.0, 70.0:]\n",
    "# baseline correction the data (for a easier comparison)\n",
    "nd1 = nd.snip()\n",
    "# plot\n",
    "prefs = scp.preferences\n",
    "prefs.figure.figsize = (9, 5)\n",
    "nd1.plot()"
   ]
  },
  {
   "cell_type": "markdown",
   "id": "bfa1bd5b",
   "metadata": {},
   "source": [
    "We can apply a Savgol filter to denoise the spectra"
   ]
  },
  {
   "cell_type": "code",
   "execution_count": null,
   "id": "4220387a",
   "metadata": {},
   "outputs": [],
   "source": [
    "nd2 = nd1.savgol(size=7, order=2)\n",
    "nd2.plot()"
   ]
  },
  {
   "cell_type": "markdown",
   "id": "3c432246",
   "metadata": {},
   "source": [
    "The problem is that, not only the spikes are not removed, but they are also broadened."
   ]
  },
  {
   "cell_type": "markdown",
   "id": "6f7e44f8",
   "metadata": {},
   "source": [
    "A better way to simply denoise this spectra is to use the `denoise` dataset method.\n",
    "\n",
    "The ratio parameter fix the amount of variance we want to preserve in % (default 99.8%)"
   ]
  },
  {
   "cell_type": "code",
   "execution_count": null,
   "id": "d6bde2aa",
   "metadata": {},
   "outputs": [],
   "source": [
    "nd3 = nd1.denoise(ratio=90)\n",
    "nd3.plot()"
   ]
  },
  {
   "cell_type": "markdown",
   "id": "9bcddcae",
   "metadata": {},
   "source": [
    "This clearly help to increase the signal-to-noise ratio.\n",
    "However, it apparently has in the present case a poor effect on eliminating cosmic ray peaks."
   ]
  },
  {
   "cell_type": "markdown",
   "id": "553cf3e3",
   "metadata": {},
   "source": [
    "## Removing cosmic rays spike from Raman spectra"
   ]
  },
  {
   "cell_type": "markdown",
   "id": "a1ac8947",
   "metadata": {},
   "source": [
    "### Median filter"
   ]
  },
  {
   "cell_type": "markdown",
   "id": "54d93d45",
   "metadata": {},
   "source": [
    "A first way to perform this is to apply a median-filter to the data"
   ]
  },
  {
   "cell_type": "code",
   "execution_count": null,
   "id": "8eb9f116",
   "metadata": {},
   "outputs": [],
   "source": [
    "filter = scp.Filter(method=\"median\", size=5)\n",
    "nd4 = filter(nd1)\n",
    "nd4.plot()"
   ]
  },
  {
   "cell_type": "markdown",
   "id": "042ab63f",
   "metadata": {},
   "source": [
    "However, the spike are not fully removed, and are broadened."
   ]
  },
  {
   "cell_type": "markdown",
   "id": "ddc484c7",
   "metadata": {},
   "source": [
    "### `despike` method\n",
    "\n",
    "To obtain better results, one can use the despike methods. The default method ('katsumo') is based on\n",
    ":cite:t:`katsumoto:2003`. The second one ('whitaker') is based on :cite:t:`Whitaker:2018`\n",
    "For both methods, only two parameters needs to be tuned: `delta`, a threshold for the detection of spikes, and\n",
    "`size` the size of the window to consider around the spike to estimate the original intensity."
   ]
  },
  {
   "cell_type": "code",
   "execution_count": null,
   "id": "84f1be2a",
   "metadata": {},
   "outputs": [],
   "source": [
    "X = nd1[0]\n",
    "nd5 = scp.despike(X, size=11, delta=5)\n",
    "X.plot()\n",
    "nd5.plot(clear=False, ls=\"-\", c=\"r\")"
   ]
  },
  {
   "cell_type": "markdown",
   "id": "b3731fba",
   "metadata": {},
   "source": [
    "Getting the desired results require the tuning of size and delta parameters. And sometimes may need to repeat the procedure on a previously filtered spectra.\n",
    "\n",
    "For example, it size or delta are badly chosen, valid peaks could be removed. So careful inspection of the results is crucial."
   ]
  },
  {
   "cell_type": "code",
   "execution_count": null,
   "id": "3a4faec0",
   "metadata": {},
   "outputs": [],
   "source": [
    "nd5b = scp.despike(X, size=21, delta=2)\n",
    "X.plot()\n",
    "nd5b.plot(clear=False, ls=\"-\", c=\"r\")"
   ]
  },
  {
   "cell_type": "markdown",
   "id": "63efcb08",
   "metadata": {},
   "source": [
    "Last we can apply it to the full 2D dataset"
   ]
  },
  {
   "cell_type": "code",
   "execution_count": null,
   "id": "d9974df1",
   "metadata": {},
   "outputs": [],
   "source": [
    "nd6 = scp.despike(nd1, size=11, delta=5)\n",
    "nd6.plot()"
   ]
  },
  {
   "cell_type": "markdown",
   "id": "d8450fe3",
   "metadata": {},
   "source": [
    "It is however rarely perfect as the setting of size and delta may be depending on the row.\n",
    "\n",
    "A possibility to improve it is to apply a denoise filter afterward."
   ]
  },
  {
   "cell_type": "code",
   "execution_count": null,
   "id": "6bfd4169",
   "metadata": {},
   "outputs": [],
   "source": [
    "nd7 = nd6.denoise(ratio=92)\n",
    "nd7.plot()"
   ]
  },
  {
   "cell_type": "markdown",
   "id": "1e46cd11",
   "metadata": {
    "lines_to_next_cell": 0
   },
   "source": [
    "The 'whitaker' method is also available:"
   ]
  },
  {
   "cell_type": "code",
   "execution_count": null,
   "id": "929c524f",
   "metadata": {},
   "outputs": [],
   "source": [
    "nd8 = scp.despike(nd1, size=11, delta=5, method=\"whitaker\")\n",
    "nd8.plot()"
   ]
  }
 ],
 "metadata": {
  "jupytext": {
   "cell_metadata_filter": "title,-all",
   "formats": "ipynb,py:percent",
   "notebook_metadata_filter": "all"
  },
  "kernelspec": {
   "display_name": "Python 3 (ipykernel)",
   "language": "python",
   "name": "python3"
  },
  "language_info": {
   "codemirror_mode": {
    "name": "ipython",
    "version": 3
   },
   "file_extension": ".py",
   "mimetype": "text/x-python",
   "name": "python",
   "nbconvert_exporter": "python",
   "pygments_lexer": "ipython3",
   "version": "3.13.2"
  }
 },
 "nbformat": 4,
 "nbformat_minor": 5
}
