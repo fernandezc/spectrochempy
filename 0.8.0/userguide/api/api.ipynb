{
 "cells": [
  {
   "cell_type": "markdown",
   "id": "5ddcf97c",
   "metadata": {},
   "source": [
    "# API Configuration"
   ]
  },
  {
   "cell_type": "markdown",
   "id": "960907ee",
   "metadata": {},
   "source": [
    "Many options of the API can be set up.\n",
    "Let's first import it in the usual way:"
   ]
  },
  {
   "cell_type": "code",
   "execution_count": 1,
   "id": "f0cbb0ef",
   "metadata": {
    "execution": {
     "iopub.execute_input": "2025-03-20T15:58:05.610346Z",
     "iopub.status.busy": "2025-03-20T15:58:05.609765Z",
     "iopub.status.idle": "2025-03-20T15:58:05.880807Z",
     "shell.execute_reply": "2025-03-20T15:58:05.880235Z"
    }
   },
   "outputs": [
    {
     "data": {
      "text/html": [
       "\n",
       "        \n",
       "        <div>\n",
       "        <table>\n",
       "        <tr>\n",
       "        <td>\n",
       "        \n",
       "        <img src='data:image/png;base64,iVBORw0KGgoAAAANSUhEUgAAABgAAAAYCAYAAADgdz34AAAA\n",
       "        AXNSR0IArs4c6QAAAAlwSFlzAAAJOgAACToB8GSSSgAAAetpVFh0WE1MOmNvbS5hZG9iZS54bXAAAAAA\n",
       "        ADx4OnhtcG1ldGEgeG1sbnM6eD0iYWRvYmU6bnM6bWV0YS8iIHg6eG1wdGs9IlhNUCBDb3JlIDUuNC4w\n",
       "        Ij4KICAgPHJkZjpSREYgeG1sbnM6cmRmPSJodHRwOi8vd3d3LnczLm9yZy8xOTk5LzAyLzIyLXJkZi1z\n",
       "        eW50YXgtbnMjIj4KICAgICAgPHJkZjpEZXNjcmlwdGlvbiByZGY6YWJvdXQ9IiIKICAgICAgICAgICAg\n",
       "        eG1sbnM6eG1wPSJodHRwOi8vbnMuYWRvYmUuY29tL3hhcC8xLjAvIgogICAgICAgICAgICB4bWxuczp0\n",
       "        aWZmPSJodHRwOi8vbnMuYWRvYmUuY29tL3RpZmYvMS4wLyI+CiAgICAgICAgIDx4bXA6Q3JlYXRvclRv\n",
       "        b2w+bWF0cGxvdGxpYiB2ZXJzaW9uIDIuMS4wLCBodHRwOi8vbWF0cGxvdGxpYi5vcmcvPC94bXA6Q3Jl\n",
       "        YXRvclRvb2w+CiAgICAgICAgIDx0aWZmOk9yaWVudGF0aW9uPjE8L3RpZmY6T3JpZW50YXRpb24+CiAg\n",
       "        ICAgIDwvcmRmOkRlc2NyaXB0aW9uPgogICA8L3JkZjpSREY+CjwveDp4bXBtZXRhPgqNQaNYAAAGiUlE\n",
       "        QVRIDY1We4xU1Rn/3XPuYx47u8w+hnU38hTcuoUEt/6D2y4RB0ME1BoEd9taJaKh9CFiN7YGp7appUAM\n",
       "        NmktMZFoJTYVLVQ0smsy26CN0SU1QgsuFAaW3WVmx33N677O6XfuyoIxTXqSO/fec+75fd93vt/3/UbD\n",
       "        V0aKSZmCpkFMLz3T9utuu2N+o98aDSMBKVAo89z5y+zEz3ZafcCOfvWdlGCalqKn1Bf71CygTd+mf1es\n",
       "        SOnpdMpTb+vWpTZuWVfe3jLPa5tzHYNm0T5N0gpdkkHaDBeGBU6d1/t/fyS8+/CbqdfUvmsx1PuMgc2b\n",
       "        Nxv79u1zgd31r+7JH1jbIZKxWRXAcYUQ8IWvBfBXNjEuJWPgMA02NR7C3/pYT9fjdZ3A9tGrWF8YSJHn\n",
       "        qcDz3y7q2T967PZv+gnYJdd1mEZ+62zGDQV/dQgKhmLzDNOXCEWM3j6eTT5Y3w78dOBKJLR1PQf+4ivP\n",
       "        j76UPZnssBN+wbM9Aet/AV81Mf1EEULXYfOobvX2WWQk0aoioXwwSmirOlioY0mu8BIouzYl7P8GV3vp\n",
       "        qCCEZvlFz769w08oLDWvyKIyL1asSm28d6WfzA97ztvvV1kexUMsmhlkULEkuGYmFYC6AvfUrITnwUKl\n",
       "        5K79lkjeSSRRTCTbQPd95e1WzMbZSya74XoXAxctCllCnbECMOjZNGRwvzIXnD85wbkMmKK+U045Dtdi\n",
       "        8Qp+SAxU2GTg2bYlC9224pgvmSb54vkVTBQYyhUt2KjAMyMmPjwRQW5Mh2WKwJhlBh6jVGagFM84wZnQ\n",
       "        4bpC0Rt4pk1PbSt0NDcxDA5xryosDHWgtbM0DGZDWLSoiDMDYeQnGVrmOThxLozB0RAaahzkJzjKNqcI\n",
       "        QBymJFMkOlN8Dqjpg0XYTx5xO/QbmmUrqIjGJznq47TqTaClKYfjp+PInLMwnOdYvtQBZ2XcunQY+VwI\n",
       "        o4U4muoFEjVEFE6lQyEUKzHYfgQG9ylCyngU+CxjtOqxCDGHcCsOMCs6iQul5ZiStdATYxjMZXDLTUVw\n",
       "        LY8Jey4uOh2IxjwsrP8UXJYxUrkZrghBahzV5iXU6gNkq0Z1EzIsUBUSCV2nEOHo0LVxHCpuxabJJdhi\n",
       "        5PFnvw5vLXwXIfNZvD/+JNo/X40NegE54sUaazl+UL8XD1x+FB9Ijjt4EQfdGN6J/x131LwIV9ap/AYs\n",
       "        0x1fz1ZKFbh6A7qKy/By9Dg6G36Ep91vUJJ15Cqr0Z67E8/HzmBrw1OwxWyM+3Mo6BAuSB17oyfx0Oyl\n",
       "        2DN0Hqs/70Cx6hBCvESFUY1ShWXZZEE7OTAYxZzaPH4TuoiusZvRnunFy2NbiHYuBp2vB66srX4vMEjp\n",
       "        RKPxKXmnoQ4+Mn4DPiv8CYcrs3GfNUXJLtM+alSOhrMj/KT+wBNW3+E/2liywNO3iSflbaFva/+stGDT\n",
       "        xE0E9Sjaox8HBhxpEamzMGSEaFKg+mjEddzDh1MxTDq3YV1kGBsjfwW3S9Cqanjmko+ndlb1UR3s6K8J\n",
       "        lfphNWq9Ew/7c61T2BB/EbcaNkb8GBaE0tANH7/M34PLdhJDzjIcL9xPbdTG6zyM72Y+wXPHmvB489No\n",
       "        fm0b5HnbQ9Rgp/7DSSd29AeVvPeNyK6JcYl/yQVi5dBjuGvoV/gaJe47s45QUxrDmcYX0MBsdF7egvXZ\n",
       "        7+O0vZA4X8QmOQWjlSK7RDz5wIM30gp9UbWcGjXxhzdDu1SiNSpx6kcQB57rPnr/3dlkZarWLnlRq5oP\n",
       "        ET1dOCIOk4wALib9eeS5iygfhkd09H0DWphB/+gs+PcOAS+ssrFmmXXgVfR0de9cpbAJfH3Q1jofW9DZ\n",
       "        k56dDcVsq9YcsoUMEd1qyLoT3BX1YiyHMJuk97hyjqIoE91t+NcTLeN0ZrfMoXatZbu6G0h4VG+ibqq0\n",
       "        IJVK6cAjo6serG3vSUezCMct0yQeSOFJSUImqb2qbknUpDqlZxE0QZ+ZUpSlZx79h4Nda6zef9dlk121\n",
       "        JDjbR5XggPRZlRnS6bRQRtLpn4++cuie/Yvn2svmNxuLw9WCcYIl4fEoTEGiSTUqJdfgU+8ROqf1iMkL\n",
       "        zS389YtNPXc/PH8l8ONBJZkHD+4JtD04HmVEDWWErmBhzV2/2LB1bemJG6krzv2S6NOHUgtEP0Oif5pE\n",
       "        /3fHoruP7N8RiP61GArzSwbUhJJQpXJKiKbfr/3bIhKq76sKPUdF9NW/LSqfSn6vjv8C45H/6FSgvZQA\n",
       "        AAAASUVORK5CYII='\n",
       "        style='height:25px; border-radius:12px; display:inline-block; float:left;\n",
       "        vertical-align:middle'>\n",
       "        </img>\n",
       "        \n",
       "        </td>\n",
       "        <td>\n",
       "        \n",
       "        &nbsp;&nbsp;<span style='font-size:12px'>SpectroChemPy's API - v.0.8.0<br/>©Copyright 2014-2025 - A.Travert & C.Fernandez @ LCS</span>\n",
       "        \n",
       "        </td>\n",
       "        </tr>\n",
       "        </table>\n",
       "        </div>\n",
       "        "
      ]
     },
     "metadata": {},
     "output_type": "display_data"
    }
   ],
   "source": [
    "import spectrochempy as scp"
   ]
  },
  {
   "cell_type": "markdown",
   "id": "d3e0183d",
   "metadata": {},
   "source": [
    "## General information\n",
    "General information on the API can be obtained the following variables:"
   ]
  },
  {
   "cell_type": "code",
   "execution_count": 2,
   "id": "ab6f1c51",
   "metadata": {
    "execution": {
     "iopub.execute_input": "2025-03-20T15:58:05.882948Z",
     "iopub.status.busy": "2025-03-20T15:58:05.882707Z",
     "iopub.status.idle": "2025-03-20T15:58:05.888316Z",
     "shell.execute_reply": "2025-03-20T15:58:05.887753Z"
    }
   },
   "outputs": [
    {
     "name": "stdout",
     "output_type": "stream",
     "text": [
      "   copyright : 2014-2025 - A.Travert & C.Fernandez @ LCS\n",
      "     version : 0.8.0\n",
      "     release : 0.8.0\n",
      "     license : CeCILL-B license\n",
      "         url : https://www.spectrochempy.fr\n",
      "release_date : 2025-03-20\n",
      "     authors : C. Fernandez & A. Travert\n",
      "contributors : A. Ait Blal, W. Guérin, M. Mailänder\n",
      " description : SpectroChemPy is a framework for processing, analysing and modelling Spectroscopic data for Chemistry with Python.\n"
     ]
    }
   ],
   "source": [
    "print(f\"   copyright : {scp.copyright}\")\n",
    "print(f\"     version : {scp.version}\")\n",
    "print(f\"     release : {scp.release}\")\n",
    "print(f\"     license : {scp.license}\")\n",
    "print(f\"         url : {scp.url}\")\n",
    "print(f\"release_date : {scp.release_date}\")\n",
    "print(f\"     authors : {scp.authors}\")\n",
    "print(f\"contributors : {scp.contributors}\")\n",
    "print(f\" description : {scp.description}\")"
   ]
  },
  {
   "cell_type": "markdown",
   "id": "3fcd3179",
   "metadata": {
    "lines_to_next_cell": 0
   },
   "source": [
    "## Loglevel\n",
    "During the execution, the API can display, besides the expected output, various\n",
    "messages categorized according\n",
    "to their criticality:\n",
    "\n",
    "| Loglevel / criticality | use |\n",
    "| --- | --- |\n",
    "| `DEBUG` / `10` | diagnose problems on the running process or help developers |\n",
    "| `INFO`  / `20` | general information on the running process |\n",
    "| `WARNING` / `30` (default) | a condition might cause a problem WRT expected\n",
    "behaviour |\n",
    "| `ERROR`   / `40` | wrong argument/commands or bug |\n",
    "| `CRITICAL` / `50` | could lead to a system crash |\n",
    "\n",
    " Not all this information is always necessary and the level of information displayed\n",
    " by SpectroChemPy can be\n",
    " tuned using the command `scp.set_loglevel()` with the rule that only information\n",
    " having a\n",
    " criticality larger than that passed to the `set_loglevel()` function will be shown.\n",
    "\n",
    " For instance, the `DEBUG` level can be triggered by using one of the\n",
    " equivalent instructions\n",
    "\n",
    "```python\n",
    "scp.set_loglevel('DEBUG')\n",
    "scp.set_loglevel(10)\n",
    "```\n",
    "\n",
    "The current loglevel can be obtained with the `scp.get_loglevel()` function.\n",
    "\n",
    "The following instruction prints the current loglevel"
   ]
  },
  {
   "cell_type": "code",
   "execution_count": 3,
   "id": "9540f3b5",
   "metadata": {
    "execution": {
     "iopub.execute_input": "2025-03-20T15:58:05.890099Z",
     "iopub.status.busy": "2025-03-20T15:58:05.889912Z",
     "iopub.status.idle": "2025-03-20T15:58:07.035378Z",
     "shell.execute_reply": "2025-03-20T15:58:07.034707Z"
    }
   },
   "outputs": [
    {
     "data": {
      "text/html": [
       "<style>/* SpectroChemPy output styling */\n",
       ".scp-output {\n",
       "    display: flex;\n",
       "    flex-direction: column;\n",
       "    gap: 2px;\n",
       "}\n",
       "\n",
       ".scp-output details {\n",
       "    padding: 1px;\n",
       "}\n",
       "\n",
       ".scp-output summary {\n",
       "    cursor: pointer;\n",
       "    font-weight: normal;\n",
       "    /*bold;*/\n",
       "    font-size: 11pt;\n",
       "}\n",
       "\n",
       ".scp-output summary:hover {\n",
       "    color: #888;\n",
       "}\n",
       "\n",
       "/* Parameters display styling */\n",
       ".scp-output .section {\n",
       "    display: flex;\n",
       "    flex-direction: row;\n",
       "    gap: 2px;\n",
       "    font-family: Arial, sans-serif;\n",
       "    font-size: 10pt;\n",
       "    margin-left: 15px;\n",
       "}\n",
       "\n",
       ".scp-output .meta-name,\n",
       ".scp-output .attr-name {\n",
       "    font-weight: 500;\n",
       "    color: #28A745;\n",
       "    text-align: right;\n",
       "}\n",
       "\n",
       ".scp-output .attr-name {\n",
       "    min-width: 100px;\n",
       "}\n",
       "\n",
       ".scp-output .meta-name {\n",
       "    min-width: 150px;\n",
       "}\n",
       "\n",
       ".scp-output .meta-value,\n",
       ".scp-output .attr-value {\n",
       "    flex: 1;\n",
       "}\n",
       "\n",
       ".scp-output .numeric {\n",
       "    color: #2D7FF9;\n",
       "    margin-left: 120px;\n",
       "    font-size: 10pt;\n",
       "}\n",
       "\n",
       ".scp-output .label {\n",
       "    color: darkcyan;\n",
       "    margin-left: 120px;\n",
       "    font-size: 10pt;\n",
       "}\n",
       "\n",
       ".scp-output .attr-value .numeric {\n",
       "    color: #2D7FF9;\n",
       "    margin-left: 0px;\n",
       "    font-size: 10pt;\n",
       "}\n",
       "\n",
       ".scp-output .attr-value .label {\n",
       "    color: darkcyan;\n",
       "    margin-left: 0px;\n",
       "    font-size: 10pt;\n",
       "}\n",
       "</style>"
      ],
      "text/plain": [
       "<IPython.core.display.HTML object>"
      ]
     },
     "metadata": {},
     "output_type": "display_data"
    },
    {
     "name": "stdout",
     "output_type": "stream",
     "text": [
      "Running on GitHub Actions\n",
      "MPL Configuration directory: /home/runner/.config/matplotlib\n",
      "Stylelib directory: /home/runner/.config/matplotlib/stylelib\n"
     ]
    },
    {
     "name": "stdout",
     "output_type": "stream",
     "text": [
      "Default: 20\n"
     ]
    }
   ],
   "source": [
    "print(f\"Default: {scp.get_loglevel()}\")  # print the current loglevel"
   ]
  },
  {
   "cell_type": "markdown",
   "id": "68b74ebb",
   "metadata": {
    "lines_to_next_cell": 0
   },
   "source": [
    "It yields `30` the numerical value corresponding to the `WARNING` level. Now, the\n",
    "next instruction\n",
    "lowers the loglevel to ``\"INFO\"``:"
   ]
  },
  {
   "cell_type": "code",
   "execution_count": 4,
   "id": "01d2f997",
   "metadata": {
    "execution": {
     "iopub.execute_input": "2025-03-20T15:58:07.037567Z",
     "iopub.status.busy": "2025-03-20T15:58:07.037352Z",
     "iopub.status.idle": "2025-03-20T15:58:07.040729Z",
     "shell.execute_reply": "2025-03-20T15:58:07.040162Z"
    },
    "lines_to_next_cell": 2
   },
   "outputs": [],
   "source": [
    "scp.set_loglevel(scp.INFO)"
   ]
  },
  {
   "cell_type": "markdown",
   "id": "aaca4683",
   "metadata": {},
   "source": [
    "We see that the API then delivers the INFO message:\n",
    "``\"changed default log_level to INFO\"``."
   ]
  },
  {
   "cell_type": "markdown",
   "id": "ebc25446",
   "metadata": {},
   "source": [
    "And  finally, the next instructions reset the loglevel to ``\"WARNING\"``\n",
    "level (default), and print it.\n",
    "As seen below, no message ``\"changed default log_level to ...\"`` is delivered"
   ]
  },
  {
   "cell_type": "code",
   "execution_count": 5,
   "id": "150dddb5",
   "metadata": {
    "execution": {
     "iopub.execute_input": "2025-03-20T15:58:07.042695Z",
     "iopub.status.busy": "2025-03-20T15:58:07.042499Z",
     "iopub.status.idle": "2025-03-20T15:58:07.046721Z",
     "shell.execute_reply": "2025-03-20T15:58:07.046009Z"
    }
   },
   "outputs": [
    {
     "name": "stdout",
     "output_type": "stream",
     "text": [
      "New loglevel: 30\n"
     ]
    }
   ],
   "source": [
    "scp.set_loglevel(\"WARNING\")  # reset to default\n",
    "print(f\"New loglevel: {scp.get_loglevel()}\")"
   ]
  },
  {
   "cell_type": "markdown",
   "id": "8fdecd6d",
   "metadata": {},
   "source": [
    "It is also possible to issue such messages in scripts. In the cell below, we set\n",
    "the loglevel to `INFO` and try to\n",
    "print two types of messages:"
   ]
  },
  {
   "cell_type": "code",
   "execution_count": 6,
   "id": "2296af3d",
   "metadata": {
    "execution": {
     "iopub.execute_input": "2025-03-20T15:58:07.048804Z",
     "iopub.status.busy": "2025-03-20T15:58:07.048440Z",
     "iopub.status.idle": "2025-03-20T15:58:07.053275Z",
     "shell.execute_reply": "2025-03-20T15:58:07.052584Z"
    }
   },
   "outputs": [
    {
     "name": "stderr",
     "output_type": "stream",
     "text": [
      " this is an info message!\n"
     ]
    }
   ],
   "source": [
    "scp.set_loglevel(\"INFO\")\n",
    "scp.info_(\"this is an info message!\")\n",
    "scp.debug_(\"this is a debug message!\")"
   ]
  },
  {
   "cell_type": "markdown",
   "id": "5a147586",
   "metadata": {},
   "source": [
    "As expected, only the info message was displayed.\n",
    "\n",
    "If we change the loglevel to `DEBUG` , then the two messages will be printed:"
   ]
  },
  {
   "cell_type": "code",
   "execution_count": 7,
   "id": "ab35e231",
   "metadata": {
    "execution": {
     "iopub.execute_input": "2025-03-20T15:58:07.055792Z",
     "iopub.status.busy": "2025-03-20T15:58:07.055598Z",
     "iopub.status.idle": "2025-03-20T15:58:07.216992Z",
     "shell.execute_reply": "2025-03-20T15:58:07.216319Z"
    }
   },
   "outputs": [
    {
     "name": "stderr",
     "output_type": "stream",
     "text": [
      " this is an info message!\n"
     ]
    },
    {
     "name": "stderr",
     "output_type": "stream",
     "text": [
      " DEBUG | this is a debug message!\n"
     ]
    }
   ],
   "source": [
    "scp.set_loglevel(scp.DEBUG)\n",
    "scp.info_(\"this is an info message!\")\n",
    "scp.debug_(\"this is a debug message!\")"
   ]
  },
  {
   "cell_type": "markdown",
   "id": "7b82da18",
   "metadata": {},
   "source": [
    "Finally, we come back to the standard level of message for the rest of the Tutorial\n",
    "-- in this case neither `DEBUG`\n",
    "nor `INFO` messages will be printed."
   ]
  },
  {
   "cell_type": "code",
   "execution_count": 8,
   "id": "334bc6b3",
   "metadata": {
    "execution": {
     "iopub.execute_input": "2025-03-20T15:58:07.219100Z",
     "iopub.status.busy": "2025-03-20T15:58:07.218900Z",
     "iopub.status.idle": "2025-03-20T15:58:07.222834Z",
     "shell.execute_reply": "2025-03-20T15:58:07.222330Z"
    }
   },
   "outputs": [],
   "source": [
    "scp.set_loglevel(scp.WARNING)\n",
    "\n",
    "scp.info_(\"this is an info message!\")\n",
    "scp.debug_(\"this is a debug message!\")"
   ]
  },
  {
   "cell_type": "markdown",
   "id": "248aa419",
   "metadata": {},
   "source": [
    "\n",
    "### Error handling\n",
    "If something goes wrong with during a cell execution,  a `traceback` is displayed.\n",
    "\n",
    "For instance, the object or method `toto` does not exist in the API, so an error\n",
    "(`ImportError` ) is generated\n",
    "when trying to import this from the API.\n",
    "\n",
    "Here we catch the error with a conventional `try-except` structure"
   ]
  },
  {
   "cell_type": "code",
   "execution_count": 9,
   "id": "8a6b0d56",
   "metadata": {
    "execution": {
     "iopub.execute_input": "2025-03-20T15:58:07.224978Z",
     "iopub.status.busy": "2025-03-20T15:58:07.224580Z",
     "iopub.status.idle": "2025-03-20T15:58:07.228863Z",
     "shell.execute_reply": "2025-03-20T15:58:07.228327Z"
    }
   },
   "outputs": [
    {
     "name": "stderr",
     "output_type": "stream",
     "text": [
      " ERROR | ImportError: OOPS, THAT'S AN IMPORT ERROR! : cannot import name 'toto' from 'spectrochempy' (/home/runner/work/spectrochempy/spectrochempy/src/spectrochempy/__init__.py)\n"
     ]
    }
   ],
   "source": [
    "try:\n",
    "    from spectrochempy import toto\n",
    "except ImportError as e:\n",
    "    scp.error_(ImportError, f\"OOPS, THAT'S AN IMPORT ERROR! : {e}\")"
   ]
  },
  {
   "cell_type": "markdown",
   "id": "c41f0017",
   "metadata": {},
   "source": [
    "The error will stop the execution if not caught.\n",
    "\n",
    "This is a basic behavior of python : one way to avoid stopping the execution without\n",
    "displaying a message is :"
   ]
  },
  {
   "cell_type": "code",
   "execution_count": 10,
   "id": "6a4d86b6",
   "metadata": {
    "execution": {
     "iopub.execute_input": "2025-03-20T15:58:07.230864Z",
     "iopub.status.busy": "2025-03-20T15:58:07.230490Z",
     "iopub.status.idle": "2025-03-20T15:58:07.233755Z",
     "shell.execute_reply": "2025-03-20T15:58:07.233197Z"
    }
   },
   "outputs": [],
   "source": [
    "from contextlib import suppress\n",
    "\n",
    "with suppress(Exception):\n",
    "    from spectrochempy import toto  # noqa: F401"
   ]
  }
 ],
 "metadata": {
  "jupytext": {
   "cell_metadata_json": true,
   "formats": "ipynb,py:percent",
   "notebook_metadata_filter": "all"
  },
  "kernelspec": {
   "display_name": "Python 3",
   "language": "python",
   "name": "python3"
  },
  "language_info": {
   "codemirror_mode": {
    "name": "ipython",
    "version": 3
   },
   "file_extension": ".py",
   "mimetype": "text/x-python",
   "name": "python",
   "nbconvert_exporter": "python",
   "pygments_lexer": "ipython3",
   "version": "3.10.16"
  },
  "widgets": {
   "application/vnd.jupyter.widget-state+json": {
    "state": {},
    "version_major": 2,
    "version_minor": 0
   }
  }
 },
 "nbformat": 4,
 "nbformat_minor": 5
}
