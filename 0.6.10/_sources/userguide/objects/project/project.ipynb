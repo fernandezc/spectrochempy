{
 "cells": [
  {
   "cell_type": "markdown",
   "id": "fef43039",
   "metadata": {},
   "source": [
    "# Project management\n",
    "\n",
    "from pathlib import Path"
   ]
  },
  {
   "cell_type": "code",
   "execution_count": null,
   "id": "be89a138",
   "metadata": {},
   "outputs": [],
   "source": [
    "from spectrochempy import NDDataset, Project, pathclean\n",
    "from spectrochempy import preferences as prefs"
   ]
  },
  {
   "cell_type": "markdown",
   "id": "ca2612f8",
   "metadata": {},
   "source": [
    "## Project creation\n",
    "We can easily create a new project to store various datasets"
   ]
  },
  {
   "cell_type": "code",
   "execution_count": null,
   "id": "3e01d274",
   "metadata": {},
   "outputs": [],
   "source": [
    "proj = Project()"
   ]
  },
  {
   "cell_type": "markdown",
   "id": "4272bd37",
   "metadata": {},
   "source": [
    "As we did not specify a name, a name has been attributed automatically:"
   ]
  },
  {
   "cell_type": "code",
   "execution_count": null,
   "id": "e2ee5af4",
   "metadata": {},
   "outputs": [],
   "source": [
    "proj.name"
   ]
  },
  {
   "cell_type": "markdown",
   "id": "9ab12c8a",
   "metadata": {},
   "source": [
    "------\n",
    "To get the signature of the object, one can use the usual '?'. Uncomment the following line to check"
   ]
  },
  {
   "cell_type": "code",
   "execution_count": null,
   "id": "4a2dbff6",
   "metadata": {},
   "outputs": [],
   "source": [
    "# Project?"
   ]
  },
  {
   "cell_type": "markdown",
   "id": "68f252ee",
   "metadata": {},
   "source": [
    "----\n",
    "Let's change this name"
   ]
  },
  {
   "cell_type": "code",
   "execution_count": null,
   "id": "4af1d70c",
   "metadata": {},
   "outputs": [],
   "source": [
    "proj.name = \"myNMRdata\"\n",
    "proj"
   ]
  },
  {
   "cell_type": "markdown",
   "id": "fcec918d",
   "metadata": {},
   "source": [
    "Now we will add a dataset to the project.\n",
    "\n",
    "First we read the dataset (here some NMR data) and we give it some name (e.g. 'nmr n°1')"
   ]
  },
  {
   "cell_type": "code",
   "execution_count": null,
   "id": "0e18dc3d",
   "metadata": {},
   "outputs": [],
   "source": [
    "datadir = pathclean(prefs.datadir)\n",
    "path = datadir / \"nmrdata\" / \"bruker\" / \"tests\" / \"nmr\"\n",
    "nd1 = NDDataset.read_topspin(\n",
    "    path / \"topspin_1d\", expno=1, remove_digital_filter=True, name=\"NMR_1D\"\n",
    ")\n",
    "nd2 = NDDataset.read_topspin(\n",
    "    path / \"topspin_2d\", expno=1, remove_digital_filter=True, name=\"NMR_2D\"\n",
    ")"
   ]
  },
  {
   "cell_type": "markdown",
   "id": "c16972a2",
   "metadata": {},
   "source": [
    "To add it to the project, we use the `add_dataset` function for a single dataset:"
   ]
  },
  {
   "cell_type": "code",
   "execution_count": null,
   "id": "8992ac3d",
   "metadata": {},
   "outputs": [],
   "source": [
    "proj.add_datasets(nd1)"
   ]
  },
  {
   "cell_type": "markdown",
   "id": "4c3091e5",
   "metadata": {},
   "source": [
    "or `add_datasets` for several datasets."
   ]
  },
  {
   "cell_type": "code",
   "execution_count": null,
   "id": "f47e8e33",
   "metadata": {},
   "outputs": [],
   "source": [
    "proj.add_datasets(nd1, nd2)"
   ]
  },
  {
   "cell_type": "markdown",
   "id": "23e75116",
   "metadata": {},
   "source": [
    "Display its structure"
   ]
  },
  {
   "cell_type": "code",
   "execution_count": null,
   "id": "37b75220",
   "metadata": {},
   "outputs": [],
   "source": [
    "proj"
   ]
  },
  {
   "cell_type": "markdown",
   "id": "671e4f11",
   "metadata": {},
   "source": [
    "It is also possible to add other projects as sub-project (using the `add_project` )"
   ]
  },
  {
   "cell_type": "markdown",
   "id": "ec8ebf62",
   "metadata": {},
   "source": [
    "## Remove an element from a project"
   ]
  },
  {
   "cell_type": "code",
   "execution_count": null,
   "id": "eec45cc7",
   "metadata": {},
   "outputs": [],
   "source": [
    "proj.remove_dataset(\"NMR_1D\")\n",
    "proj"
   ]
  },
  {
   "cell_type": "markdown",
   "id": "504eb0b7",
   "metadata": {},
   "source": [
    "## Get project's elements"
   ]
  },
  {
   "cell_type": "code",
   "execution_count": null,
   "id": "828d7925",
   "metadata": {},
   "outputs": [],
   "source": [
    "proj.add_datasets(nd1, nd2)\n",
    "proj"
   ]
  },
  {
   "cell_type": "markdown",
   "id": "8381461f",
   "metadata": {},
   "source": [
    "We can just use the name of the element as a project attribute."
   ]
  },
  {
   "cell_type": "code",
   "execution_count": null,
   "id": "749376f0",
   "metadata": {},
   "outputs": [],
   "source": [
    "proj.NMR_1D"
   ]
  },
  {
   "cell_type": "code",
   "execution_count": null,
   "id": "c03936b1",
   "metadata": {},
   "outputs": [],
   "source": [
    "_ = proj.NMR_1D.plot()"
   ]
  },
  {
   "cell_type": "markdown",
   "id": "ba862a2f",
   "metadata": {},
   "source": [
    "However, this work only if the name contains no space, dot, comma, colon, etc.\n",
    "The only special character allowed is\n",
    "the underscore `_` .  If the name is not respecting this, then it is possible to use\n",
    "the following syntax (as a\n",
    "project behave as a dictionary). For example:"
   ]
  },
  {
   "cell_type": "code",
   "execution_count": null,
   "id": "f0504c05",
   "metadata": {},
   "outputs": [],
   "source": [
    "proj[\"NMR_1D\"].data"
   ]
  },
  {
   "cell_type": "code",
   "execution_count": null,
   "id": "24484386",
   "metadata": {},
   "outputs": [],
   "source": [
    "proj.NMR_2D"
   ]
  },
  {
   "cell_type": "markdown",
   "id": "d213dff6",
   "metadata": {},
   "source": [
    "## Saving and loading projects"
   ]
  },
  {
   "cell_type": "code",
   "execution_count": null,
   "id": "4954a691",
   "metadata": {},
   "outputs": [],
   "source": [
    "proj"
   ]
  },
  {
   "cell_type": "markdown",
   "id": "5ad9aac8",
   "metadata": {},
   "source": [
    "#### Saving"
   ]
  },
  {
   "cell_type": "code",
   "execution_count": null,
   "id": "12b02780",
   "metadata": {},
   "outputs": [],
   "source": [
    "proj.save_as(\"NMR\")"
   ]
  },
  {
   "cell_type": "markdown",
   "id": "1f77028a",
   "metadata": {},
   "source": [
    "#### Loading"
   ]
  },
  {
   "cell_type": "code",
   "execution_count": null,
   "id": "4aad5561",
   "metadata": {},
   "outputs": [],
   "source": [
    "proj2 = Project.load(\"NMR\")"
   ]
  },
  {
   "cell_type": "code",
   "execution_count": null,
   "id": "f7dcd6d1",
   "metadata": {},
   "outputs": [],
   "source": [
    "proj2"
   ]
  },
  {
   "cell_type": "code",
   "execution_count": null,
   "id": "b6ee022d",
   "metadata": {},
   "outputs": [],
   "source": [
    "_ = proj2.NMR_1D.plot()"
   ]
  },
  {
   "cell_type": "code",
   "execution_count": null,
   "id": "55ce1a2e",
   "metadata": {},
   "outputs": [],
   "source": [
    "proj2.NMR_2D"
   ]
  },
  {
   "cell_type": "code",
   "execution_count": null,
   "id": "4af15206",
   "metadata": {},
   "outputs": [],
   "source": [
    "_ = proj.NMR_2D.plot()"
   ]
  },
  {
   "cell_type": "code",
   "execution_count": null,
   "id": "b3263684",
   "metadata": {},
   "outputs": [],
   "source": []
  }
 ],
 "metadata": {
  "jupytext": {
   "encoding": "# -*- coding: utf-8 -*-",
   "formats": "ipynb,py:percent",
   "notebook_metadata_filter": "all"
  },
  "kernelspec": {
   "display_name": "Python 3 (ipykernel)",
   "language": "python",
   "name": "python3"
  },
  "language_info": {
   "codemirror_mode": {
    "name": "ipython",
    "version": 3
   },
   "file_extension": ".py",
   "mimetype": "text/x-python",
   "name": "python",
   "nbconvert_exporter": "python",
   "pygments_lexer": "ipython3",
   "version": "3.9.9"
  },
  "widgets": {
   "application/vnd.jupyter.widget-state+json": {
    "state": {},
    "version_major": 2,
    "version_minor": 0
   }
  }
 },
 "nbformat": 4,
 "nbformat_minor": 5
}
