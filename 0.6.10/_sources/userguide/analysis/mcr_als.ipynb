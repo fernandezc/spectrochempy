{
 "cells": [
  {
   "cell_type": "markdown",
   "id": "7304a4f0",
   "metadata": {},
   "source": [
    "# MCR ALS"
   ]
  },
  {
   "cell_type": "code",
   "execution_count": null,
   "id": "08711448",
   "metadata": {},
   "outputs": [],
   "source": [
    "import spectrochempy as scp"
   ]
  },
  {
   "cell_type": "markdown",
   "id": "3fb7ff94",
   "metadata": {},
   "source": [
    "## Introduction\n",
    "\n",
    "MCR-ALS (standing for Multivariate Curve Resolution - Alternating Least Squares) is a\n",
    "popular method for resolving a set (or several sets) of spectra $X$ of an evolving\n",
    "mixture (or a set of mixtures) into the spectra $S^t$ of 'pure'\n",
    "species and their concentration profiles $C$. In terms of matrix equation:\n",
    "\n",
    "$$ X = C.S^t + E $$\n",
    "\n",
    "The ALS algorithm allows applying soft or hard constraints (e.g., non negativity,\n",
    "unimodality, equality to a given profile) to the spectra or concentration profiles\n",
    "of pure species. This property makes MCR-ALS an extremely flexible\n",
    "and powerful method.\n",
    "\n",
    "In this tutorial, the application of MCS-ALS as implemented in Scpy to a 'classical'\n",
    "dataset form the literature is presented.\n",
    "\n",
    "## The (minimal) dataset\n",
    "\n",
    "Here, we perform the MCR ALS optimization of a dataset corresponding to\n",
    "a HPLC-DAD run, from Jaumot et al. Chemolab, 76 (2005),\n",
    "pp. 101-110 and Jaumot et al. Chemolab, 140 (2015) pp. 1-12. This dataset (and others)\n",
    "can be loaded from the\n",
    "\"Multivariate Curve Resolution Homepage\"\n",
    "at https://mcrals.wordpress.com/download/example-data-sets. For the user convenience,\n",
    "this dataset is present in the\n",
    "'datadir' of spectrochempy in 'als2004dataset.MAT' and can be read as follows in Scpy:"
   ]
  },
  {
   "cell_type": "code",
   "execution_count": null,
   "id": "1e894001",
   "metadata": {},
   "outputs": [],
   "source": [
    "A = scp.read_matlab(\"matlabdata/als2004dataset.MAT\")"
   ]
  },
  {
   "cell_type": "markdown",
   "id": "0537fda8",
   "metadata": {},
   "source": [
    "The .mat file contains 6 matrices which are thus returned in A as a list of 6\n",
    "NDDatasets. We print the names and dimensions of these datasets:"
   ]
  },
  {
   "cell_type": "code",
   "execution_count": null,
   "id": "a7fc75c6",
   "metadata": {},
   "outputs": [],
   "source": [
    "for a in A:\n",
    "    print(f\"{a.name} : {a.shape}\")"
   ]
  },
  {
   "cell_type": "markdown",
   "id": "25cf0e91",
   "metadata": {},
   "source": [
    "In this tutorial, we are first interested in the dataset named ('m1') that contains\n",
    "a singleHPLC-DAD run(s).\n",
    "As usual, the rows correspond to the 'time axis' of the HPLC run(s), and the columns\n",
    "to the 'wavelength' axis\n",
    "of the UV spectra.\n",
    "\n",
    "Let's name it 'X' (as in the matrix equation above), display its content and plot it:"
   ]
  },
  {
   "cell_type": "code",
   "execution_count": null,
   "id": "3f0a1422",
   "metadata": {},
   "outputs": [],
   "source": [
    "X = A[-1]\n",
    "X"
   ]
  },
  {
   "cell_type": "code",
   "execution_count": null,
   "id": "0b8bd7ae",
   "metadata": {},
   "outputs": [],
   "source": [
    "_ = X.plot()"
   ]
  },
  {
   "cell_type": "markdown",
   "id": "785a836b",
   "metadata": {},
   "source": [
    "The original dataset is the 'm1' matrix and does not contain information as to the\n",
    "actual elution time, wavelength,\n",
    "and data units. Hence, the resulting NDDataset has no coordinates and on the plot,\n",
    "only the matrix line and row\n",
    "indexes are indicated. For the clarity of the tutorial, we add: (i) a proper title\n",
    "to the data, (ii)\n",
    "the default coordinates (index) do the NDDataset and (iii) a proper name for these\n",
    "coordinates:"
   ]
  },
  {
   "cell_type": "code",
   "execution_count": null,
   "id": "3b3e2c21",
   "metadata": {},
   "outputs": [],
   "source": [
    "X.title = \"absorbance\"\n",
    "X.set_coordset(None, None)\n",
    "X.set_coordtitles(y=\"elution time\", x=\"wavelength\")\n",
    "X"
   ]
  },
  {
   "cell_type": "markdown",
   "id": "3b9e7dc9",
   "metadata": {},
   "source": [
    "From now on, these names will be taken into account by Scpy in the plots as well as\n",
    "in the analysis treatments\n",
    "(PCA, EFA, MCR-ALs, ...). For instance to plot X as a surface:"
   ]
  },
  {
   "cell_type": "code",
   "execution_count": null,
   "id": "77100e45",
   "metadata": {},
   "outputs": [],
   "source": [
    "surf = X.plot_surface(linewidth=0.0, figsize=(10, 5), autolayout=False)"
   ]
  },
  {
   "cell_type": "markdown",
   "id": "48cbbaa0",
   "metadata": {},
   "source": [
    "## Initial guess and MCR ALS optimization\n",
    "\n",
    "The ALS optimization of the MCR equation above requires the input of a guess for\n",
    "either the concentration matrix\n",
    "$C_0$ or the spectra matrix $S^t_0$. Given the data matrix $X$, the lacking initial\n",
    "matrix ($S^t_0$ or $C_0$,\n",
    "respectively) is computed by:\n",
    "$$ S^t_0 = \\left( C_0^tC_0 \\right)^{-1} C_0^t X $$\n",
    "\n",
    "or\n",
    "\n",
    "$$ C_0 = X {S^t_0}^t  \\left( S_0^t {S_0^t}^t \\right)^{-1} $$\n",
    "\n",
    "### Case of initial spectral profiles\n",
    "The matrix spure provided in the initial dataset is a guess for the spectral profiles.\n",
    "Let's name it 'St0',\n",
    "and plot it:"
   ]
  },
  {
   "cell_type": "code",
   "execution_count": null,
   "id": "a6cf68ac",
   "metadata": {},
   "outputs": [],
   "source": [
    "St0 = A[3]\n",
    "_ = St0.plot()"
   ]
  },
  {
   "cell_type": "markdown",
   "id": "fec4e154",
   "metadata": {},
   "source": [
    "Note that, again, no information has been given as to the ordinate and abscissa data.\n",
    "We could add them as previously\n",
    "but this is not very important. The key point is that the 'wavelength' dimension is\n",
    "compatible with the data 'X',\n",
    "which is indeed the case (both have a length of 95). If it was not, an error would be\n",
    "generated in the following.\n",
    "\n",
    "#### ALS Optimization\n",
    "With this guess 'St0' and the dataset 'X' we can create a MCRALS object. At this point\n",
    "of the tutorial, we will use\n",
    "all the default parameters."
   ]
  },
  {
   "cell_type": "markdown",
   "id": "832f269e",
   "metadata": {},
   "source": [
    "First, we create an instance of a MCRALS object:"
   ]
  },
  {
   "cell_type": "code",
   "execution_count": null,
   "id": "c2e9859f",
   "metadata": {
    "lines_to_next_cell": 2
   },
   "outputs": [],
   "source": [
    "mcr = scp.MCRALS(log_level=\"INFO\")"
   ]
  },
  {
   "cell_type": "markdown",
   "id": "73f820fe",
   "metadata": {},
   "source": [
    "The `fit` method of `mcr` is now used to start the iteration process.\n",
    "As the log level has been set to  \"INFO\" at the MCRALS instance creation,\n",
    "so we have a summary of the ALS iterations"
   ]
  },
  {
   "cell_type": "code",
   "execution_count": null,
   "id": "7a507d3d",
   "metadata": {},
   "outputs": [],
   "source": [
    "mcr.fit(X, St0)"
   ]
  },
  {
   "cell_type": "markdown",
   "id": "c516adb7",
   "metadata": {},
   "source": [
    "The optimization has converged within few iterations. The figures reported for each\n",
    "iteration are defined as follows:\n",
    "\n",
    "- 'Error/PCA' is the standard deviation of the residuals with respect to data\n",
    "reconstructed by a PCA with as many\n",
    "components as pure species (4 in this example),\n",
    "\n",
    "- 'Error/exp': is the standard deviation of the residuals with respect to the\n",
    "experimental data X,\n",
    "\n",
    "- '%change': is the percent change of 'Error/exp' between 2 iterations\n",
    "\n",
    "The default is to stop when this %change between two iteration is negative (so that\n",
    "the solution is improving),\n",
    "but with an absolute value lower than 0.1% (so that the improvement is considered\n",
    "negligible). This parameter -\n",
    "as well as several other parameters affecting the ALS optimization can be changed by\n",
    "the setting the 'tol' value.\n",
    "For instance:"
   ]
  },
  {
   "cell_type": "code",
   "execution_count": null,
   "id": "ceee32f8",
   "metadata": {},
   "outputs": [],
   "source": [
    "mcr.tol = 0.01\n",
    "mcr.fit(X, St0)"
   ]
  },
  {
   "cell_type": "markdown",
   "id": "52b9af53",
   "metadata": {},
   "source": [
    "As could be expected more iterations have been necessary to reach this stricter\n",
    "convergence criterion.  The other\n",
    "convergence criterion that can be fixed by the user is 'maxdiv', the maximum number\n",
    "of successive diverging\n",
    "iterations. It is set to 5 by default and allows for stopping the ALS algorithm when\n",
    "it is no converging.\n",
    "If for instance the 'tol' is set very low, the optimization will be stopped when\n",
    "either the maximum number\n",
    "of iterations is reached (max_iter, 50 by default) or when no improvement is during 5\n",
    "successive iterations (maxdiv)."
   ]
  },
  {
   "cell_type": "code",
   "execution_count": null,
   "id": "54d3dad1",
   "metadata": {},
   "outputs": [],
   "source": [
    "mcr.tol = 0.001\n",
    "mcr.fit(X, St0)"
   ]
  },
  {
   "cell_type": "markdown",
   "id": "1ff67640",
   "metadata": {},
   "source": [
    "#### More information about the MCRALS estimator\n",
    "\n",
    "##### To get help about the different configuration parameters"
   ]
  },
  {
   "cell_type": "code",
   "execution_count": null,
   "id": "558daf83",
   "metadata": {},
   "outputs": [],
   "source": [
    "# help(mcr)"
   ]
  },
  {
   "cell_type": "code",
   "execution_count": null,
   "id": "a2bcd3bd",
   "metadata": {},
   "outputs": [],
   "source": [
    "# It is possible to chain fit runs, without recomputing everything for example for\n",
    "# optimization of some parameters\n",
    "\n",
    "mcr = scp.MCRALS(tol=0.001, log_level=\"INFO\")\n",
    "_ = mcr.fit(X, St0)"
   ]
  },
  {
   "cell_type": "code",
   "execution_count": null,
   "id": "687f31c7",
   "metadata": {},
   "outputs": [],
   "source": [
    "mcr1 = scp.MCRALS(tol=0.1, log_level=\"INFO\")\n",
    "_ = mcr1.fit(X, St0)"
   ]
  },
  {
   "cell_type": "code",
   "execution_count": null,
   "id": "287fa2b3",
   "metadata": {},
   "outputs": [],
   "source": [
    "mcr1.tol = 0.01\n",
    "_ = mcr1.fit(\n",
    "    X, (mcr1.C.copy(), mcr1.St.copy())\n",
    ")  # reuse C and ST computed at the previous run\n",
    "print(\"second run with the output of the first\")"
   ]
  },
  {
   "cell_type": "code",
   "execution_count": null,
   "id": "db02312e",
   "metadata": {},
   "outputs": [],
   "source": [
    "mcr1.tol = 0.001\n",
    "_ = mcr1.fit(X, (mcr1.C, mcr1.St))\n",
    "print(\"third run with the output of the second\")"
   ]
  },
  {
   "cell_type": "markdown",
   "id": "1fc1116a",
   "metadata": {},
   "source": [
    "Below we compare the outputs of the initial run (red) and final run (blue)."
   ]
  },
  {
   "cell_type": "code",
   "execution_count": null,
   "id": "392774b5",
   "metadata": {},
   "outputs": [],
   "source": [
    "_ = mcr.C.T.plot(cmap=None, color=\"red\")\n",
    "_ = mcr1.C.T.plot(clear=False, cmap=None, color=\"blue\")\n",
    "\n",
    "_ = mcr.St.plot(cmap=None, color=\"red\")\n",
    "_ = mcr1.St.plot(clear=False, cmap=None, color=\"blue\")"
   ]
  },
  {
   "cell_type": "markdown",
   "id": "468f379d",
   "metadata": {},
   "source": [
    "#### Solutions\n",
    "\n",
    "The solutions of the MCR ALS optimization are the optimized concentration (C) and pure\n",
    "spectra (St) datasets. They are stored as in the `C` and `St` attribute of the MCRAL object.\n",
    "As MCRALS is derived from to the `DecompositionAnalysis` class, C and St can also be obtained\n",
    "by `MCRALS.transform()` and MCRALS.components, respectively.\n",
    "\n",
    " Let's generate a MCRALS\n",
    " object with the default settings, and get the solution datasets C and St. Note that\n",
    " the default log_level is \"WARNING\" so we do not see any output here."
   ]
  },
  {
   "cell_type": "code",
   "execution_count": null,
   "id": "19371c93",
   "metadata": {},
   "outputs": [],
   "source": [
    "mcr1 = scp.MCRALS()\n",
    "mcr1.fit(X, St0)"
   ]
  },
  {
   "cell_type": "markdown",
   "id": "27c6f360",
   "metadata": {},
   "source": [
    "As the dimensions of C are such that the rows' direction (C.y) corresponds to the\n",
    "elution time and the columns'\n",
    "direction (C.x) correspond to the four pure species, it is necessary to transpose\n",
    "it before plotting in order\n",
    "to plot the concentration vs. the elution time."
   ]
  },
  {
   "cell_type": "code",
   "execution_count": null,
   "id": "6a538645",
   "metadata": {},
   "outputs": [],
   "source": [
    "_ = mcr1.C.T.plot()"
   ]
  },
  {
   "cell_type": "markdown",
   "id": "097f5798",
   "metadata": {},
   "source": [
    "On the other hand, the spectra of the pure species can be plotted directly:"
   ]
  },
  {
   "cell_type": "code",
   "execution_count": null,
   "id": "2fe8ccfa",
   "metadata": {},
   "outputs": [],
   "source": [
    "_ = mcr1.St.plot()"
   ]
  },
  {
   "cell_type": "markdown",
   "id": "6145c240",
   "metadata": {},
   "source": [
    "#### A basic illustration of the rotational ambiguity\n",
    "We have thus obtained the elution profiles of the four pure species. Note that the\n",
    "'concentration' values are very\n",
    "low. This results from the fact that the absorbance values in X are on the order of\n",
    "0-1 while the absorbance of\n",
    "the initial pure spectra are of the order of 10^4. As can be seen above,\n",
    "the absorbance of the final spectra is of\n",
    "the same order of magnitude.\n",
    "\n",
    "It is possible to normalize the intensity of the spectral profiles by setting the\n",
    "'normSpec' parameter to True.\n",
    "With this option, the spectra are normalized such that their euclidean norm is 1.\n",
    "The other normalization option is\n",
    "normspec = 'max', whereby the maximum intensity of the spectra is 1. Let's look at\n",
    "the effect of\n",
    "both normalizations:"
   ]
  },
  {
   "cell_type": "code",
   "execution_count": null,
   "id": "a620e803",
   "metadata": {},
   "outputs": [],
   "source": [
    "mcr2 = scp.MCRALS(normSpec=\"euclid\")\n",
    "mcr2.fit(X, St0)\n",
    "\n",
    "mcr3 = scp.MCRALS(normSpec=\"max\")\n",
    "mcr3.fit(X, St0)\n",
    "\n",
    "_ = mcr1.St.plot()\n",
    "_ = mcr2.St.plot()\n",
    "_ = mcr3.St.plot()"
   ]
  },
  {
   "cell_type": "code",
   "execution_count": null,
   "id": "8e4aef39",
   "metadata": {},
   "outputs": [],
   "source": [
    "_ = mcr1.C.T.plot()\n",
    "_ = mcr2.C.T.plot()\n",
    "_ = mcr3.C.T.plot()"
   ]
  },
  {
   "cell_type": "markdown",
   "id": "16c10f72",
   "metadata": {},
   "source": [
    "It is clear that the normalization affects the relative intensity of the spectra and\n",
    "of the concentration.\n",
    "This is a basic example of the well known rotational ambiguity of the MCS ALS\n",
    "solutions."
   ]
  },
  {
   "cell_type": "markdown",
   "id": "5ca79a73",
   "metadata": {},
   "source": [
    "### Guessing the concentration profile with PCA + EFA\n",
    "\n",
    "Generally, in MCR ALS, the initial guess cannot be obtained independently of the\n",
    "experimental data 'x'.\n",
    "In such a case, one has to rely on 'X' to obtained (i) the number of pure species\n",
    "and (ii) their initial\n",
    "concentrations or spectral profiles. The number of pure species can be assessed by\n",
    "carrying out a PCA on the\n",
    "data while the concentrations or spectral profiles can be estimated using procedures\n",
    "such EFA of SIMPLISMA.\n",
    "The following will illustrate the use of PCA followed by EFA\n",
    "\n",
    "#### Use of PCA to assess the number of pure species\n",
    "\n",
    "Let's first analyse our dataset using PCA and plot a screeplot:"
   ]
  },
  {
   "cell_type": "code",
   "execution_count": null,
   "id": "d388c75c",
   "metadata": {},
   "outputs": [],
   "source": [
    "pca = scp.PCA(n_components=8)\n",
    "pca.fit(X)\n",
    "pca.printev()\n",
    "_ = pca.screeplot()"
   ]
  },
  {
   "cell_type": "markdown",
   "id": "9a400f4d",
   "metadata": {},
   "source": [
    "The number of significant PC's is clearly larger or equal to 2. It is, however,\n",
    "difficult to determine whether\n",
    "it should be set to 3 or 4...  Let's look at the score and loading matrices:\n"
   ]
  },
  {
   "cell_type": "code",
   "execution_count": null,
   "id": "b033051f",
   "metadata": {},
   "outputs": [],
   "source": [
    "scores = pca.transform()\n",
    "_ = pca.loadings.plot()\n",
    "_ = scores.T.plot()"
   ]
  },
  {
   "cell_type": "markdown",
   "id": "a56e6a66",
   "metadata": {},
   "source": [
    "Examination of the scores and loadings indicate that the 4th component has structured,\n",
    "nonrandom scores and loadings.\n",
    "Hence, we will fix the number of pure species to 4."
   ]
  },
  {
   "cell_type": "markdown",
   "id": "513bc42e",
   "metadata": {},
   "source": [
    "#### Determination of initial concentrations using EFA\n",
    "\n",
    "Once the number of components has been determined, the initial concentration matrix\n",
    "is obtained very easily using EFA:\n"
   ]
  },
  {
   "cell_type": "code",
   "execution_count": null,
   "id": "724ec3ee",
   "metadata": {},
   "outputs": [],
   "source": [
    "efa = scp.EFA()\n",
    "efa.fit(X)\n",
    "efa.n_components = 4\n",
    "C0 = efa.transform()\n",
    "_ = C0.T.plot()"
   ]
  },
  {
   "cell_type": "markdown",
   "id": "144eed9d",
   "metadata": {},
   "source": [
    "The MCR ALS can then be launched using this new guess:"
   ]
  },
  {
   "cell_type": "code",
   "execution_count": null,
   "id": "6cbfb2da",
   "metadata": {},
   "outputs": [],
   "source": [
    "mcr4 = scp.MCRALS(max_iter=100, normSpec=\"euclid\")\n",
    "mcr4.fit(X, C0)"
   ]
  },
  {
   "cell_type": "code",
   "execution_count": null,
   "id": "43c42b0c",
   "metadata": {},
   "outputs": [],
   "source": [
    "_ = mcr4.C.T.plot()\n",
    "_ = mcr4.St.plot()"
   ]
  },
  {
   "cell_type": "markdown",
   "id": "f1872875",
   "metadata": {},
   "source": [
    "## Augmented datasets"
   ]
  },
  {
   "cell_type": "markdown",
   "id": "4cc677b1",
   "metadata": {},
   "source": [
    "The 'MATRIX' dataset is a columnwise augmented dataset consisting into 5 successive\n",
    "runs:"
   ]
  },
  {
   "cell_type": "code",
   "execution_count": null,
   "id": "882a342f",
   "metadata": {},
   "outputs": [],
   "source": [
    "A[1]"
   ]
  },
  {
   "cell_type": "markdown",
   "id": "82b0a34a",
   "metadata": {},
   "source": [
    "Let's plot it as a surface and as a map:"
   ]
  },
  {
   "cell_type": "code",
   "execution_count": null,
   "id": "f3bf9db6",
   "metadata": {},
   "outputs": [],
   "source": [
    "X2 = A[1]\n",
    "X2.title = \"absorbance\"\n",
    "X2.set_coordset(None, None)\n",
    "X2.set_coordtitles(y=\"elution time\", x=\"wavelength\")\n",
    "surf = X2.plot_surface(linewidth=0.0, ccount=100, figsize=(8, 4), autolayout=False)\n",
    "_ = X2.plot(method=\"map\")"
   ]
  },
  {
   "cell_type": "code",
   "execution_count": null,
   "id": "5c6d2be9",
   "metadata": {},
   "outputs": [],
   "source": [
    "mcr5 = scp.MCRALS(unimodConc=[])\n",
    "mcr5.fit(X2, St0)"
   ]
  },
  {
   "cell_type": "code",
   "execution_count": null,
   "id": "39d4dfb6",
   "metadata": {},
   "outputs": [],
   "source": [
    "_ = mcr5.C.T.plot()"
   ]
  },
  {
   "cell_type": "code",
   "execution_count": null,
   "id": "401475f8",
   "metadata": {},
   "outputs": [],
   "source": [
    "_ = mcr5.St.plot()"
   ]
  },
  {
   "cell_type": "markdown",
   "id": "32c8604c",
   "metadata": {},
   "source": [
    "[To be continued...]"
   ]
  }
 ],
 "metadata": {
  "jupytext": {
   "formats": "ipynb,py:percent",
   "notebook_metadata_filter": "all"
  },
  "kernelspec": {
   "display_name": "Python 3 (ipykernel)",
   "language": "python",
   "name": "python3"
  },
  "language_info": {
   "codemirror_mode": {
    "name": "ipython",
    "version": 3
   },
   "file_extension": ".py",
   "mimetype": "text/x-python",
   "name": "python",
   "nbconvert_exporter": "python",
   "pygments_lexer": "ipython3",
   "version": "3.10.8"
  }
 },
 "nbformat": 4,
 "nbformat_minor": 5
}
