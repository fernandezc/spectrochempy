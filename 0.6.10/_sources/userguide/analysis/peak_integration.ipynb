{
 "cells": [
  {
   "cell_type": "markdown",
   "id": "3bab0a75",
   "metadata": {},
   "source": [
    "# Peak integration\n",
    "\n",
    "This tutorial shows how to find peak maxima and determine peak areas with\n",
    "spectrochempy. As prerequisite,\n",
    "the user is expected to have read the [Import](../importexport/import.ipynb),\n",
    "[Import IR](../importexport/importIR.ipynb),\n",
    "[slicing](../processing/slicing.ipynb) and\n",
    "[baseline correction](../processing/baseline.ipynb) tutorials."
   ]
  },
  {
   "cell_type": "markdown",
   "id": "2b310930",
   "metadata": {},
   "source": [
    "First lets import the SpectroChemPy API"
   ]
  },
  {
   "cell_type": "code",
   "execution_count": null,
   "id": "c32b0a5e",
   "metadata": {},
   "outputs": [],
   "source": [
    "import spectrochempy as scp"
   ]
  },
  {
   "cell_type": "markdown",
   "id": "f8a1d85e",
   "metadata": {},
   "source": [
    "Now import some 2D data into a NDDataset object"
   ]
  },
  {
   "cell_type": "code",
   "execution_count": null,
   "id": "c99b5b3d",
   "metadata": {},
   "outputs": [],
   "source": [
    "ds = scp.read_omnic(\"irdata/nh4y-activation.spg\")\n",
    "ds"
   ]
  },
  {
   "cell_type": "markdown",
   "id": "38222b89",
   "metadata": {},
   "source": [
    "It's a series of 55 spectra.\n",
    "\n",
    "For the demonstration select only the first 20 on a limited region from 1250 to\n",
    "1800 cm$^{-1}$ (Do not forget to\n",
    "use floating numbers for slicing)"
   ]
  },
  {
   "cell_type": "code",
   "execution_count": null,
   "id": "dac42dc1",
   "metadata": {},
   "outputs": [],
   "source": [
    "X = ds[:20, 1250.0:1800.0]"
   ]
  },
  {
   "cell_type": "markdown",
   "id": "5eee09e0",
   "metadata": {},
   "source": [
    "We can also eventually remove offset on the acquisition time dimension (y)"
   ]
  },
  {
   "cell_type": "code",
   "execution_count": null,
   "id": "0c78f258",
   "metadata": {},
   "outputs": [],
   "source": [
    "X.y -= X.y[0]\n",
    "X.y.ito(\"min\")\n",
    "X.y.title = \"acquisition time\""
   ]
  },
  {
   "cell_type": "markdown",
   "id": "0a4b8594",
   "metadata": {},
   "source": [
    "We set some plotting preferences and then plot the raw data"
   ]
  },
  {
   "cell_type": "code",
   "execution_count": null,
   "id": "4818ed29",
   "metadata": {},
   "outputs": [],
   "source": [
    "prefs = X.preferences\n",
    "prefs.figure.figsize = (6, 3)\n",
    "prefs.colormap = \"Dark2\"\n",
    "prefs.colorbar = True\n",
    "X.plot()"
   ]
  },
  {
   "cell_type": "markdown",
   "id": "4af86cc9",
   "metadata": {},
   "source": [
    "Now we can perform some baseline correction"
   ]
  },
  {
   "cell_type": "code",
   "execution_count": null,
   "id": "1ea6faa0",
   "metadata": {},
   "outputs": [],
   "source": [
    "blc = scp.Baseline()\n",
    "blc.ranges = (\n",
    "    [1740.0, 1800.0],\n",
    "    [1550.0, 1570.0],\n",
    "    [1250.0, 1300.0],\n",
    ")  # define 3 regions where we want the baseline to reach zero.\n",
    "blc.model = \"polynomial\"\n",
    "blc.order = 3\n",
    "\n",
    "blc.fit(X)  # fit the baseline\n",
    "\n",
    "Xcorr = blc.corrected  # get the corrected dataset\n",
    "Xcorr.plot()"
   ]
  },
  {
   "cell_type": "markdown",
   "id": "045b5b14",
   "metadata": {},
   "source": [
    "To integrate each row on the full range, we can use the sum or trapz method of a\n",
    "NDDataset."
   ]
  },
  {
   "cell_type": "code",
   "execution_count": null,
   "id": "54c3ee9d",
   "metadata": {},
   "outputs": [],
   "source": [
    "inttrapz = Xcorr.trapezoid(dim=\"x\")\n",
    "intsimps = Xcorr.simpson(dim=\"x\")"
   ]
  },
  {
   "cell_type": "markdown",
   "id": "03b5e7c9",
   "metadata": {},
   "source": [
    "As you can see both method give almost the same results in this case"
   ]
  },
  {
   "cell_type": "code",
   "execution_count": null,
   "id": "2cfcd193",
   "metadata": {},
   "outputs": [],
   "source": [
    "scp.plot_multiple(\n",
    "    method=\"scatter\",\n",
    "    ms=5,\n",
    "    datasets=[inttrapz, intsimps],\n",
    "    labels=[\"trapzoidal rule\", \"simpson' rule\"],\n",
    "    legend=\"best\",\n",
    ")"
   ]
  },
  {
   "cell_type": "markdown",
   "id": "fe8469a4",
   "metadata": {},
   "source": [
    "The difference between the trapezoidal and simpson integration methods is visualized\n",
    "below. In this case they are\n",
    "extremely close."
   ]
  },
  {
   "cell_type": "code",
   "execution_count": null,
   "id": "ee89cbcc",
   "metadata": {},
   "outputs": [],
   "source": [
    "diff = (inttrapz - intsimps) * 100.0 / intsimps\n",
    "diff.title = \"difference\"\n",
    "diff.units = \"percent\"\n",
    "diff.plot(scatter=True, ms=5)"
   ]
  }
 ],
 "metadata": {
  "jupytext": {
   "formats": "ipynb,py:percent",
   "notebook_metadata_filter": "all"
  },
  "kernelspec": {
   "display_name": "Python 3",
   "language": "python",
   "name": "python3"
  }
 },
 "nbformat": 4,
 "nbformat_minor": 5
}
