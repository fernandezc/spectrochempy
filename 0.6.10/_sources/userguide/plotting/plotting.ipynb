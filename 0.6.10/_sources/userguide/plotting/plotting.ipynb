{
 "cells": [
  {
   "cell_type": "markdown",
   "id": "0e34f897",
   "metadata": {
    "lines_to_next_cell": 0
   },
   "source": [
    "# Plotting\n",
    "\n",
    "This section shows the main plotting capabilities of SpectroChemPy. Most of them are based on [Matplotlib](\n",
    "https://matplotlib.org), one of the most used plotting library for Python, and its\n",
    "[pyplot](https://matplotlib.org/stable/tutorials/introductory/pyplot.html) interface. While not mandatory, to follow\n",
    "this tutorial, some familiarity with this library can help, and we recommend a brief look at some\n",
    "[matplotlib tutorials](https://matplotlib.org/stable/tutorials/index.html) as well.\n",
    "\n",
    "Note that in the near future, SpectroChemPy should also offer the possibility to use [Plotly](https://plotly.com/)\n",
    "for a better interactivity inside a notebook.\n",
    "\n",
    "Finally, some commands and objects used here are described in-depth in the sections related to\n",
    "[import](../importexport/import.ipynb) and [slicing](../processing/slicing.ipynb) of NDDatasets and the *\n",
    "[NDDatasets](../dataset/dataset.ipynb) themselves."
   ]
  },
  {
   "cell_type": "markdown",
   "id": "31bc0c44",
   "metadata": {},
   "source": [
    "## Load the API\n",
    "First, before anything else, we import the spectrochempy API:"
   ]
  },
  {
   "cell_type": "code",
   "execution_count": null,
   "id": "be34bd18",
   "metadata": {},
   "outputs": [],
   "source": [
    "import spectrochempy as scp"
   ]
  },
  {
   "cell_type": "markdown",
   "id": "bb5ce9f8",
   "metadata": {},
   "source": [
    "## Loading the data\n",
    "For sake of demonstration we import a NDDataset consisting in infrared spectra from an omnic .spg file\n",
    "and make some (optional) preparation of the data to display\n",
    "(see also [Import IR Data](../importexport/importIR.ipynb))."
   ]
  },
  {
   "cell_type": "code",
   "execution_count": null,
   "id": "ca0f680d",
   "metadata": {},
   "outputs": [],
   "source": [
    "dataset = scp.read(\"irdata/nh4y-activation.spg\")"
   ]
  },
  {
   "cell_type": "markdown",
   "id": "ca50f341",
   "metadata": {},
   "source": [
    "## Preparing the data"
   ]
  },
  {
   "cell_type": "markdown",
   "id": "d186cb9e",
   "metadata": {
    "lines_to_next_cell": 2
   },
   "source": []
  },
  {
   "cell_type": "code",
   "execution_count": null,
   "id": "94369206",
   "metadata": {},
   "outputs": [],
   "source": [
    "dataset = dataset[:, 4000.0:650.0]  # We keep only the region that we want to display"
   ]
  },
  {
   "cell_type": "markdown",
   "id": "99933881",
   "metadata": {},
   "source": [
    "We change the y coordinated so that times start at 0, put it in minutes and change its title/"
   ]
  },
  {
   "cell_type": "code",
   "execution_count": null,
   "id": "3ea84dc9",
   "metadata": {},
   "outputs": [],
   "source": [
    "dataset.y -= dataset.y[0]\n",
    "dataset.y.ito(\"minutes\")\n",
    "dataset.y.title = \"relative time on stream\""
   ]
  },
  {
   "cell_type": "markdown",
   "id": "12c81185",
   "metadata": {},
   "source": [
    "We also mask a region that we do not want to display"
   ]
  },
  {
   "cell_type": "code",
   "execution_count": null,
   "id": "e3fcb798",
   "metadata": {},
   "outputs": [],
   "source": [
    "dataset[:, 1290.0:920.0] = scp.MASKED"
   ]
  },
  {
   "cell_type": "markdown",
   "id": "78b26629",
   "metadata": {},
   "source": [
    "## Selecting the output window"
   ]
  },
  {
   "cell_type": "markdown",
   "id": "31dfce36",
   "metadata": {},
   "source": [
    "For the examples below, we use inline matplotlib figures (non-interactive): this can be forced using the magic\n",
    "function before loading spectrochempy.:\n",
    "```ipython3\n",
    "%matplotlib inline\n",
    "```\n",
    "but it is also the default in `Jupyter lab` (so we don't really need to specify this). Note that when such magic\n",
    "function has been used, it is not possible to change the setting, except by resetting the notebook kernel.\n",
    "\n",
    "If one wants interactive displays (with selection, zooming, etc...) one can use:\n",
    "```ipython3\n",
    "    %matplotlib widget\n",
    "```\n",
    "However, this suffers (at least for us) some incompatibilities in `jupyter lab` ...\n",
    "it is worth to try!\n",
    "If you can not get it working in `jupyter lab` and you need interactivity, you can\n",
    "use the following:\n",
    "```ipython3\n",
    "    %matplotlib\n",
    "```\n",
    "which has the effect of displaying the figures in independent windows using default\n",
    "matplotlib backend (e.g.,\n",
    "`Tk` ), with all the interactivity of matplotlib.\n",
    "\n",
    "But you can explicitly request a different GUI backend:\n",
    "```ipython3\n",
    "    %matplotlib qt\n",
    "```"
   ]
  },
  {
   "cell_type": "code",
   "execution_count": null,
   "id": "24af2968",
   "metadata": {},
   "outputs": [],
   "source": [
    "%matplotlib inline"
   ]
  },
  {
   "cell_type": "markdown",
   "id": "2be427bc",
   "metadata": {},
   "source": [
    "## Default plotting"
   ]
  },
  {
   "cell_type": "markdown",
   "id": "1bcaf0fc",
   "metadata": {},
   "source": [
    "To plot the previously loaded dataset, it is very simple: we use the `plot` command (generic plot).\n",
    "\n",
    "As the current NDDataset is 2D, a **stack plot** is displayed by default, with a **viridis** colormap."
   ]
  },
  {
   "cell_type": "code",
   "execution_count": null,
   "id": "d9c2531b",
   "metadata": {},
   "outputs": [],
   "source": [
    "_ = dataset.plot()"
   ]
  },
  {
   "cell_type": "markdown",
   "id": "8dc2b5f8",
   "metadata": {
    "lines_to_next_cell": 0
   },
   "source": [
    "Note, in the cell above, that we used ` _ = ... `  syntax.\n",
    "This is to avoid any output but the plot from this statement.\n",
    "\n",
    "Note also that the `plot()` method uses some of NDDataset metadata: the `NDDataset.x` coordinate `data` (here the\n",
    "wavenumber values), `name` (here 'wavenumbers'), `units` (here 'cm-1') as well as the `NDDataset.title`\n",
    "(here 'absorbance') and `NDDataset.units (here 'absorbance')."
   ]
  },
  {
   "cell_type": "markdown",
   "id": "3f40ac14",
   "metadata": {},
   "source": [
    "## Changing the aspect of the plot"
   ]
  },
  {
   "cell_type": "markdown",
   "id": "d572d5f3",
   "metadata": {},
   "source": [
    "### Change the `NDDataset.preferences`\n",
    "We can change the default plot configuration for this dataset by changing its `preferences' attributes\n",
    "(see at the end of this tutorial  for an overview of all the available parameters)."
   ]
  },
  {
   "cell_type": "code",
   "execution_count": null,
   "id": "a02df090",
   "metadata": {
    "lines_to_next_cell": 2
   },
   "outputs": [],
   "source": [
    "prefs = dataset.preferences  # we will use prefs instead of dataset.preference\n",
    "prefs.figure.figsize = (6, 3)  # The default figsize is (6.8,4.4)\n",
    "prefs.colorbar = True  # This add a color bar on a side\n",
    "prefs.colormap = \"magma\"  # The default colormap is viridis\n",
    "prefs.axes.facecolor = \".95\"  # Make the graph background colored in a light gray\n",
    "prefs.axes.grid = True\n",
    "\n",
    "_ = dataset.plot()"
   ]
  },
  {
   "cell_type": "markdown",
   "id": "3c31a6e4",
   "metadata": {},
   "source": [
    "The colormap can also be changed by setting `cmap` in the arguments.\n",
    "If you prefer not using colormap, `cmap=None` should be used. For instance:"
   ]
  },
  {
   "cell_type": "code",
   "execution_count": null,
   "id": "fcf31563",
   "metadata": {},
   "outputs": [],
   "source": [
    "_ = dataset.plot(cmap=None, colorbar=False)"
   ]
  },
  {
   "cell_type": "markdown",
   "id": "03ee17c4",
   "metadata": {},
   "source": [
    "Note that, by default, **sans-serif** font are used for all text in the figure.\n",
    "But if you prefer, **serif**, or *monospace* font can be used instead. For instance:"
   ]
  },
  {
   "cell_type": "code",
   "execution_count": null,
   "id": "2382b904",
   "metadata": {},
   "outputs": [],
   "source": [
    "prefs.font.family = \"monospace\"\n",
    "_ = dataset.plot()"
   ]
  },
  {
   "cell_type": "markdown",
   "id": "e837fbd2",
   "metadata": {},
   "source": [
    "Once changed, the `NDDataset.preferences` attributes will be used for the subsequent plots, but can be reset to the\n",
    "initial defaults anytime using the `NDDataset.preferences.reset()` method. For instance:"
   ]
  },
  {
   "cell_type": "code",
   "execution_count": null,
   "id": "0ed62244",
   "metadata": {},
   "outputs": [],
   "source": [
    "print(f\"font before reset: {prefs.font.family}\")\n",
    "prefs.reset()\n",
    "print(f\"font after reset: {prefs.font.family}\")"
   ]
  },
  {
   "cell_type": "markdown",
   "id": "49568c77",
   "metadata": {},
   "source": [
    "It is also possible to change a parameter for a single plot without changing the `preferences` attribute by passing\n",
    "it as an argument of the `plot()`method. For instance, as in matplotlib, the default colormap is `viridis':"
   ]
  },
  {
   "cell_type": "code",
   "execution_count": null,
   "id": "889e48ef",
   "metadata": {},
   "outputs": [],
   "source": [
    "prefs.colormap"
   ]
  },
  {
   "cell_type": "markdown",
   "id": "b4372fd1",
   "metadata": {},
   "source": [
    "but 'magma' can be passed to the `plot()` method:"
   ]
  },
  {
   "cell_type": "code",
   "execution_count": null,
   "id": "553f5948",
   "metadata": {},
   "outputs": [],
   "source": [
    "_ = dataset.plot(colormap=\"magma\")"
   ]
  },
  {
   "cell_type": "markdown",
   "id": "36cc6db9",
   "metadata": {},
   "source": [
    "while the `preferences.colormap` is still set to `viridis':"
   ]
  },
  {
   "cell_type": "code",
   "execution_count": null,
   "id": "608f24e5",
   "metadata": {},
   "outputs": [],
   "source": [
    "prefs.colormap"
   ]
  },
  {
   "cell_type": "markdown",
   "id": "6bfabf87",
   "metadata": {},
   "source": [
    "and will be used by default for the next plots:"
   ]
  },
  {
   "cell_type": "code",
   "execution_count": null,
   "id": "21eddc61",
   "metadata": {},
   "outputs": [],
   "source": [
    "_ = dataset.plot()"
   ]
  },
  {
   "cell_type": "markdown",
   "id": "79a07e0a",
   "metadata": {},
   "source": [
    "## Adding titles and annotations"
   ]
  },
  {
   "cell_type": "markdown",
   "id": "61008c75",
   "metadata": {},
   "source": [
    "The plot function return a reference to the subplot `ax` object on which the data have been plotted.\n",
    "We can then use this reference to modify some element of the plot.\n",
    "\n",
    "For example, here we add a title and some annotations:"
   ]
  },
  {
   "cell_type": "code",
   "execution_count": null,
   "id": "3adeeae0",
   "metadata": {},
   "outputs": [],
   "source": [
    "prefs.reset()\n",
    "prefs.colorbar = False\n",
    "prefs.colormap = \"terrain\"\n",
    "prefs.font.family = \"monospace\"\n",
    "\n",
    "ax = dataset.plot()\n",
    "ax.grid(\n",
    "    False\n",
    ")  # This temporarily suppress the grid after the plot is done but is not saved in prefs\n",
    "\n",
    "# set title\n",
    "title = ax.set_title(\"NH$_4$Y IR spectra during activation\")\n",
    "title.set_color(\"red\")\n",
    "title.set_fontstyle(\"italic\")\n",
    "title.set_fontsize(14)\n",
    "\n",
    "# put some text\n",
    "ax.text(1200.0, 1, \"Masked region\\n (saturation)\", rotation=90)\n",
    "\n",
    "# put some fancy annotations (see matplotlib documentation to learn how to design this)\n",
    "_ = ax.annotate(\n",
    "    \"OH groups\",\n",
    "    xy=(3600.0, 1.25),\n",
    "    xytext=(-10, -50),\n",
    "    textcoords=\"offset points\",\n",
    "    arrowprops=dict(\n",
    "        arrowstyle=\"fancy\",\n",
    "        color=\"0.5\",\n",
    "        shrinkB=5,\n",
    "        connectionstyle=\"arc3,rad=-0.3\",\n",
    "    ),\n",
    ")"
   ]
  },
  {
   "cell_type": "markdown",
   "id": "aac7155a",
   "metadata": {},
   "source": [
    "More information about annotation can be found in the [matplotlib documentation:  annotations](\n",
    "https://matplotlib.org/stable/tutorials/text/annotations.html)"
   ]
  },
  {
   "cell_type": "markdown",
   "id": "93dd34fd",
   "metadata": {},
   "source": [
    "## Changing the plot style using matplotlib style sheets"
   ]
  },
  {
   "cell_type": "markdown",
   "id": "ea123874",
   "metadata": {},
   "source": [
    " The easiest way to change the plot style may be to use pre-defined styles such as those used in [matplotlib\n",
    " styles](https://matplotlib.org/stable/tutorials/introductory/customizing.html). This is directly included in the\n",
    " preferences of SpectroChemPy"
   ]
  },
  {
   "cell_type": "code",
   "execution_count": null,
   "id": "5dd28ff4",
   "metadata": {},
   "outputs": [],
   "source": [
    "prefs.style = \"grayscale\"\n",
    "_ = dataset.plot()"
   ]
  },
  {
   "cell_type": "code",
   "execution_count": null,
   "id": "6ab3a1ec",
   "metadata": {},
   "outputs": [],
   "source": [
    "prefs.style = \"ggplot\"\n",
    "_ = dataset.plot()"
   ]
  },
  {
   "cell_type": "markdown",
   "id": "8d893ac5",
   "metadata": {},
   "source": [
    "Other styles are :\n",
    "* paper , which create figure suitable for two columns article (fig width: 3.4 inch)\n",
    "* poster\n",
    "* talk"
   ]
  },
  {
   "cell_type": "markdown",
   "id": "9d3404db",
   "metadata": {},
   "source": [
    "the styles can be combined, so you can have a style sheet that customizes\n",
    "colors and a separate style sheet that alters element sizes for presentations:"
   ]
  },
  {
   "cell_type": "code",
   "execution_count": null,
   "id": "3054f7c2",
   "metadata": {},
   "outputs": [],
   "source": [
    "prefs.reset()\n",
    "prefs.style = \"grayscale\", \"paper\"\n",
    "_ = dataset.plot(colorbar=True)"
   ]
  },
  {
   "cell_type": "markdown",
   "id": "a9b150b7",
   "metadata": {},
   "source": [
    "As previously, style specification can also be done directly in the plot method without\n",
    "affecting the `preferences' attribute."
   ]
  },
  {
   "cell_type": "code",
   "execution_count": null,
   "id": "ed9aebdd",
   "metadata": {},
   "outputs": [],
   "source": [
    "prefs.colormap = \"magma\"\n",
    "_ = dataset.plot(style=[\"scpy\", \"paper\"])"
   ]
  },
  {
   "cell_type": "markdown",
   "id": "e2b8a8a2",
   "metadata": {},
   "source": [
    "To get a list of all available styles :"
   ]
  },
  {
   "cell_type": "code",
   "execution_count": null,
   "id": "33943705",
   "metadata": {},
   "outputs": [],
   "source": [
    "prefs.available_styles"
   ]
  },
  {
   "cell_type": "markdown",
   "id": "365307fc",
   "metadata": {},
   "source": [
    "Again, to restore the default setting, you can use the reset function"
   ]
  },
  {
   "cell_type": "code",
   "execution_count": null,
   "id": "4049a2ec",
   "metadata": {},
   "outputs": [],
   "source": [
    "prefs.reset()\n",
    "_ = dataset.plot()"
   ]
  },
  {
   "cell_type": "markdown",
   "id": "59e2ed4a",
   "metadata": {},
   "source": [
    "## Create your own style\n",
    "\n",
    "If you want to create your own style for later use, you can use the command  `makestyle` (**warning**: you can not\n",
    "use `scpy` which is the READONLY default style:"
   ]
  },
  {
   "cell_type": "code",
   "execution_count": null,
   "id": "fb48a35d",
   "metadata": {},
   "outputs": [],
   "source": [
    "prefs.makestyle(\"scpy\")"
   ]
  },
  {
   "cell_type": "markdown",
   "id": "cc321438",
   "metadata": {},
   "source": [
    "If no name is provided a default name is used :`mydefault`"
   ]
  },
  {
   "cell_type": "code",
   "execution_count": null,
   "id": "45aa32de",
   "metadata": {},
   "outputs": [],
   "source": [
    "prefs.makestyle()"
   ]
  },
  {
   "cell_type": "markdown",
   "id": "90872aaf",
   "metadata": {},
   "source": [
    "**Example:**\n"
   ]
  },
  {
   "cell_type": "code",
   "execution_count": null,
   "id": "8cc8e9e7",
   "metadata": {},
   "outputs": [],
   "source": [
    "prefs.reset()\n",
    "prefs.colorbar = True\n",
    "prefs.colormap = \"jet\"\n",
    "prefs.font.family = \"monospace\"\n",
    "prefs.font.size = 14\n",
    "prefs.axes.labelcolor = \"blue\"\n",
    "prefs.axes.grid = True\n",
    "prefs.axes.grid_axis = \"x\"\n",
    "\n",
    "_ = dataset.plot()\n",
    "\n",
    "prefs.makestyle()"
   ]
  },
  {
   "cell_type": "code",
   "execution_count": null,
   "id": "5ba7c41d",
   "metadata": {},
   "outputs": [],
   "source": [
    "prefs.reset()\n",
    "_ = dataset.plot()  # plot with the default scpy style"
   ]
  },
  {
   "cell_type": "code",
   "execution_count": null,
   "id": "0220234e",
   "metadata": {},
   "outputs": [],
   "source": [
    "prefs.style = \"mydefault\"\n",
    "_ = dataset.plot()  # plot with our own style"
   ]
  },
  {
   "cell_type": "markdown",
   "id": "a0b273ac",
   "metadata": {},
   "source": [
    "## Changing the type of plot"
   ]
  },
  {
   "cell_type": "markdown",
   "id": "d829d498",
   "metadata": {},
   "source": [
    "By default, plots of 2D datasets are done in 'stack' mode. Other available modes are 'map', 'image', 'surface' and\n",
    "'waterfall'.\n",
    "\n",
    "The default can be changed permanently by setting the variable `pref.method_2D` to one of these alternative modes,\n",
    "for instance if you like to have contour plot, you can use:"
   ]
  },
  {
   "cell_type": "code",
   "execution_count": null,
   "id": "f3c2ad17",
   "metadata": {},
   "outputs": [],
   "source": [
    "prefs.reset()\n",
    "\n",
    "prefs.method_2D = \"map\"  # this will change permanently the type of 2D plot\n",
    "prefs.colormap = \"magma\"\n",
    "prefs.figure_figsize = (5, 3)\n",
    "_ = dataset.plot()"
   ]
  },
  {
   "cell_type": "markdown",
   "id": "a120ec6b",
   "metadata": {
    "lines_to_next_cell": 0
   },
   "source": [
    "You can also, for an individual plot use specialised plot commands, such as `plot_stack()` , `plot_map()` ,\n",
    "`plot_waterfall()` , `plot_surface()` or `plot_image()` , or equivalently the generic `plot` function with\n",
    "the `method` parameter, i.e., `plot(method='stack')` , `plot(method='map')` , etc...\n",
    "\n",
    "These modes are illustrated below:"
   ]
  },
  {
   "cell_type": "code",
   "execution_count": null,
   "id": "499475db",
   "metadata": {},
   "outputs": [],
   "source": [
    "prefs.axes_facecolor = \"white\"\n",
    "_ = dataset.plot_image(colorbar=True)  # will use image_cmap preference!"
   ]
  },
  {
   "cell_type": "markdown",
   "id": "4d2acadb",
   "metadata": {},
   "source": [
    "Here we use the generic `plot()` with the `method' argument and we change the image_cmap:"
   ]
  },
  {
   "cell_type": "code",
   "execution_count": null,
   "id": "850c6290",
   "metadata": {},
   "outputs": [],
   "source": [
    "_ = dataset.plot(method=\"image\", image_cmap=\"jet\", colorbar=True)"
   ]
  },
  {
   "cell_type": "markdown",
   "id": "f1e73745",
   "metadata": {},
   "source": [
    "The colormap normalization can be changed using the `norm` parameter, as illustrated below,\n",
    "for a centered colomap:"
   ]
  },
  {
   "cell_type": "code",
   "execution_count": null,
   "id": "f08ac26e",
   "metadata": {},
   "outputs": [],
   "source": [
    "import matplotlib as mpl\n",
    "\n",
    "norm = mpl.colors.CenteredNorm()\n",
    "_ = dataset.plot(method=\"image\", image_cmap=\"jet\", colorbar=True, norm=norm)"
   ]
  },
  {
   "cell_type": "markdown",
   "id": "1eebb158",
   "metadata": {},
   "source": [
    "or below for a log scale (more information about colormap normalization can be found\n",
    "[here](https://matplotlib.org/stable/users/explain/colors/colormapnorms.html))."
   ]
  },
  {
   "cell_type": "code",
   "execution_count": null,
   "id": "97f5b2cb",
   "metadata": {},
   "outputs": [],
   "source": [
    "norm = mpl.colors.LogNorm(vmin=0.1, vmax=4.0)\n",
    "_ = dataset.plot(method=\"image\", image_cmap=\"jet\", colorbar=True, norm=norm)"
   ]
  },
  {
   "cell_type": "markdown",
   "id": "b78719bb",
   "metadata": {},
   "source": [
    "Below an example of a waterfall plot:"
   ]
  },
  {
   "cell_type": "code",
   "execution_count": null,
   "id": "b19d5b1c",
   "metadata": {},
   "outputs": [],
   "source": [
    "prefs.reset()\n",
    "_ = dataset.plot_waterfall(figsize=(7, 4), y_reverse=True)"
   ]
  },
  {
   "cell_type": "markdown",
   "id": "8dbd3e9a",
   "metadata": {},
   "source": [
    "And finally an example of a surface plot:"
   ]
  },
  {
   "cell_type": "code",
   "execution_count": null,
   "id": "ac9e452b",
   "metadata": {
    "lines_to_next_cell": 0
   },
   "outputs": [],
   "source": [
    "prefs.reset()\n",
    "_ = dataset.plot_surface(figsize=(7, 7), linewidth=0, y_reverse=True, autolayout=False)"
   ]
  },
  {
   "cell_type": "markdown",
   "id": "a153affa",
   "metadata": {},
   "source": [
    "## Plotting 1D datasets"
   ]
  },
  {
   "cell_type": "code",
   "execution_count": null,
   "id": "d4d03d31",
   "metadata": {},
   "outputs": [],
   "source": [
    "prefs.reset()\n",
    "d1D = dataset[-1]  # select the last row of the previous 2D dataset\n",
    "_ = d1D.plot(color=\"r\")"
   ]
  },
  {
   "cell_type": "code",
   "execution_count": null,
   "id": "480026ac",
   "metadata": {},
   "outputs": [],
   "source": [
    "prefs.style = \"seaborn-v0_8-paper\"\n",
    "_ = dataset[3].plot(scatter=True, pen=False, me=30, ms=5)"
   ]
  },
  {
   "cell_type": "markdown",
   "id": "81c6013d",
   "metadata": {},
   "source": [
    "## Plotting several dataset on the same figure"
   ]
  },
  {
   "cell_type": "markdown",
   "id": "fceba474",
   "metadata": {},
   "source": [
    "We can plot several datasets on the same figure using the `clear` argument."
   ]
  },
  {
   "cell_type": "code",
   "execution_count": null,
   "id": "9f0e332d",
   "metadata": {},
   "outputs": [],
   "source": [
    "nspec = int(len(dataset) / 4)\n",
    "ds1 = dataset[:nspec]  # split the dataset into too parts\n",
    "ds2 = dataset[nspec:] - 2.0  # add an offset to the second part\n",
    "\n",
    "ax1 = ds1.plot_stack()\n",
    "_ = ds2.plot_stack(ax=ax1, clear=False, zlim=(-2.5, 4))"
   ]
  },
  {
   "cell_type": "markdown",
   "id": "b43d3c48",
   "metadata": {},
   "source": [
    "For 1D datasets only, you can also use the `plot_multiple`method:"
   ]
  },
  {
   "cell_type": "code",
   "execution_count": null,
   "id": "77703f91",
   "metadata": {},
   "outputs": [],
   "source": [
    "datasets = [dataset[0], dataset[10], dataset[20], dataset[50], dataset[53]]\n",
    "labels = [\"sample {}\".format(label) for label in [\"S1\", \"S10\", \"S20\", \"S50\", \"S53\"]]\n",
    "prefs.reset()\n",
    "prefs.axes.facecolor = \".99\"\n",
    "prefs.axes.grid = True\n",
    "_ = scp.plot_multiple(\n",
    "    method=\"scatter\", me=10, datasets=datasets, labels=labels, legend=\"best\"\n",
    ")"
   ]
  },
  {
   "cell_type": "markdown",
   "id": "ffac146b",
   "metadata": {},
   "source": [
    "## Overview of the main configuration parameters"
   ]
  },
  {
   "cell_type": "markdown",
   "id": "7177a639",
   "metadata": {},
   "source": [
    "To display a dictionary of the current settings (**compared to those set by default**\n",
    "at API startup), you can simply type :"
   ]
  },
  {
   "cell_type": "code",
   "execution_count": null,
   "id": "5300c04d",
   "metadata": {},
   "outputs": [],
   "source": [
    "prefs"
   ]
  },
  {
   "cell_type": "markdown",
   "id": "39b20823",
   "metadata": {},
   "source": [
    "**Warning**: Note that with respect to matplotlib,the parameters in the `dataset.preferences` dictionary\n",
    "have a slightly different name, e.g. `figure_figsize` (SpectroChemPy) instead of `figure.figsize` (matplotlib syntax)\n",
    "(this is because in SpectroChemPy, dot (` .` ) cannot be used in parameter name,\n",
    "and thus it is replaced by an underscore (`_` ))\n"
   ]
  },
  {
   "cell_type": "markdown",
   "id": "75c24239",
   "metadata": {},
   "source": [
    "To display the current values of **all parameters** corresponding to one group, e.g. `lines` , type:"
   ]
  },
  {
   "cell_type": "code",
   "execution_count": null,
   "id": "f8fb2cd5",
   "metadata": {},
   "outputs": [],
   "source": [
    "prefs.lines"
   ]
  },
  {
   "cell_type": "markdown",
   "id": "769a098f",
   "metadata": {},
   "source": [
    "To display **help** on a single parameter, type:"
   ]
  },
  {
   "cell_type": "code",
   "execution_count": null,
   "id": "52d510a1",
   "metadata": {},
   "outputs": [],
   "source": [
    "prefs.help(\"lines_linewidth\")"
   ]
  },
  {
   "cell_type": "markdown",
   "id": "78b11604",
   "metadata": {},
   "source": [
    "To view **all parameters**:"
   ]
  },
  {
   "cell_type": "code",
   "execution_count": null,
   "id": "b1e99d94",
   "metadata": {},
   "outputs": [],
   "source": [
    "prefs.all()"
   ]
  }
 ],
 "metadata": {
  "jupytext": {
   "encoding": "# -*- coding: utf-8 -*-",
   "formats": "ipynb,py:percent",
   "notebook_metadata_filter": "all"
  },
  "kernelspec": {
   "display_name": "Python 3",
   "language": "python",
   "name": "python3"
  },
  "language_info": {
   "codemirror_mode": {
    "name": "ipython",
    "version": 3
   },
   "file_extension": ".py",
   "mimetype": "text/x-python",
   "name": "python",
   "nbconvert_exporter": "python",
   "pygments_lexer": "ipython3",
   "version": "3.9.1"
  },
  "widgets": {
   "application/vnd.jupyter.widget-state+json": {
    "state": {},
    "version_major": 2,
    "version_minor": 0
   }
  }
 },
 "nbformat": 4,
 "nbformat_minor": 5
}
