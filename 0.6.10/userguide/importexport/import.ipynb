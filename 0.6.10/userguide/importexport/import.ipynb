{
 "cells": [
  {
   "cell_type": "markdown",
   "id": "00122efc",
   "metadata": {},
   "source": [
    "# Import Data\n",
    "\n",
    "This tutorial shows how to import data in **SpectroChemPy (SCPy)** .\n",
    "\n",
    "First, let's `import spectrochempy as scp` in the current\n",
    "namespace, so that all spectrochempy commands will be called as\n",
    "`scp.method(<method parameters>)` ."
   ]
  },
  {
   "cell_type": "code",
   "execution_count": 1,
   "id": "fafcc17d",
   "metadata": {
    "execution": {
     "iopub.execute_input": "2025-02-12T20:24:44.093677Z",
     "iopub.status.busy": "2025-02-12T20:24:44.093108Z",
     "iopub.status.idle": "2025-02-12T20:24:46.071628Z",
     "shell.execute_reply": "2025-02-12T20:24:46.071043Z"
    }
   },
   "outputs": [
    {
     "data": {
      "text/html": [
       "\n",
       "    \n",
       "    <div>\n",
       "    <table>\n",
       "    <tr>\n",
       "    <td>\n",
       "    \n",
       "    <img src='data:image/png;base64,iVBORw0KGgoAAAANSUhEUgAAABgAAAAYCAYAAADgdz34AAAAAXNSR0IArs4c6QAAAAlw\n",
       "    SFlzAAAJOgAACToB8GSSSgAAAetpVFh0WE1MOmNvbS5hZG9iZS54bXAAAAAAADx4OnhtcG1ldGEgeG1sbnM6eD0iYWRvYmU6bnM6\n",
       "    bWV0YS8iIHg6eG1wdGs9IlhNUCBDb3JlIDUuNC4wIj4KICAgPHJkZjpSREYgeG1sbnM6cmRmPSJodHRwOi8vd3d3LnczLm9yZy8x\n",
       "    OTk5LzAyLzIyLXJkZi1zeW50YXgtbnMjIj4KICAgICAgPHJkZjpEZXNjcmlwdGlvbiByZGY6YWJvdXQ9IiIKICAgICAgICAgICAg\n",
       "    eG1sbnM6eG1wPSJodHRwOi8vbnMuYWRvYmUuY29tL3hhcC8xLjAvIgogICAgICAgICAgICB4bWxuczp0aWZmPSJodHRwOi8vbnMu\n",
       "    YWRvYmUuY29tL3RpZmYvMS4wLyI+CiAgICAgICAgIDx4bXA6Q3JlYXRvclRvb2w+bWF0cGxvdGxpYiB2ZXJzaW9uIDIuMS4wLCBo\n",
       "    dHRwOi8vbWF0cGxvdGxpYi5vcmcvPC94bXA6Q3JlYXRvclRvb2w+CiAgICAgICAgIDx0aWZmOk9yaWVudGF0aW9uPjE8L3RpZmY6\n",
       "    T3JpZW50YXRpb24+CiAgICAgIDwvcmRmOkRlc2NyaXB0aW9uPgogICA8L3JkZjpSREY+CjwveDp4bXBtZXRhPgqNQaNYAAAGiUlE\n",
       "    QVRIDY1We4xU1Rn/3XPuYx47u8w+hnU38hTcuoUEt/6D2y4RB0ME1BoEd9taJaKh9CFiN7YGp7appUAMNmktMZFoJTYVLVQ0smsy\n",
       "    26CN0SU1QgsuFAaW3WVmx33N677O6XfuyoIxTXqSO/fec+75fd93vt/3/UbDV0aKSZmCpkFMLz3T9utuu2N+o98aDSMBKVAo89z5\n",
       "    y+zEz3ZafcCOfvWdlGCalqKn1Bf71CygTd+mf1esSOnpdMpTb+vWpTZuWVfe3jLPa5tzHYNm0T5N0gpdkkHaDBeGBU6d1/t/fyS8\n",
       "    +/CbqdfUvmsx1PuMgc2bNxv79u1zgd31r+7JH1jbIZKxWRXAcYUQ8IWvBfBXNjEuJWPgMA02NR7C3/pYT9fjdZ3A9tGrWF8YSJHn\n",
       "    qcDz3y7q2T967PZv+gnYJdd1mEZ+62zGDQV/dQgKhmLzDNOXCEWM3j6eTT5Y3w78dOBKJLR1PQf+4ivPj76UPZnssBN+wbM9Aet/\n",
       "    AV81Mf1EEULXYfOobvX2WWQk0aoioXwwSmirOlioY0mu8BIouzYl7P8GV3vpqCCEZvlFz769w08oLDWvyKIyL1asSm28d6WfzA97\n",
       "    ztvvV1kexUMsmhlkULEkuGYmFYC6AvfUrITnwUKl5K79lkjeSSRRTCTbQPd95e1WzMbZSya74XoXAxctCllCnbECMOjZNGRwvzIX\n",
       "    nD85wbkMmKK+U045Dtdi8Qp+SAxU2GTg2bYlC9224pgvmSb54vkVTBQYyhUt2KjAMyMmPjwRQW5Mh2WKwJhlBh6jVGagFM84wZnQ\n",
       "    4bpC0Rt4pk1PbSt0NDcxDA5xryosDHWgtbM0DGZDWLSoiDMDYeQnGVrmOThxLozB0RAaahzkJzjKNqcIQBymJFMkOlN8Dqjpg0XY\n",
       "    Tx5xO/QbmmUrqIjGJznq47TqTaClKYfjp+PInLMwnOdYvtQBZ2XcunQY+VwIo4U4muoFEjVEFE6lQyEUKzHYfgQG9ylCyngU+Cxj\n",
       "    tOqxCDGHcCsOMCs6iQul5ZiStdATYxjMZXDLTUVwLY8Jey4uOh2IxjwsrP8UXJYxUrkZrghBahzV5iXU6gNkq0Z1EzIsUBUSCV2n\n",
       "    EOHo0LVxHCpuxabJJdhi5PFnvw5vLXwXIfNZvD/+JNo/X40NegE54sUaazl+UL8XD1x+FB9Ijjt4EQfdGN6J/x131LwIV9ap/AYs\n",
       "    0x1fz1ZKFbh6A7qKy/By9Dg6G36Ep91vUJJ15Cqr0Z67E8/HzmBrw1OwxWyM+3Mo6BAuSB17oyfx0Oyl2DN0Hqs/70Cx6hBCvESF\n",
       "    UY1ShWXZZEE7OTAYxZzaPH4TuoiusZvRnunFy2NbiHYuBp2vB66srX4vMEjpRKPxKXmnoQ4+Mn4DPiv8CYcrs3GfNUXJLtM+alSO\n",
       "    hrMj/KT+wBNW3+E/2liywNO3iSflbaFva/+stGDTxE0E9Sjaox8HBhxpEamzMGSEaFKg+mjEddzDh1MxTDq3YV1kGBsjfwW3S9Cq\n",
       "    anjmko+ndlb1UR3s6K8JlfphNWq9Ew/7c61T2BB/EbcaNkb8GBaE0tANH7/M34PLdhJDzjIcL9xPbdTG6zyM72Y+wXPHmvB489No\n",
       "    fm0b5HnbQ9Rgp/7DSSd29AeVvPeNyK6JcYl/yQVi5dBjuGvoV/gaJe47s45QUxrDmcYX0MBsdF7egvXZ7+O0vZA4X8QmOQWjlSK7\n",
       "    RDz5wIM30gp9UbWcGjXxhzdDu1SiNSpx6kcQB57rPnr/3dlkZarWLnlRq5oPET1dOCIOk4wALib9eeS5iygfhkd09H0DWphB/+gs\n",
       "    +PcOAS+ssrFmmXXgVfR0de9cpbAJfH3Q1jofW9DZk56dDcVsq9YcsoUMEd1qyLoT3BX1YiyHMJuk97hyjqIoE91t+NcTLeN0ZrfM\n",
       "    oXatZbu6G0h4VG+ibqq0IJVK6cAjo6serG3vSUezCMct0yQeSOFJSUImqb2qbknUpDqlZxE0QZ+ZUpSlZx79h4Nda6zef9dlk121\n",
       "    JDjbR5XggPRZlRnS6bRQRtLpn4++cuie/Yvn2svmNxuLw9WCcYIl4fEoTEGiSTUqJdfgU+8ROqf1iMkLzS389YtNPXc/PH8l8ONB\n",
       "    JZkHD+4JtD04HmVEDWWErmBhzV2/2LB1bemJG6krzv2S6NOHUgtEP0Oif5pE/3fHoruP7N8RiP61GArzSwbUhJJQpXJKiKbfr/3b\n",
       "    IhKq76sKPUdF9NW/LSqfSn6vjv8C45H/6FSgvZQAAAAASUVORK5CYII='\n",
       "         style='height:25px; border-radius:12px; display:inline-block; float:left; vertical-align:middle'>\n",
       "    </img>\n",
       "    \n",
       "    </td>\n",
       "    <td>\n",
       "    \n",
       "    &nbsp;&nbsp;<span style='font-size:12px'>SpectroChemPy's API - v.0.6.11.dev0+g92c43643.d20250212<br/>© Copyright 2014-2025 - A.Travert & C.Fernandez @ LCS</span>\n",
       "    \n",
       "    </td>\n",
       "    </tr>\n",
       "    </table>\n",
       "    </div>\n",
       "    "
      ]
     },
     "metadata": {},
     "output_type": "display_data"
    }
   ],
   "source": [
    "import spectrochempy as scp"
   ]
  },
  {
   "cell_type": "markdown",
   "id": "0c315bfe",
   "metadata": {},
   "source": [
    "## Dialog boxes\n",
    "\n",
    "Retrieving Files and Directories, in day-to-day work is often made through Dialog\n",
    "Boxes. While we do not recommend\n",
    "this procedure for advanced usage (see below), it is quite easy to do that with SCPy.\n",
    "To do so, we can use the\n",
    "`read` function which open a dialog, allowing the selection of data file form various\n",
    "origin. By default,\n",
    "the native SCPy type of data is proposed (file suffix: ` .scp` ). The desired type of\n",
    "files to display can be chosen\n",
    "in a dropdown field."
   ]
  },
  {
   "cell_type": "code",
   "execution_count": 2,
   "id": "1c66580e",
   "metadata": {
    "execution": {
     "iopub.execute_input": "2025-02-12T20:24:46.074147Z",
     "iopub.status.busy": "2025-02-12T20:24:46.073543Z",
     "iopub.status.idle": "2025-02-12T20:24:46.367158Z",
     "shell.execute_reply": "2025-02-12T20:24:46.366485Z"
    }
   },
   "outputs": [],
   "source": [
    "X = scp.read()"
   ]
  },
  {
   "cell_type": "markdown",
   "id": "8bda50b8",
   "metadata": {},
   "source": [
    "The dialog box such as shown in this image:\n",
    "\n",
    "<center><img id='drawings' width='600px'  src='./images/read.png'></img></center>\n",
    "\n",
    "The dialog Box allows selecting the file which data will be loaded in the variable\n",
    "`X`\\. Try for instance to run the\n",
    "cell below, and select an omnic spg datafile (select the .spg extension), which you\n",
    "can find in the `irdata` directory.\n",
    "\n",
    "<div class='alert alert-warning'>\n",
    "<b>Tip</b>\n",
    "\n",
    "the dialog box does not necessarily pop up in the foreground: check your task bar !\n",
    "</div>\n",
    "\n",
    "Printing the returned NDDataset object X should read like this, with indication of\n",
    "the dataset `shape` , *i.e., * the `y` and  `x` dimension sizes:"
   ]
  },
  {
   "cell_type": "code",
   "execution_count": 3,
   "id": "b564cc7a",
   "metadata": {
    "execution": {
     "iopub.execute_input": "2025-02-12T20:24:46.369690Z",
     "iopub.status.busy": "2025-02-12T20:24:46.369282Z",
     "iopub.status.idle": "2025-02-12T20:24:46.372853Z",
     "shell.execute_reply": "2025-02-12T20:24:46.372238Z"
    }
   },
   "outputs": [
    {
     "name": "stdout",
     "output_type": "stream",
     "text": [
      "NDDataset: [float64] a.u. (shape: (y:55, x:5549))\n"
     ]
    }
   ],
   "source": [
    "print(X)"
   ]
  },
  {
   "cell_type": "markdown",
   "id": "e9971b4c",
   "metadata": {},
   "source": [
    "The size of the `y` and `x` dimension will depend, of course, of the file that you\n",
    "have selected ! If you did not\n",
    "select any file ( *e.g.,* by pressing 'cancel' in th Dialog Box), the result will be\n",
    "`None` , as nothing has been loaded in `X` .\n",
    "\n",
    "<div class='alert alert-info'>\n",
    "<b>Note</b>\n",
    "\n",
    "By default, the Dialog Box opens in the last directory you have used. However, if a\n",
    "directory path is specified, the dialog should open from this directory.\n",
    "</div>"
   ]
  },
  {
   "cell_type": "code",
   "execution_count": 4,
   "id": "d7769985",
   "metadata": {
    "execution": {
     "iopub.execute_input": "2025-02-12T20:24:46.374700Z",
     "iopub.status.busy": "2025-02-12T20:24:46.374501Z",
     "iopub.status.idle": "2025-02-12T20:24:46.817898Z",
     "shell.execute_reply": "2025-02-12T20:24:46.817270Z"
    }
   },
   "outputs": [
    {
     "name": "stdout",
     "output_type": "stream",
     "text": [
      "[NDDataset: [float64] a.u. (shape: (y:335, x:1868)), NDDataset: [float64] a.u. (shape: (y:4, x:5549))]\n"
     ]
    }
   ],
   "source": [
    "X = scp.read_omnic(\n",
    "    \"irdata/subdir\"\n",
    ")  # a WARNING is issued when some files are unreadable in the subdir (and thus ignored)\n",
    "print(X)"
   ]
  },
  {
   "cell_type": "markdown",
   "id": "86c9e763",
   "metadata": {},
   "source": [
    "See below for more information\n",
    "\n",
    "- At the time of writing this tutorial (SpectroChemPy v.0.1.23), the following\n",
    "commands will behave similarly:\n",
    "    - `read` to open any kind of recognised data files based on the file suffix\n",
    "      (e.g., .spg, etc...)\n",
    "    - `read_omnic` to open omnic (spa and spg) files\n",
    "    - `read_opus` to open Bruker Opus (.0, ...) files\n",
    "    - `read_labspec` to open LABSPEC6 files - this assumes they have been exported\n",
    "      as .txt files\n",
    "    - `read_topspin` to open Bruker Topspin NMR files\n",
    "    - `read_csv` to open csv files\n",
    "    - `read_jcamp` to open an IR JCAMP-DX datafile\n",
    "    - `read_matlab` to open MATLAB (.mat) files including Eingenvector's Dataset\n",
    "      objects\n",
    "\n",
    "\n",
    "- Additionally\n",
    "    - `read_dir` to open readable files in a directory\n",
    "\n",
    "\n",
    "- The list of readers available will hopefully increase in future **SCPy** releases.\n",
    "\n",
    "If successful, the output of the above cell should read something like\n",
    "\n",
    "    Out[2] NDDataset: [float64] a.u. (shape: (y:4, x:5549))"
   ]
  },
  {
   "cell_type": "markdown",
   "id": "d6011994",
   "metadata": {},
   "source": [
    "## Import with explicit directory or file pathnames\n",
    "\n",
    "While the use of Dialog Box seems at first 'user-friendly', you will probably\n",
    "experience that this is often **NOT**\n",
    "efficient because you will have to select the file *each time* the notebook (or the\n",
    "script) is run... Hence, the above commands can be used with the indication of the\n",
    "path to a directory, and/or to a filename.\n",
    "\n",
    "If only a directory is indicated, the dialog box will open in this directory.\n",
    "\n",
    "Note that on Windows the path separator is a backslash `\\\\` .\n",
    "However, in many contexts,\n",
    "backslash is also used as an escape character in order to represent non-printable\n",
    "characters. To avoid problems,\n",
    "either it has to be escaped itself,  a double backslash or one can also use raw\n",
    "string literals\n",
    "to represent Windows paths. These are string literals that have an `r` prepended to\n",
    "them. In raw string literals\n",
    "the `\\\\` represents a literal backslash: `r'C:\\users\\Brian'` :\n",
    "\n",
    "For instance, on Windows systems, the two following commands are fully equivalent:\n",
    "\n",
    "```ipython3\n",
    "X = scp.read_omnic(directory='C:\\\\users\\\\Brian')\n",
    "```\n",
    "\n",
    "or\n",
    "\n",
    "```ipython3\n",
    "X = scp.read_omnic(directory=r'C:\\users\\Brian')\n",
    "```\n",
    "\n",
    "and will open the dialog box at the root directory of the `C:` drive.\n",
    "\n",
    "You can avoid using the form `\\\\` or the use of raw strings by using conventional\n",
    "slash `/` . In python, they play the path separator role, as well in Windows than in\n",
    "other UNIX-based system (Linux, OSX, ...)\n",
    "\n",
    "```ipython3\n",
    "X = scp.read_omnic(directory='C:/users/Brian')\n",
    "```"
   ]
  },
  {
   "cell_type": "markdown",
   "id": "1b7f7a17",
   "metadata": {},
   "source": [
    "If a `filename` is passed in argument, like here:\n",
    "```ipython3\n",
    "X = scp.read_omnic('wodger.spg', directory='C:/')\n",
    "```\n",
    "then SpectroChemPy will attempt opening a file named `wodger.spg` supposedly located\n",
    "in `C:\\\\` .\n",
    "\n",
    "\n",
    "Imagine now that the file of interest is actually located in\n",
    "`C:\\users\\Brian\\s\\Life` . The following\n",
    "commands are all equivalent and will allow opening the file:\n",
    "\n",
    "- using only the full pathname of the file:\n",
    "```ipython3\n",
    "X = scp.read_omnic('C:/users/Brian/s/Life/wodger.spg')\n",
    "```\n",
    "\n",
    "- or using a combination of directory and file pathnames:\n",
    "```ipython3\n",
    "X = scp.read_omnic('wodger.spg', directory='C:/users/Brian/s/Life'\n",
    "X = scp.read_omnic('Life/wodger.spg', directory='C:/users/Brian/s')\n",
    "```\n",
    "\n",
    "- etc..."
   ]
  },
  {
   "cell_type": "markdown",
   "id": "c24129a7",
   "metadata": {},
   "source": [
    "### A good practice: use relative paths\n",
    "\n",
    "The above directives require explicitly writing the absolute pathnames, which are\n",
    "virtually always computer specific.\n",
    "If, for instance, Brian has a project organised in a folder (`s` ) with a directory\n",
    "dedicated to input data (`Life` )\n",
    "and a notebook for preprocessing (`welease.ipynb` ) as illustrate below:\n",
    "\n",
    "```\n",
    "C:\\users\n",
    "|    +-- Brian\n",
    "|    |    +-- s\n",
    "|    |    |   +-- Life\n",
    "|    |    |   |   +-- wodger.spg\n",
    "|    |    |   +-- welease.ipynb\n",
    "\n",
    "```\n",
    "\n",
    "Then running this project in John's Linux computer (e.g. in `/home/john/s_copy` )\n",
    "will certainly result in execution\n",
    "errors if absolute paths are used in the notebook:\n",
    "```text\n",
    "OSError: Can't find this filename C:\\users\\Brian\\s\\life\\wodger.spg\n",
    "```\n",
    "In this respect, a good practice consists in using relative pathnames in scripts and\n",
    "notebooks.\n",
    "Fortunately, SpectroChemPy readers use relative paths. If the given path is not\n",
    "absolute, then SpectroChemPy will search in the current directory. Hence, the opening\n",
    "of the `spg` file from scripts in `welease.ipynb` can be made\n",
    "by the command:\n",
    "```ipython3\n",
    "X = scp.read_omnic('Life/wodger.spg')\n",
    "```\n",
    "or:\n",
    "```ipython3\n",
    "X = scp.read_omnic('wodger.spg', directory='Life')\n",
    "```\n",
    "\n",
    "### Good practice: use `os` or `pathlib` modules\n",
    "\n",
    "In python, working with pathnames is classically done with dedicated modules such as\n",
    "`os` or `pathlib` python modules.\n",
    "With `os` we mention the following methods that can be particularly useful:\n",
    "\n",
    "```ipython3\n",
    "import os\n",
    "os.getcwd()              # returns the absolute path of the current working directory\n",
    "                         # preferences.datadir\n",
    "os.path.expanduser(\"~\")  # returns the home directory of the user\n",
    "os.path.join('path1','path2','path3', ...)\n",
    "                         # intelligently concatenates path components\n",
    "                         # using the system separator (`/` or `\\\\` )\n",
    "```\n",
    "\n",
    "Using `Pathlib` is even simpler:\n",
    "```ipython3\n",
    "from pathlib import Path\n",
    "Path.cwd()               # returns the absolute path of the current working directory\n",
    "Path.home()              # returns the home directory of the user\n",
    "Path('path1') / 'path2' / 'path3' / '...'   # intelligently concatenates path\n",
    "components\n",
    "```\n",
    "\n",
    " The interested readers will find more details on the use of these modules here:\n",
    "- [os](https://docs.python.org/3/library/os.html)\n",
    "- [pathlib](https://docs.python.org/3/library/pathlib.html)\n",
    "\n",
    "## Another default search directory: `datadir`\n",
    "\n",
    "Spectrochempy also comes with the definition of a second default directory path where\n",
    "to look at the data:\n",
    "the `datadir` directory. It is defined in the variable `preferences.datadir` which\n",
    "is imported at the same time as spectrochempy. By default, `datadir` points in the\n",
    "'scp_data/testdata' folder of SpectroChemPy:"
   ]
  },
  {
   "cell_type": "code",
   "execution_count": 5,
   "id": "758e12d4",
   "metadata": {
    "execution": {
     "iopub.execute_input": "2025-02-12T20:24:46.820351Z",
     "iopub.status.busy": "2025-02-12T20:24:46.819943Z",
     "iopub.status.idle": "2025-02-12T20:24:46.825163Z",
     "shell.execute_reply": "2025-02-12T20:24:46.824484Z"
    }
   },
   "outputs": [
    {
     "data": {
      "text/plain": [
       "PosixPath('/home/runner/.spectrochempy/testdata')"
      ]
     },
     "execution_count": 5,
     "metadata": {},
     "output_type": "execute_result"
    }
   ],
   "source": [
    "DATADIR = scp.preferences.datadir\n",
    "DATADIR"
   ]
  },
  {
   "cell_type": "markdown",
   "id": "62fed0f6",
   "metadata": {},
   "source": [
    "DATADIR is already a pathlib object and so can be used easily"
   ]
  },
  {
   "cell_type": "code",
   "execution_count": 6,
   "id": "0b1c120f",
   "metadata": {
    "execution": {
     "iopub.execute_input": "2025-02-12T20:24:46.827378Z",
     "iopub.status.busy": "2025-02-12T20:24:46.826919Z",
     "iopub.status.idle": "2025-02-12T20:24:46.956903Z",
     "shell.execute_reply": "2025-02-12T20:24:46.956142Z"
    }
   },
   "outputs": [],
   "source": [
    "X = scp.read_omnic(DATADIR / \"wodger.spg\")"
   ]
  },
  {
   "cell_type": "markdown",
   "id": "9839f7b7",
   "metadata": {},
   "source": [
    "It can be set to another pathname *permanently* (i.e., even after computer restart)\n",
    "by a new assignment:\n",
    "\n",
    "```ipython3\n",
    "scp.preferences.datadir = 'C:/users/Brian/s/Life'\n",
    "```\n",
    "\n",
    "This will change the default value in the SCPy preference file located in the hidden\n",
    "folder\n",
    "` .spectrochempy/` at the root of the user home directory.\n",
    "\n",
    "Finally, by default, the import functions used in Spectrochempy will search the data\n",
    "files using this order of\n",
    "precedence:\n",
    "\n",
    "   1. try absolute path\n",
    "   2. try in current working directory\n",
    "   3. try in `datadir`\n",
    "   4. if none of these works: generate an OSError (file or directory not found)\n"
   ]
  },
  {
   "cell_type": "markdown",
   "id": "92b82a1d",
   "metadata": {},
   "source": [
    "## File selector widget"
   ]
  },
  {
   "cell_type": "markdown",
   "id": "8ec9def7",
   "metadata": {},
   "source": [
    "A widget is provided to help with the selection of file names or directory.\n"
   ]
  },
  {
   "cell_type": "code",
   "execution_count": 7,
   "id": "c58419f4",
   "metadata": {
    "execution": {
     "iopub.execute_input": "2025-02-12T20:24:46.959708Z",
     "iopub.status.busy": "2025-02-12T20:24:46.959292Z",
     "iopub.status.idle": "2025-02-12T20:24:47.243055Z",
     "shell.execute_reply": "2025-02-12T20:24:47.242461Z"
    }
   },
   "outputs": [
    {
     "name": "stderr",
     "output_type": "stream",
     "text": [
      " WARNING | (UserWarning) This widget is not supported anymore and will be removed in a future version.\n"
     ]
    },
    {
     "data": {
      "application/vnd.jupyter.widget-view+json": {
       "model_id": "cc3de22a0a5d45c9ab4af2b4d4525ded",
       "version_major": 2,
       "version_minor": 0
      },
      "text/plain": [
       "To get widget to display, you must install ipy/jupyter-widgets, run in a notebook and, in the case of jupyter-lab, install the jlab extension."
      ]
     },
     "metadata": {},
     "output_type": "display_data"
    },
    {
     "ename": "AttributeError",
     "evalue": "'VBox' object has no attribute '_handle_displayed'",
     "output_type": "error",
     "traceback": [
      "\u001b[0;31m---------------------------------------------------------------------------\u001b[0m",
      "\u001b[0;31mAttributeError\u001b[0m                            Traceback (most recent call last)",
      "File \u001b[0;32m~/work/spectrochempy/spectrochempy/.venv/lib/python3.10/site-packages/IPython/core/formatters.py:984\u001b[0m, in \u001b[0;36mIPythonDisplayFormatter.__call__\u001b[0;34m(self, obj)\u001b[0m\n\u001b[1;32m    982\u001b[0m method \u001b[38;5;241m=\u001b[39m get_real_method(obj, \u001b[38;5;28mself\u001b[39m\u001b[38;5;241m.\u001b[39mprint_method)\n\u001b[1;32m    983\u001b[0m \u001b[38;5;28;01mif\u001b[39;00m method \u001b[38;5;129;01mis\u001b[39;00m \u001b[38;5;129;01mnot\u001b[39;00m \u001b[38;5;28;01mNone\u001b[39;00m:\n\u001b[0;32m--> 984\u001b[0m     \u001b[43mmethod\u001b[49m\u001b[43m(\u001b[49m\u001b[43m)\u001b[49m\n\u001b[1;32m    985\u001b[0m     \u001b[38;5;28;01mreturn\u001b[39;00m \u001b[38;5;28;01mTrue\u001b[39;00m\n",
      "File \u001b[0;32m~/work/spectrochempy/tempdirs/scp_twr7_lud/spectrochempy/widgets/fileselector.py:97\u001b[0m, in \u001b[0;36mBase._ipython_display_\u001b[0;34m(self, **kwargs)\u001b[0m\n\u001b[1;32m     88\u001b[0m data \u001b[38;5;241m=\u001b[39m {\n\u001b[1;32m     89\u001b[0m     \u001b[38;5;124m\"\u001b[39m\u001b[38;5;124mtext/plain\u001b[39m\u001b[38;5;124m\"\u001b[39m: plaintext,\n\u001b[1;32m     90\u001b[0m     \u001b[38;5;124m\"\u001b[39m\u001b[38;5;124mapplication/vnd.jupyter.widget-view+json\u001b[39m\u001b[38;5;124m\"\u001b[39m: {\n\u001b[0;32m   (...)\u001b[0m\n\u001b[1;32m     94\u001b[0m     },\n\u001b[1;32m     95\u001b[0m }\n\u001b[1;32m     96\u001b[0m IPython\u001b[38;5;241m.\u001b[39mdisplay\u001b[38;5;241m.\u001b[39mdisplay(data, raw\u001b[38;5;241m=\u001b[39m\u001b[38;5;28;01mTrue\u001b[39;00m)\n\u001b[0;32m---> 97\u001b[0m \u001b[38;5;28;43mself\u001b[39;49m\u001b[38;5;241;43m.\u001b[39;49m\u001b[43mwidget\u001b[49m\u001b[38;5;241;43m.\u001b[39;49m\u001b[43m_handle_displayed\u001b[49m(\u001b[38;5;241m*\u001b[39m\u001b[38;5;241m*\u001b[39mkwargs)\n",
      "\u001b[0;31mAttributeError\u001b[0m: 'VBox' object has no attribute '_handle_displayed'"
     ]
    },
    {
     "data": {
      "text/plain": [
       "To get widget to display, you must install ipy/jupyter-widgets, run in a notebook and, in the case of jupyter-lab, install the jlab extension."
      ]
     },
     "execution_count": 7,
     "metadata": {},
     "output_type": "execute_result"
    }
   ],
   "source": [
    "datadir = scp.preferences.datadir\n",
    "fs = scp.FileSelector(path=datadir, filters=[\"spg\", \"spa\"])\n",
    "fs"
   ]
  },
  {
   "cell_type": "markdown",
   "id": "f84bcd38",
   "metadata": {},
   "source": [
    "After validation of the selection, one can read the path and name of the selected\n",
    "files."
   ]
  },
  {
   "cell_type": "code",
   "execution_count": 8,
   "id": "1fedf76d",
   "metadata": {
    "execution": {
     "iopub.execute_input": "2025-02-12T20:24:47.245254Z",
     "iopub.status.busy": "2025-02-12T20:24:47.244849Z",
     "iopub.status.idle": "2025-02-12T20:24:47.249531Z",
     "shell.execute_reply": "2025-02-12T20:24:47.248999Z"
    }
   },
   "outputs": [
    {
     "data": {
      "text/plain": [
       "(None,\n",
       " PosixPath('/home/runner/.spectrochempy/testdata'),\n",
       " PosixPath('/home/runner/.spectrochempy/testdata'))"
      ]
     },
     "execution_count": 8,
     "metadata": {},
     "output_type": "execute_result"
    }
   ],
   "source": [
    "fs.value, fs.path, fs.fullpath"
   ]
  },
  {
   "cell_type": "code",
   "execution_count": null,
   "id": "bf29c574",
   "metadata": {},
   "outputs": [],
   "source": []
  }
 ],
 "metadata": {
  "jupytext": {
   "encoding": "# -*- coding: utf-8 -*-",
   "formats": "ipynb,py:percent",
   "notebook_metadata_filter": "all"
  },
  "kernelspec": {
   "display_name": "Python 3 (ipykernel)",
   "language": "python",
   "name": "python3"
  },
  "language_info": {
   "codemirror_mode": {
    "name": "ipython",
    "version": 3
   },
   "file_extension": ".py",
   "mimetype": "text/x-python",
   "name": "python",
   "nbconvert_exporter": "python",
   "pygments_lexer": "ipython3",
   "version": "3.10.16"
  },
  "toc-showcode": false,
  "toc-showtags": false,
  "widgets": {
   "application/vnd.jupyter.widget-state+json": {
    "state": {
     "05e6aa452d5a48e4ac21d6b8f9915a01": {
      "model_module": "@jupyter-widgets/base",
      "model_module_version": "2.0.0",
      "model_name": "LayoutModel",
      "state": {
       "_model_module": "@jupyter-widgets/base",
       "_model_module_version": "2.0.0",
       "_model_name": "LayoutModel",
       "_view_count": null,
       "_view_module": "@jupyter-widgets/base",
       "_view_module_version": "2.0.0",
       "_view_name": "LayoutView",
       "align_content": null,
       "align_items": null,
       "align_self": null,
       "border_bottom": null,
       "border_left": null,
       "border_right": null,
       "border_top": null,
       "bottom": null,
       "display": null,
       "flex": "100 1 auto",
       "flex_flow": null,
       "grid_area": null,
       "grid_auto_columns": null,
       "grid_auto_flow": null,
       "grid_auto_rows": null,
       "grid_column": null,
       "grid_gap": null,
       "grid_row": null,
       "grid_template_areas": null,
       "grid_template_columns": null,
       "grid_template_rows": null,
       "height": null,
       "justify_content": null,
       "justify_items": null,
       "left": null,
       "margin": null,
       "max_height": null,
       "max_width": null,
       "min_height": null,
       "min_width": null,
       "object_fit": null,
       "object_position": null,
       "order": null,
       "overflow": null,
       "padding": null,
       "right": null,
       "top": null,
       "visibility": null,
       "width": "auto"
      }
     },
     "159e0d3bab3148fcad577a9a02048be3": {
      "model_module": "@jupyter-widgets/controls",
      "model_module_version": "2.0.0",
      "model_name": "SelectModel",
      "state": {
       "_dom_classes": [],
       "_model_module": "@jupyter-widgets/controls",
       "_model_module_version": "2.0.0",
       "_model_name": "SelectModel",
       "_options_labels": [
        "agirdata",
        "dscdata",
        "galacticdata",
        "irdata",
        "matlabdata",
        "msdata",
        "nmrdata",
        "ramandata",
        "wodger.spg"
       ],
       "_view_count": null,
       "_view_module": "@jupyter-widgets/controls",
       "_view_module_version": "2.0.0",
       "_view_name": "SelectView",
       "description": "",
       "description_allow_html": false,
       "disabled": false,
       "index": null,
       "layout": "IPY_MODEL_424a94af46464caaad52aca27b07d79d",
       "rows": 7,
       "style": "IPY_MODEL_9c919856389948859e86b801981db428",
       "tabbable": null,
       "tooltip": null
      }
     },
     "24b7caee297644daa040cc78bf26e455": {
      "model_module": "@jupyter-widgets/base",
      "model_module_version": "2.0.0",
      "model_name": "LayoutModel",
      "state": {
       "_model_module": "@jupyter-widgets/base",
       "_model_module_version": "2.0.0",
       "_model_name": "LayoutModel",
       "_view_count": null,
       "_view_module": "@jupyter-widgets/base",
       "_view_module_version": "2.0.0",
       "_view_name": "LayoutView",
       "align_content": null,
       "align_items": null,
       "align_self": null,
       "border_bottom": null,
       "border_left": null,
       "border_right": null,
       "border_top": null,
       "bottom": null,
       "display": null,
       "flex": null,
       "flex_flow": null,
       "grid_area": null,
       "grid_auto_columns": null,
       "grid_auto_flow": null,
       "grid_auto_rows": null,
       "grid_column": null,
       "grid_gap": null,
       "grid_row": null,
       "grid_template_areas": null,
       "grid_template_columns": null,
       "grid_template_rows": null,
       "height": null,
       "justify_content": null,
       "justify_items": null,
       "left": null,
       "margin": null,
       "max_height": null,
       "max_width": null,
       "min_height": null,
       "min_width": null,
       "object_fit": null,
       "object_position": null,
       "order": null,
       "overflow": null,
       "padding": null,
       "right": null,
       "top": null,
       "visibility": null,
       "width": null
      }
     },
     "2a59954fb64e46e0af980a7d2522f1df": {
      "model_module": "@jupyter-widgets/base",
      "model_module_version": "2.0.0",
      "model_name": "LayoutModel",
      "state": {
       "_model_module": "@jupyter-widgets/base",
       "_model_module_version": "2.0.0",
       "_model_name": "LayoutModel",
       "_view_count": null,
       "_view_module": "@jupyter-widgets/base",
       "_view_module_version": "2.0.0",
       "_view_name": "LayoutView",
       "align_content": null,
       "align_items": null,
       "align_self": null,
       "border_bottom": null,
       "border_left": null,
       "border_right": null,
       "border_top": null,
       "bottom": null,
       "display": null,
       "flex": null,
       "flex_flow": null,
       "grid_area": null,
       "grid_auto_columns": null,
       "grid_auto_flow": null,
       "grid_auto_rows": null,
       "grid_column": null,
       "grid_gap": null,
       "grid_row": null,
       "grid_template_areas": null,
       "grid_template_columns": null,
       "grid_template_rows": null,
       "height": null,
       "justify_content": null,
       "justify_items": null,
       "left": null,
       "margin": null,
       "max_height": null,
       "max_width": null,
       "min_height": null,
       "min_width": null,
       "object_fit": null,
       "object_position": null,
       "order": null,
       "overflow": null,
       "padding": null,
       "right": null,
       "top": null,
       "visibility": null,
       "width": null
      }
     },
     "389a8f67b0b34d51a8147e9596cbd9de": {
      "model_module": "@jupyter-widgets/base",
      "model_module_version": "2.0.0",
      "model_name": "LayoutModel",
      "state": {
       "_model_module": "@jupyter-widgets/base",
       "_model_module_version": "2.0.0",
       "_model_name": "LayoutModel",
       "_view_count": null,
       "_view_module": "@jupyter-widgets/base",
       "_view_module_version": "2.0.0",
       "_view_name": "LayoutView",
       "align_content": null,
       "align_items": null,
       "align_self": null,
       "border_bottom": null,
       "border_left": null,
       "border_right": null,
       "border_top": null,
       "bottom": null,
       "display": null,
       "flex": null,
       "flex_flow": null,
       "grid_area": null,
       "grid_auto_columns": null,
       "grid_auto_flow": null,
       "grid_auto_rows": null,
       "grid_column": null,
       "grid_gap": null,
       "grid_row": null,
       "grid_template_areas": null,
       "grid_template_columns": null,
       "grid_template_rows": null,
       "height": null,
       "justify_content": null,
       "justify_items": null,
       "left": null,
       "margin": null,
       "max_height": null,
       "max_width": null,
       "min_height": null,
       "min_width": null,
       "object_fit": null,
       "object_position": null,
       "order": null,
       "overflow": null,
       "padding": null,
       "right": null,
       "top": null,
       "visibility": null,
       "width": "auto"
      }
     },
     "3fd444863bef45b48aed85acbee6407a": {
      "model_module": "@jupyter-widgets/controls",
      "model_module_version": "2.0.0",
      "model_name": "HBoxModel",
      "state": {
       "_dom_classes": [],
       "_model_module": "@jupyter-widgets/controls",
       "_model_module_version": "2.0.0",
       "_model_name": "HBoxModel",
       "_view_count": null,
       "_view_module": "@jupyter-widgets/controls",
       "_view_module_version": "2.0.0",
       "_view_name": "HBoxView",
       "box_style": "",
       "children": [
        "IPY_MODEL_159e0d3bab3148fcad577a9a02048be3",
        "IPY_MODEL_51071a5c7aeb4fa7a13a8f9120b0d80a"
       ],
       "layout": "IPY_MODEL_24b7caee297644daa040cc78bf26e455",
       "tabbable": null,
       "tooltip": null
      }
     },
     "424a94af46464caaad52aca27b07d79d": {
      "model_module": "@jupyter-widgets/base",
      "model_module_version": "2.0.0",
      "model_name": "LayoutModel",
      "state": {
       "_model_module": "@jupyter-widgets/base",
       "_model_module_version": "2.0.0",
       "_model_name": "LayoutModel",
       "_view_count": null,
       "_view_module": "@jupyter-widgets/base",
       "_view_module_version": "2.0.0",
       "_view_name": "LayoutView",
       "align_content": null,
       "align_items": null,
       "align_self": null,
       "border_bottom": null,
       "border_left": null,
       "border_right": null,
       "border_top": null,
       "bottom": null,
       "display": null,
       "flex": null,
       "flex_flow": null,
       "grid_area": null,
       "grid_auto_columns": null,
       "grid_auto_flow": null,
       "grid_auto_rows": null,
       "grid_column": null,
       "grid_gap": null,
       "grid_row": null,
       "grid_template_areas": null,
       "grid_template_columns": null,
       "grid_template_rows": null,
       "height": null,
       "justify_content": null,
       "justify_items": null,
       "left": null,
       "margin": null,
       "max_height": null,
       "max_width": null,
       "min_height": null,
       "min_width": null,
       "object_fit": null,
       "object_position": null,
       "order": null,
       "overflow": null,
       "padding": null,
       "right": null,
       "top": null,
       "visibility": null,
       "width": null
      }
     },
     "4c80bceae4434334a25a7ea6dbcf469e": {
      "model_module": "@jupyter-widgets/base",
      "model_module_version": "2.0.0",
      "model_name": "LayoutModel",
      "state": {
       "_model_module": "@jupyter-widgets/base",
       "_model_module_version": "2.0.0",
       "_model_name": "LayoutModel",
       "_view_count": null,
       "_view_module": "@jupyter-widgets/base",
       "_view_module_version": "2.0.0",
       "_view_name": "LayoutView",
       "align_content": null,
       "align_items": null,
       "align_self": null,
       "border_bottom": null,
       "border_left": null,
       "border_right": null,
       "border_top": null,
       "bottom": null,
       "display": null,
       "flex": null,
       "flex_flow": null,
       "grid_area": null,
       "grid_auto_columns": null,
       "grid_auto_flow": null,
       "grid_auto_rows": null,
       "grid_column": null,
       "grid_gap": null,
       "grid_row": null,
       "grid_template_areas": null,
       "grid_template_columns": null,
       "grid_template_rows": null,
       "height": null,
       "justify_content": null,
       "justify_items": null,
       "left": null,
       "margin": null,
       "max_height": null,
       "max_width": null,
       "min_height": null,
       "min_width": null,
       "object_fit": null,
       "object_position": null,
       "order": null,
       "overflow": null,
       "padding": null,
       "right": null,
       "top": null,
       "visibility": null,
       "width": null
      }
     },
     "51071a5c7aeb4fa7a13a8f9120b0d80a": {
      "model_module": "@jupyter-widgets/controls",
      "model_module_version": "2.0.0",
      "model_name": "VBoxModel",
      "state": {
       "_dom_classes": [],
       "_model_module": "@jupyter-widgets/controls",
       "_model_module_version": "2.0.0",
       "_model_name": "VBoxModel",
       "_view_count": null,
       "_view_module": "@jupyter-widgets/controls",
       "_view_module_version": "2.0.0",
       "_view_name": "VBoxView",
       "box_style": "",
       "children": [
        "IPY_MODEL_86978d2903cb439089152826b3f717bb",
        "IPY_MODEL_5686ad088c9c4c43936107876bed9419"
       ],
       "layout": "IPY_MODEL_4c80bceae4434334a25a7ea6dbcf469e",
       "tabbable": null,
       "tooltip": null
      }
     },
     "5686ad088c9c4c43936107876bed9419": {
      "model_module": "@jupyter-widgets/controls",
      "model_module_version": "2.0.0",
      "model_name": "ButtonModel",
      "state": {
       "_dom_classes": [],
       "_model_module": "@jupyter-widgets/controls",
       "_model_module_version": "2.0.0",
       "_model_name": "ButtonModel",
       "_view_count": null,
       "_view_module": "@jupyter-widgets/controls",
       "_view_module_version": "2.0.0",
       "_view_name": "ButtonView",
       "button_style": "",
       "description": "",
       "disabled": false,
       "icon": "check",
       "layout": "IPY_MODEL_389a8f67b0b34d51a8147e9596cbd9de",
       "style": "IPY_MODEL_c761bbff0baf41f7ac7df052eac4d98c",
       "tabbable": null,
       "tooltip": "OK"
      }
     },
     "58d76ccd28474e18b5ec450421425a94": {
      "model_module": "@jupyter-widgets/base",
      "model_module_version": "2.0.0",
      "model_name": "LayoutModel",
      "state": {
       "_model_module": "@jupyter-widgets/base",
       "_model_module_version": "2.0.0",
       "_model_name": "LayoutModel",
       "_view_count": null,
       "_view_module": "@jupyter-widgets/base",
       "_view_module_version": "2.0.0",
       "_view_name": "LayoutView",
       "align_content": null,
       "align_items": null,
       "align_self": null,
       "border_bottom": null,
       "border_left": null,
       "border_right": null,
       "border_top": null,
       "bottom": null,
       "display": null,
       "flex": "1 1 auto",
       "flex_flow": null,
       "grid_area": null,
       "grid_auto_columns": null,
       "grid_auto_flow": null,
       "grid_auto_rows": null,
       "grid_column": null,
       "grid_gap": null,
       "grid_row": null,
       "grid_template_areas": null,
       "grid_template_columns": null,
       "grid_template_rows": null,
       "height": null,
       "justify_content": null,
       "justify_items": null,
       "left": null,
       "margin": null,
       "max_height": null,
       "max_width": null,
       "min_height": null,
       "min_width": null,
       "object_fit": null,
       "object_position": null,
       "order": null,
       "overflow": null,
       "padding": null,
       "right": null,
       "top": null,
       "visibility": null,
       "width": "auto"
      }
     },
     "6323d4551ade406282222ca2846f087d": {
      "model_module": "@jupyter-widgets/controls",
      "model_module_version": "2.0.0",
      "model_name": "ButtonModel",
      "state": {
       "_dom_classes": [],
       "_model_module": "@jupyter-widgets/controls",
       "_model_module_version": "2.0.0",
       "_model_name": "ButtonModel",
       "_view_count": null,
       "_view_module": "@jupyter-widgets/controls",
       "_view_module_version": "2.0.0",
       "_view_name": "ButtonView",
       "button_style": "",
       "description": "",
       "disabled": false,
       "icon": "chevron-left",
       "layout": "IPY_MODEL_58d76ccd28474e18b5ec450421425a94",
       "style": "IPY_MODEL_df0a096da4564512a9edb7b5cd9c384f",
       "tabbable": null,
       "tooltip": "Parent"
      }
     },
     "6bc06e4ccf1c484cbef46b923cfb8149": {
      "model_module": "@jupyter-widgets/controls",
      "model_module_version": "2.0.0",
      "model_name": "BoxModel",
      "state": {
       "_dom_classes": [],
       "_model_module": "@jupyter-widgets/controls",
       "_model_module_version": "2.0.0",
       "_model_name": "BoxModel",
       "_view_count": null,
       "_view_module": "@jupyter-widgets/controls",
       "_view_module_version": "2.0.0",
       "_view_name": "BoxView",
       "box_style": "",
       "children": [
        "IPY_MODEL_6323d4551ade406282222ca2846f087d",
        "IPY_MODEL_b0c3dca5432a40998a4c1a9c7ab5dea5"
       ],
       "layout": "IPY_MODEL_7591ac6da7ef4085a26a42f7cf08f8bc",
       "tabbable": null,
       "tooltip": null
      }
     },
     "7591ac6da7ef4085a26a42f7cf08f8bc": {
      "model_module": "@jupyter-widgets/base",
      "model_module_version": "2.0.0",
      "model_name": "LayoutModel",
      "state": {
       "_model_module": "@jupyter-widgets/base",
       "_model_module_version": "2.0.0",
       "_model_name": "LayoutModel",
       "_view_count": null,
       "_view_module": "@jupyter-widgets/base",
       "_view_module_version": "2.0.0",
       "_view_name": "LayoutView",
       "align_content": null,
       "align_items": null,
       "align_self": null,
       "border_bottom": null,
       "border_left": null,
       "border_right": null,
       "border_top": null,
       "bottom": null,
       "display": null,
       "flex": null,
       "flex_flow": null,
       "grid_area": null,
       "grid_auto_columns": null,
       "grid_auto_flow": null,
       "grid_auto_rows": null,
       "grid_column": null,
       "grid_gap": null,
       "grid_row": null,
       "grid_template_areas": null,
       "grid_template_columns": null,
       "grid_template_rows": null,
       "height": null,
       "justify_content": null,
       "justify_items": null,
       "left": null,
       "margin": null,
       "max_height": null,
       "max_width": null,
       "min_height": null,
       "min_width": null,
       "object_fit": null,
       "object_position": null,
       "order": null,
       "overflow": null,
       "padding": null,
       "right": null,
       "top": null,
       "visibility": null,
       "width": null
      }
     },
     "79efaee7bf774d3693c12f5f2dca372d": {
      "model_module": "@jupyter-widgets/controls",
      "model_module_version": "2.0.0",
      "model_name": "ButtonStyleModel",
      "state": {
       "_model_module": "@jupyter-widgets/controls",
       "_model_module_version": "2.0.0",
       "_model_name": "ButtonStyleModel",
       "_view_count": null,
       "_view_module": "@jupyter-widgets/base",
       "_view_module_version": "2.0.0",
       "_view_name": "StyleView",
       "button_color": null,
       "font_family": null,
       "font_size": null,
       "font_style": null,
       "font_variant": null,
       "font_weight": null,
       "text_color": null,
       "text_decoration": null
      }
     },
     "86978d2903cb439089152826b3f717bb": {
      "model_module": "@jupyter-widgets/controls",
      "model_module_version": "2.0.0",
      "model_name": "ButtonModel",
      "state": {
       "_dom_classes": [],
       "_model_module": "@jupyter-widgets/controls",
       "_model_module_version": "2.0.0",
       "_model_name": "ButtonModel",
       "_view_count": null,
       "_view_module": "@jupyter-widgets/controls",
       "_view_module_version": "2.0.0",
       "_view_name": "ButtonView",
       "button_style": "",
       "description": "",
       "disabled": false,
       "icon": "close",
       "layout": "IPY_MODEL_eaef481422324bb3af523d0ecc0670cd",
       "style": "IPY_MODEL_79efaee7bf774d3693c12f5f2dca372d",
       "tabbable": null,
       "tooltip": "Close Selector"
      }
     },
     "9c919856389948859e86b801981db428": {
      "model_module": "@jupyter-widgets/controls",
      "model_module_version": "2.0.0",
      "model_name": "DescriptionStyleModel",
      "state": {
       "_model_module": "@jupyter-widgets/controls",
       "_model_module_version": "2.0.0",
       "_model_name": "DescriptionStyleModel",
       "_view_count": null,
       "_view_module": "@jupyter-widgets/base",
       "_view_module_version": "2.0.0",
       "_view_name": "StyleView",
       "description_width": ""
      }
     },
     "b0c3dca5432a40998a4c1a9c7ab5dea5": {
      "model_module": "@jupyter-widgets/controls",
      "model_module_version": "2.0.0",
      "model_name": "LabelModel",
      "state": {
       "_dom_classes": [],
       "_model_module": "@jupyter-widgets/controls",
       "_model_module_version": "2.0.0",
       "_model_name": "LabelModel",
       "_view_count": null,
       "_view_module": "@jupyter-widgets/controls",
       "_view_module_version": "2.0.0",
       "_view_name": "LabelView",
       "description": "",
       "description_allow_html": false,
       "layout": "IPY_MODEL_05e6aa452d5a48e4ac21d6b8f9915a01",
       "placeholder": "​",
       "style": "IPY_MODEL_e55a5049c50142af81eb1612ded2a3ac",
       "tabbable": null,
       "tooltip": null,
       "value": "../testdata"
      }
     },
     "c761bbff0baf41f7ac7df052eac4d98c": {
      "model_module": "@jupyter-widgets/controls",
      "model_module_version": "2.0.0",
      "model_name": "ButtonStyleModel",
      "state": {
       "_model_module": "@jupyter-widgets/controls",
       "_model_module_version": "2.0.0",
       "_model_name": "ButtonStyleModel",
       "_view_count": null,
       "_view_module": "@jupyter-widgets/base",
       "_view_module_version": "2.0.0",
       "_view_name": "StyleView",
       "button_color": null,
       "font_family": null,
       "font_size": null,
       "font_style": null,
       "font_variant": null,
       "font_weight": null,
       "text_color": null,
       "text_decoration": null
      }
     },
     "cc3de22a0a5d45c9ab4af2b4d4525ded": {
      "model_module": "@jupyter-widgets/controls",
      "model_module_version": "2.0.0",
      "model_name": "VBoxModel",
      "state": {
       "_dom_classes": [],
       "_model_module": "@jupyter-widgets/controls",
       "_model_module_version": "2.0.0",
       "_model_name": "VBoxModel",
       "_view_count": null,
       "_view_module": "@jupyter-widgets/controls",
       "_view_module_version": "2.0.0",
       "_view_name": "VBoxView",
       "box_style": "",
       "children": [
        "IPY_MODEL_6bc06e4ccf1c484cbef46b923cfb8149",
        "IPY_MODEL_3fd444863bef45b48aed85acbee6407a"
       ],
       "layout": "IPY_MODEL_2a59954fb64e46e0af980a7d2522f1df",
       "tabbable": null,
       "tooltip": null
      }
     },
     "df0a096da4564512a9edb7b5cd9c384f": {
      "model_module": "@jupyter-widgets/controls",
      "model_module_version": "2.0.0",
      "model_name": "ButtonStyleModel",
      "state": {
       "_model_module": "@jupyter-widgets/controls",
       "_model_module_version": "2.0.0",
       "_model_name": "ButtonStyleModel",
       "_view_count": null,
       "_view_module": "@jupyter-widgets/base",
       "_view_module_version": "2.0.0",
       "_view_name": "StyleView",
       "button_color": null,
       "font_family": null,
       "font_size": null,
       "font_style": null,
       "font_variant": null,
       "font_weight": null,
       "text_color": null,
       "text_decoration": null
      }
     },
     "e55a5049c50142af81eb1612ded2a3ac": {
      "model_module": "@jupyter-widgets/controls",
      "model_module_version": "2.0.0",
      "model_name": "LabelStyleModel",
      "state": {
       "_model_module": "@jupyter-widgets/controls",
       "_model_module_version": "2.0.0",
       "_model_name": "LabelStyleModel",
       "_view_count": null,
       "_view_module": "@jupyter-widgets/base",
       "_view_module_version": "2.0.0",
       "_view_name": "StyleView",
       "background": null,
       "description_width": "",
       "font_family": null,
       "font_size": null,
       "font_style": null,
       "font_variant": null,
       "font_weight": null,
       "text_color": null,
       "text_decoration": null
      }
     },
     "eaef481422324bb3af523d0ecc0670cd": {
      "model_module": "@jupyter-widgets/base",
      "model_module_version": "2.0.0",
      "model_name": "LayoutModel",
      "state": {
       "_model_module": "@jupyter-widgets/base",
       "_model_module_version": "2.0.0",
       "_model_name": "LayoutModel",
       "_view_count": null,
       "_view_module": "@jupyter-widgets/base",
       "_view_module_version": "2.0.0",
       "_view_name": "LayoutView",
       "align_content": null,
       "align_items": null,
       "align_self": null,
       "border_bottom": null,
       "border_left": null,
       "border_right": null,
       "border_top": null,
       "bottom": null,
       "display": null,
       "flex": null,
       "flex_flow": null,
       "grid_area": null,
       "grid_auto_columns": null,
       "grid_auto_flow": null,
       "grid_auto_rows": null,
       "grid_column": null,
       "grid_gap": null,
       "grid_row": null,
       "grid_template_areas": null,
       "grid_template_columns": null,
       "grid_template_rows": null,
       "height": null,
       "justify_content": null,
       "justify_items": null,
       "left": null,
       "margin": null,
       "max_height": null,
       "max_width": null,
       "min_height": null,
       "min_width": null,
       "object_fit": null,
       "object_position": null,
       "order": null,
       "overflow": null,
       "padding": null,
       "right": null,
       "top": null,
       "visibility": null,
       "width": "auto"
      }
     }
    },
    "version_major": 2,
    "version_minor": 0
   }
  }
 },
 "nbformat": 4,
 "nbformat_minor": 5
}
