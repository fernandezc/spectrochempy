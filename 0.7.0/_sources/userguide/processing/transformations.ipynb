{
 "cells": [
  {
   "cell_type": "markdown",
   "id": "2e469105",
   "metadata": {},
   "source": [
    "# Basic transformations\n",
    "\n",
    "Let's show some SpectroChemPy features on a group of IR spectra"
   ]
  },
  {
   "cell_type": "code",
   "execution_count": null,
   "id": "90780f5b",
   "metadata": {},
   "outputs": [],
   "source": [
    "import spectrochempy as scp\n",
    "from spectrochempy import MASKED\n",
    "from spectrochempy import DimensionalityError\n",
    "from spectrochempy import error_"
   ]
  },
  {
   "cell_type": "code",
   "execution_count": null,
   "id": "6b6b0e65",
   "metadata": {},
   "outputs": [],
   "source": [
    "dataset = scp.read_omnic(\"irdata/nh4y-activation.spg\")\n",
    "dataset.y -= dataset.y[0]\n",
    "dataset.y.title = \"time\"\n",
    "dataset"
   ]
  },
  {
   "cell_type": "code",
   "execution_count": null,
   "id": "260a0a92",
   "metadata": {},
   "outputs": [],
   "source": [
    "prefs = dataset.preferences\n",
    "prefs.figure.figsize = (6, 3)\n",
    "prefs.colormap = \"Dark2\"\n",
    "prefs.colorbar = True\n",
    "ax = dataset.plot()"
   ]
  },
  {
   "cell_type": "markdown",
   "id": "0377a697",
   "metadata": {},
   "source": [
    "## Masking data"
   ]
  },
  {
   "cell_type": "markdown",
   "id": "efa0084c",
   "metadata": {},
   "source": [
    "if we try to get for example the maximum of this dataset, we face a problem due to the saturation around\n",
    "1100 cm$^{-1}$."
   ]
  },
  {
   "cell_type": "code",
   "execution_count": null,
   "id": "7098d6f5",
   "metadata": {},
   "outputs": [],
   "source": [
    "dataset.max()"
   ]
  },
  {
   "cell_type": "markdown",
   "id": "ffb8a6fe",
   "metadata": {},
   "source": [
    "One way is to apply the max function to only a part of the spectrum (using [slicing](slicing.rst)). Another way is to\n",
    "mask the undesired data.\n",
    "\n",
    "Masking values in this case is straightforward. Just set a value `masked` or True for those data you want to mask."
   ]
  },
  {
   "cell_type": "code",
   "execution_count": null,
   "id": "5263d49b",
   "metadata": {},
   "outputs": [],
   "source": [
    "dataset[:, 1290.0:890.0] = MASKED\n",
    "# note that we specify floating values in order to sect wavenumbers, not index."
   ]
  },
  {
   "cell_type": "markdown",
   "id": "68e39341",
   "metadata": {},
   "source": [
    "Here is a display the figure with the new mask"
   ]
  },
  {
   "cell_type": "code",
   "execution_count": null,
   "id": "360d3fe8",
   "metadata": {},
   "outputs": [],
   "source": [
    "_ = dataset.plot_stack()"
   ]
  },
  {
   "cell_type": "markdown",
   "id": "6be01a68",
   "metadata": {},
   "source": [
    "Now the max function return the  maximum in the unmasked region, which is exactly what we wanted."
   ]
  },
  {
   "cell_type": "code",
   "execution_count": null,
   "id": "ebbe73a3",
   "metadata": {},
   "outputs": [],
   "source": [
    "dataset.max()"
   ]
  },
  {
   "cell_type": "markdown",
   "id": "9f364971",
   "metadata": {},
   "source": [
    "To clear this mask, we can simply do:"
   ]
  },
  {
   "cell_type": "code",
   "execution_count": null,
   "id": "546b0957",
   "metadata": {},
   "outputs": [],
   "source": [
    "dataset.remove_masks()\n",
    "_ = dataset.plot()"
   ]
  },
  {
   "cell_type": "markdown",
   "id": "12a84273",
   "metadata": {},
   "source": [
    "## Transposition"
   ]
  },
  {
   "cell_type": "markdown",
   "id": "aefaa30d",
   "metadata": {},
   "source": [
    "Dataset can be transposed"
   ]
  },
  {
   "cell_type": "code",
   "execution_count": null,
   "id": "e762a60d",
   "metadata": {},
   "outputs": [],
   "source": [
    "dataset[:, 1290.0:890.0] = MASKED  # we mask the unwanted columns\n",
    "t_dataset = dataset.T\n",
    "t_dataset"
   ]
  },
  {
   "cell_type": "markdown",
   "id": "6cfde744",
   "metadata": {},
   "source": [
    "As it can be observed the dimension `x`and `y`have been exchanged, *e.g.* the original shape was **(x: 5549, y: 55)**,\n",
    "and after transposition it is **(y:55, x:5549)**.\n",
    "(the dimension names stay the same, but the index of the corresponding axis are exchanged)."
   ]
  },
  {
   "cell_type": "markdown",
   "id": "7f2588f6",
   "metadata": {},
   "source": [
    "Let's visualize the result:"
   ]
  },
  {
   "cell_type": "code",
   "execution_count": null,
   "id": "514f86c2",
   "metadata": {},
   "outputs": [],
   "source": [
    "_ = t_dataset.plot()"
   ]
  },
  {
   "cell_type": "markdown",
   "id": "02c392e8",
   "metadata": {},
   "source": [
    "## Changing units"
   ]
  },
  {
   "cell_type": "markdown",
   "id": "f3ab0e57",
   "metadata": {},
   "source": [
    "Units of the data and coordinates can be changed, but only towards compatible units. For instance, data are in\n",
    "absorbance units, which are dimensionless (**a.u**). So a dimensionless units such as **radian** is allowed,\n",
    "even if in this case it makes very little sense."
   ]
  },
  {
   "cell_type": "code",
   "execution_count": null,
   "id": "4fff79e4",
   "metadata": {},
   "outputs": [],
   "source": [
    "dataset.units = \"radian\""
   ]
  },
  {
   "cell_type": "code",
   "execution_count": null,
   "id": "af2be758",
   "metadata": {},
   "outputs": [],
   "source": [
    "_ = dataset.plot()"
   ]
  },
  {
   "cell_type": "markdown",
   "id": "77cd89ba",
   "metadata": {},
   "source": [
    "Trying to change it in 'meter' for instance, will generate an error!"
   ]
  },
  {
   "cell_type": "code",
   "execution_count": null,
   "id": "762d3380",
   "metadata": {},
   "outputs": [],
   "source": [
    "try:\n",
    "    dataset.to(\"meter\")\n",
    "except DimensionalityError as e:\n",
    "    error_(DimensionalityError, e)"
   ]
  },
  {
   "cell_type": "markdown",
   "id": "be2a3af9",
   "metadata": {},
   "source": [
    "If this is for some reasons something you want to do, you must for the change:"
   ]
  },
  {
   "cell_type": "code",
   "execution_count": null,
   "id": "65493597",
   "metadata": {},
   "outputs": [],
   "source": [
    "d = dataset.to(\"meter\", force=True)\n",
    "d.units"
   ]
  },
  {
   "cell_type": "markdown",
   "id": "aa0f2092",
   "metadata": {},
   "source": [
    "When units are compatible there is no problem to modify it. For instance, we can\n",
    "change the `y` dimension units (\n",
    "Time) to hours. Her we use the inplace transformation `ito` ."
   ]
  },
  {
   "cell_type": "code",
   "execution_count": null,
   "id": "d212607d",
   "metadata": {},
   "outputs": [],
   "source": [
    "dataset.y.ito(\"hours\")\n",
    "_ = dataset.plot()"
   ]
  },
  {
   "cell_type": "markdown",
   "id": "ad8ea223",
   "metadata": {},
   "source": [
    "See [Units](../objects/dataset/dataset.ipynb#Units) for more details on these units operations"
   ]
  }
 ],
 "metadata": {
  "jupytext": {
   "formats": "ipynb,py:percent",
   "notebook_metadata_filter": "all"
  },
  "kernelspec": {
   "display_name": "Python 3 (ipykernel)",
   "language": "python",
   "name": "python3"
  },
  "language_info": {
   "codemirror_mode": {
    "name": "ipython",
    "version": 3
   },
   "file_extension": ".py",
   "mimetype": "text/x-python",
   "name": "python",
   "nbconvert_exporter": "python",
   "pygments_lexer": "ipython3",
   "version": "3.9.16"
  }
 },
 "nbformat": 4,
 "nbformat_minor": 5
}
