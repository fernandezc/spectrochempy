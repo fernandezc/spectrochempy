{
 "cells": [
  {
   "cell_type": "markdown",
   "id": "7c57829a",
   "metadata": {},
   "source": [
    "# One-dimensional (1D) Fourier transformation"
   ]
  },
  {
   "cell_type": "markdown",
   "id": "74000627",
   "metadata": {},
   "source": [
    "In this notebook, we are going to transform time-domain data into 1D or 2D spectra using SpectroChemPy\n",
    "processing tools"
   ]
  },
  {
   "cell_type": "code",
   "execution_count": null,
   "id": "7f069137",
   "metadata": {},
   "outputs": [],
   "source": [
    "import spectrochempy as scp"
   ]
  },
  {
   "cell_type": "markdown",
   "id": "1dd1f15f",
   "metadata": {},
   "source": [
    "## FFT of 1D NMR spectra"
   ]
  },
  {
   "cell_type": "markdown",
   "id": "c13cface",
   "metadata": {},
   "source": [
    "First we open read some time domain data. Here is a NMD free induction decay (FID):"
   ]
  },
  {
   "cell_type": "code",
   "execution_count": null,
   "id": "67856908",
   "metadata": {},
   "outputs": [],
   "source": [
    "path = scp.preferences.datadir / \"nmrdata\" / \"bruker\" / \"tests\" / \"nmr\" / \"topspin_1d\"\n",
    "fid = scp.read_topspin(path)\n",
    "fid"
   ]
  },
  {
   "cell_type": "markdown",
   "id": "f171eb93",
   "metadata": {},
   "source": [
    "The type of the data is complex:"
   ]
  },
  {
   "cell_type": "code",
   "execution_count": null,
   "id": "9def9013",
   "metadata": {},
   "outputs": [],
   "source": [
    "fid.dtype"
   ]
  },
  {
   "cell_type": "markdown",
   "id": "0a5fe71b",
   "metadata": {},
   "source": [
    "We can represent both real and imaginary parts on the same plot using the `show_complex` parameter."
   ]
  },
  {
   "cell_type": "code",
   "execution_count": null,
   "id": "6198af55",
   "metadata": {},
   "outputs": [],
   "source": [
    "prefs = fid.preferences\n",
    "prefs.figure.figsize = (6, 3)\n",
    "_ = fid.plot(show_complex=True, xlim=(0, 15000))\n",
    "print(\"td = \", fid.size)"
   ]
  },
  {
   "cell_type": "markdown",
   "id": "ad9ce220",
   "metadata": {},
   "source": [
    "Now we perform a Fast Fourier Transform (FFT):"
   ]
  },
  {
   "cell_type": "code",
   "execution_count": null,
   "id": "b20957da",
   "metadata": {},
   "outputs": [],
   "source": [
    "spec = scp.fft(fid)\n",
    "_ = spec.plot(xlim=(100, -100))\n",
    "print(\"si = \", spec.size)\n",
    "spec"
   ]
  },
  {
   "cell_type": "markdown",
   "id": "317d0a9c",
   "metadata": {},
   "source": [
    "**Alternative notation**"
   ]
  },
  {
   "cell_type": "code",
   "execution_count": null,
   "id": "17c584b9",
   "metadata": {},
   "outputs": [],
   "source": [
    "k = 1024\n",
    "spec = fid.fft(size=32 * k)\n",
    "_ = spec.plot(xlim=(100, -100))\n",
    "print(\"si = \", spec.size)"
   ]
  },
  {
   "cell_type": "code",
   "execution_count": null,
   "id": "a682b71d",
   "metadata": {},
   "outputs": [],
   "source": [
    "newfid = spec.ifft()\n",
    "# x coordinate is in second (base units) so lets transform it\n",
    "_ = newfid.plot(show_complex=True, xlim=(0, 15000))"
   ]
  },
  {
   "cell_type": "markdown",
   "id": "5bd6a47a",
   "metadata": {},
   "source": [
    "Let's compare fid and newfid. There differs as a rephasing has been automatically applied after the first FFT (with\n",
    "the parameters found in the original fid metadata: PHC0 and PHC1).\n",
    "\n",
    "First point in the time domain of the real part is at the maximum."
   ]
  },
  {
   "cell_type": "code",
   "execution_count": null,
   "id": "4219b49f",
   "metadata": {},
   "outputs": [],
   "source": [
    "_ = newfid.real.plot(c=\"r\", label=\"fft + ifft\")\n",
    "ax = fid.real.plot(clear=False, xlim=(0, 5000), ls=\"--\", label=\"original real part\")\n",
    "_ = ax.legend()"
   ]
  },
  {
   "cell_type": "markdown",
   "id": "7eb955de",
   "metadata": {},
   "source": [
    "First point in the time domain of the imaginary part is at the minimum."
   ]
  },
  {
   "cell_type": "code",
   "execution_count": null,
   "id": "9e7f62a0",
   "metadata": {},
   "outputs": [],
   "source": [
    "_ = fid.imag.plot(ls=\"--\", label=\"original imaginary part\")\n",
    "ax = newfid.imag.plot(clear=False, xlim=(0, 5000), c=\"r\", label=\"fft + ifft\")\n",
    "_ = ax.legend(loc=\"lower right\")"
   ]
  },
  {
   "cell_type": "markdown",
   "id": "bf66364d",
   "metadata": {},
   "source": [
    "## Preprocessing\n",
    "\n",
    "### Line broadening\n",
    "Often before applying FFT, some exponential multiplication `em`or other broadening filters such as `gm` or `sp`\n",
    "are applied.\n",
    "See the dedicated [apodization tutorial](apodization.rst)."
   ]
  },
  {
   "cell_type": "code",
   "execution_count": null,
   "id": "034504d1",
   "metadata": {},
   "outputs": [],
   "source": [
    "fid2 = fid.em(lb=\"50. Hz\")\n",
    "spec2 = fid2.fft()\n",
    "_ = spec2.plot()\n",
    "_ = spec.plot(\n",
    "    clear=False, xlim=(10, -5), c=\"r\"\n",
    ")  # superpose the non broadened spectrum in red and show expansion."
   ]
  },
  {
   "cell_type": "markdown",
   "id": "6f51b2fb",
   "metadata": {},
   "source": [
    "### Zero-filling"
   ]
  },
  {
   "cell_type": "code",
   "execution_count": null,
   "id": "93b73ec6",
   "metadata": {},
   "outputs": [],
   "source": [
    "print(\"td = \", fid.size)"
   ]
  },
  {
   "cell_type": "code",
   "execution_count": null,
   "id": "c971da24",
   "metadata": {},
   "outputs": [],
   "source": [
    "td = 64 * 1024  # size: 64 K\n",
    "fid3 = fid.zf_size(size=td)\n",
    "print(\"new td = \", fid3.x.size)"
   ]
  },
  {
   "cell_type": "code",
   "execution_count": null,
   "id": "c9ca58a3",
   "metadata": {},
   "outputs": [],
   "source": [
    "spec3 = fid3.fft()\n",
    "_ = spec3.plot(xlim=(100, -100))\n",
    "print(\"si = \", spec3.size)"
   ]
  },
  {
   "cell_type": "markdown",
   "id": "3e879222",
   "metadata": {},
   "source": [
    "### Time domain baseline correction\n",
    "See the dedicated [Time domain baseline correction tutorial](td_baseline.rst)."
   ]
  },
  {
   "cell_type": "markdown",
   "id": "d09a0369",
   "metadata": {},
   "source": [
    "### Magnitude calculation"
   ]
  },
  {
   "cell_type": "code",
   "execution_count": null,
   "id": "a3b2b959",
   "metadata": {},
   "outputs": [],
   "source": [
    "ms = spec.mc()\n",
    "_ = ms.plot(xlim=(10, -10))\n",
    "_ = spec.plot(clear=False, xlim=(10, -10), c=\"r\")"
   ]
  },
  {
   "cell_type": "markdown",
   "id": "15306188",
   "metadata": {},
   "source": [
    "### Power spectrum"
   ]
  },
  {
   "cell_type": "code",
   "execution_count": null,
   "id": "aa729135",
   "metadata": {},
   "outputs": [],
   "source": [
    "mp = spec.ps()\n",
    "_ = (mp / mp.max()).plot()\n",
    "_ = (spec / spec.max()).plot(\n",
    "    clear=False, xlim=(10, -10), c=\"r\"\n",
    ")  # Here we have normalized the spectra at their max value."
   ]
  },
  {
   "cell_type": "markdown",
   "id": "06bd4059",
   "metadata": {},
   "source": [
    "# Real Fourier transform"
   ]
  },
  {
   "cell_type": "markdown",
   "id": "c6430a83",
   "metadata": {},
   "source": [
    "In some case, it might be interesting to perform real Fourier transform . For instance, as a demonstration,\n",
    "we will independently transform real and imaginary part of the previous fid, and recombine them to obtain the same\n",
    "result as when performing complex fourier transform on the complex dataset."
   ]
  },
  {
   "cell_type": "code",
   "execution_count": null,
   "id": "1e5c60f4",
   "metadata": {},
   "outputs": [],
   "source": [
    "lim = (-20, 20)\n",
    "_ = spec3.plot(xlim=lim)\n",
    "_ = spec3.imag.plot(xlim=lim)"
   ]
  },
  {
   "cell_type": "code",
   "execution_count": null,
   "id": "ae18c4eb",
   "metadata": {},
   "outputs": [],
   "source": [
    "Re = fid3.real.astype(\"complex64\")\n",
    "fR = Re.fft()\n",
    "_ = fR.plot(xlim=lim, show_complex=True)\n",
    "Im = fid3.imag.astype(\"complex64\")\n",
    "fI = Im.fft()\n",
    "_ = fI.plot(xlim=lim, show_complex=True)"
   ]
  },
  {
   "cell_type": "markdown",
   "id": "86e7007e",
   "metadata": {},
   "source": [
    "Recombination:"
   ]
  },
  {
   "cell_type": "code",
   "execution_count": null,
   "id": "3172dacc",
   "metadata": {},
   "outputs": [],
   "source": [
    "_ = (fR - fI.imag).plot(xlim=lim)\n",
    "_ = (fR.imag + fI).plot(xlim=lim)"
   ]
  }
 ],
 "metadata": {
  "jupytext": {
   "cell_metadata_filter": "title,-all",
   "formats": "ipynb,py:percent",
   "notebook_metadata_filter": "all"
  },
  "kernelspec": {
   "display_name": "Python 3",
   "language": "python",
   "name": "python3"
  },
  "language_info": {
   "codemirror_mode": {
    "name": "ipython",
    "version": 3
   },
   "file_extension": ".py",
   "mimetype": "text/x-python",
   "name": "python",
   "nbconvert_exporter": "python",
   "pygments_lexer": "ipython3",
   "version": "3.9.1"
  },
  "widgets": {
   "application/vnd.jupyter.widget-state+json": {
    "state": {},
    "version_major": 2,
    "version_minor": 0
   }
  }
 },
 "nbformat": 4,
 "nbformat_minor": 5
}
