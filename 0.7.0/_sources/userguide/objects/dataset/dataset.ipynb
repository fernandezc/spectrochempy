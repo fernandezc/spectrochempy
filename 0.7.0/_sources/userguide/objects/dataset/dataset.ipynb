{
 "cells": [
  {
   "cell_type": "markdown",
   "id": "a88233bd",
   "metadata": {},
   "source": [
    "# The NDDataset object"
   ]
  },
  {
   "cell_type": "markdown",
   "id": "a8e7dbb5",
   "metadata": {},
   "source": [
    "The NDDataset is the main object use by **SpectroChemPy**.\n",
    "\n",
    "Like numpy ndarrays, NDDataset have the capability to be sliced, sorted and subject to\n",
    "mathematical operations.\n",
    "\n",
    "But, in addition, NDDataset may have units, can be masked and each dimensions can have\n",
    "coordinates also with units.\n",
    "This make NDDataset aware of units compatibility, *e.g.*, for binary operation such as\n",
    "additions or subtraction or during the application of mathematical operations.\n",
    "In addition or in replacement of numerical data for coordinates,\n",
    "NDDataset can also have labeled coordinates where labels can be different kind of\n",
    "objects (strings, datetime,\n",
    "numpy nd.ndarray or other NDDatasets, etc...).\n",
    "\n",
    "This offers a lot of flexibility in using NDDatasets that,  we hope, will be useful\n",
    "for applications.\n",
    "See the See the [Examples](../../../gettingstarted/examples/gallery/auto_examples_core/index.rst) for\n",
    "additional information about such possible applications."
   ]
  },
  {
   "cell_type": "markdown",
   "id": "760172b7",
   "metadata": {},
   "source": [
    "**Below (and in the next sections), we try to give an almost complete view of the\n",
    "NDDataset features.**"
   ]
  },
  {
   "cell_type": "code",
   "execution_count": null,
   "id": "6c4b9260",
   "metadata": {
    "lines_to_next_cell": 0
   },
   "outputs": [],
   "source": []
  },
  {
   "cell_type": "markdown",
   "id": "629e194f",
   "metadata": {
    "lines_to_next_cell": 0
   },
   "source": [
    "As we will make some reference to the\n",
    "**[numpy](https://numpy.org/doc/stable/index.html)** library, we also import it here."
   ]
  },
  {
   "cell_type": "code",
   "execution_count": null,
   "id": "06893774",
   "metadata": {},
   "outputs": [],
   "source": [
    "import numpy as np\n",
    "\n",
    "import spectrochempy as scp"
   ]
  },
  {
   "cell_type": "markdown",
   "id": "b24a0acc",
   "metadata": {
    "lines_to_next_cell": 0
   },
   "source": [
    "We additionally import the three main SpectroChemPy objects that we will use through\n",
    "this tutorial"
   ]
  },
  {
   "cell_type": "code",
   "execution_count": null,
   "id": "6ba2d01a",
   "metadata": {},
   "outputs": [],
   "source": [
    "from spectrochempy import Coord\n",
    "from spectrochempy import CoordSet\n",
    "from spectrochempy import NDDataset"
   ]
  },
  {
   "cell_type": "markdown",
   "id": "4c1186a7",
   "metadata": {
    "lines_to_next_cell": 0
   },
   "source": [
    "For a convenient usage of units, we will also directly import\n",
    "**[ur]((#Units)**, the unit registry which contains all available\n",
    "units."
   ]
  },
  {
   "cell_type": "code",
   "execution_count": null,
   "id": "51d3626c",
   "metadata": {},
   "outputs": [],
   "source": [
    "from spectrochempy import ur"
   ]
  },
  {
   "cell_type": "markdown",
   "id": "abbb1c2d",
   "metadata": {},
   "source": [
    "Multidimensional array are defined in Spectrochempy using the `NDDataset` object.\n",
    "\n",
    "`NDDataset` objects mostly behave as numpy's `numpy.ndarray`\n",
    "(see for instance __\n",
    "[numpy quickstart tutorial](https://numpy.org/doc/stable/user/quickstart.html)__)."
   ]
  },
  {
   "cell_type": "markdown",
   "id": "cef1f36f",
   "metadata": {},
   "source": [
    "However, unlike raw numpy's ndarray, the presence of optional properties make\n",
    "them (hopefully) more appropriate for handling spectroscopic information,\n",
    "one of the major objectives of the SpectroChemPy package:\n",
    "\n",
    "*  `mask`: Data can be partially masked at will\n",
    "*  `units`: Data can have units, allowing units-aware operations\n",
    "*  `CoordSet`: Data can have a set of coordinates, one or several by dimensions\n",
    "\n",
    "Additional metadata can also be added to the instances of this class\n",
    "through the `meta` properties."
   ]
  },
  {
   "cell_type": "markdown",
   "id": "2ac068a8",
   "metadata": {},
   "source": [
    "## 1D-Dataset (unidimensional dataset)"
   ]
  },
  {
   "cell_type": "markdown",
   "id": "0e7d97cb",
   "metadata": {},
   "source": [
    "In the following example, a minimal 1D dataset is created from a simple list,\n",
    "to which we can add some metadata:"
   ]
  },
  {
   "cell_type": "code",
   "execution_count": null,
   "id": "aaf8d010",
   "metadata": {},
   "outputs": [],
   "source": [
    "d1D = NDDataset(\n",
    "    [10.0, 20.0, 30.0],\n",
    "    name=\"Dataset N1\",\n",
    "    author=\"Blake and Mortimer\",\n",
    "    description=\"A dataset from scratch\",\n",
    "    history=\"creation\",\n",
    ")\n",
    "d1D"
   ]
  },
  {
   "cell_type": "code",
   "execution_count": null,
   "id": "5d070285",
   "metadata": {},
   "outputs": [],
   "source": [
    "print(d1D)"
   ]
  },
  {
   "cell_type": "code",
   "execution_count": null,
   "id": "c90defff",
   "metadata": {},
   "outputs": [],
   "source": [
    "_ = d1D.plot(figsize=(3, 2))"
   ]
  },
  {
   "cell_type": "markdown",
   "id": "10749f05",
   "metadata": {},
   "source": [
    "Except few additional metadata such `author` , `created` ..., there is not much\n",
    "difference with respect to a conventional\n",
    "**[numpy.array](\n",
    "https://numpy.org/doc/stable/reference/generated/numpy.array.html#numpy.array)**.\n",
    "For example, one\n",
    "can apply numpy\n",
    "**[ufunc](https://numpy.org/doc/stable/reference/ufuncs.html#available-ufuncs)'s**\n",
    "directly to a NDDataset or make basic arithmetic\n",
    "operation with these objects:"
   ]
  },
  {
   "cell_type": "code",
   "execution_count": null,
   "id": "914bcf4f",
   "metadata": {},
   "outputs": [],
   "source": [
    "np.sqrt(d1D)"
   ]
  },
  {
   "cell_type": "code",
   "execution_count": null,
   "id": "043ee8ca",
   "metadata": {},
   "outputs": [],
   "source": [
    "d1D += d1D / 2.0\n",
    "d1D"
   ]
  },
  {
   "cell_type": "markdown",
   "id": "e175ae4c",
   "metadata": {},
   "source": [
    "As seen above, there are some attributes that are automatically added to the dataset:\n",
    "\n",
    "* `id`      : This is a unique identifier for the object.\n",
    "* `name`: A short and unique name for the dataset. It will beequal to the automatic\n",
    "`id` if it is not provided.\n",
    "* `author`  : Author determined from the computer name if not provided.\n",
    "* `created` : Date and time of creation.\n",
    "* `modified`: Date and time of modification.\n",
    "\n",
    "These attributes can be modified by the user, but the `id` , `created` and `modified`\n",
    "attributes are read only.\n",
    "\n",
    "Some other attributes are defined to describe the data:\n",
    "* `title`: A long name that will be used in plots or in some other operations.\n",
    "* `history`: history of operation achieved on the object since the object creation.\n",
    "* `description`: A comment or a description of the objects purpose or contents.\n",
    "* `origin`: An optional reference to the source of the data."
   ]
  },
  {
   "cell_type": "markdown",
   "id": "c654ff2e",
   "metadata": {},
   "source": [
    "Here is an example of the use of the NDDataset attributes:"
   ]
  },
  {
   "cell_type": "code",
   "execution_count": null,
   "id": "9dcc4a1f",
   "metadata": {},
   "outputs": [],
   "source": [
    "d1D.title = \"intensity\"\n",
    "d1D.name = \"mydataset\"\n",
    "d1D.history = \"created from scratch\"\n",
    "d1D.description = \"Some experimental measurements\"\n",
    "d1D"
   ]
  },
  {
   "cell_type": "markdown",
   "id": "d3ef774b",
   "metadata": {},
   "source": [
    "d1D is a 1D (1-dimensional) dataset with only one dimension.\n",
    "\n",
    "Some attributes are useful to check this kind of information:"
   ]
  },
  {
   "cell_type": "code",
   "execution_count": null,
   "id": "736a095e",
   "metadata": {},
   "outputs": [],
   "source": [
    "d1D.shape  # the shape of 1D contain only one dimension size"
   ]
  },
  {
   "cell_type": "code",
   "execution_count": null,
   "id": "06fd1cc3",
   "metadata": {},
   "outputs": [],
   "source": [
    "d1D.ndim  # the number of dimensions"
   ]
  },
  {
   "cell_type": "code",
   "execution_count": null,
   "id": "72fb8828",
   "metadata": {},
   "outputs": [],
   "source": [
    "d1D.dims  # the name of the dimension (it has been automatically attributed)"
   ]
  },
  {
   "cell_type": "markdown",
   "id": "8fa71e42",
   "metadata": {},
   "source": [
    "**Note**: The names of the dimensions are set automatically. But they can be changed,\n",
    "with <u>the limitation</u> that the\n",
    "name must be a single letter."
   ]
  },
  {
   "cell_type": "code",
   "execution_count": null,
   "id": "cefc368b",
   "metadata": {},
   "outputs": [],
   "source": [
    "d1D.dims = [\"q\"]  # change the list of dim names."
   ]
  },
  {
   "cell_type": "code",
   "execution_count": null,
   "id": "3cf9c0e9",
   "metadata": {},
   "outputs": [],
   "source": [
    "d1D.dims"
   ]
  },
  {
   "cell_type": "markdown",
   "id": "0b7b9b36",
   "metadata": {},
   "source": [
    "### nD-Dataset (multidimensional dataset)"
   ]
  },
  {
   "cell_type": "markdown",
   "id": "5e9f0175",
   "metadata": {},
   "source": [
    "To create a nD NDDataset, we can provide a nD-array like object to the NDDataset\n",
    "instance constructor"
   ]
  },
  {
   "cell_type": "code",
   "execution_count": null,
   "id": "faeca587",
   "metadata": {},
   "outputs": [],
   "source": [
    "a = np.random.rand(2, 4, 6)\n",
    "a"
   ]
  },
  {
   "cell_type": "code",
   "execution_count": null,
   "id": "4423f848",
   "metadata": {},
   "outputs": [],
   "source": [
    "d3D = NDDataset(a)\n",
    "d3D.title = \"energy\"\n",
    "d3D.author = \"Someone\"\n",
    "d3D.name = \"3D dataset creation\"\n",
    "d3D.history = \"created from scratch\"\n",
    "d3D.description = \"Some example\"\n",
    "d3D.dims = [\"u\", \"v\", \"t\"]\n",
    "d3D"
   ]
  },
  {
   "cell_type": "markdown",
   "id": "d62c13ba",
   "metadata": {},
   "source": [
    "We can also add all information in a single statement"
   ]
  },
  {
   "cell_type": "code",
   "execution_count": null,
   "id": "18009117",
   "metadata": {},
   "outputs": [],
   "source": [
    "d3D = NDDataset(\n",
    "    a,\n",
    "    dims=[\"u\", \"v\", \"t\"],\n",
    "    title=\"Energy\",\n",
    "    author=\"Someone\",\n",
    "    name=\"3D_dataset\",\n",
    "    history=\"created from scratch\",\n",
    "    description=\"a single statement creation example\",\n",
    ")\n",
    "d3D"
   ]
  },
  {
   "cell_type": "markdown",
   "id": "8d20b837",
   "metadata": {},
   "source": [
    "Three names are attributed at the creation (if they are not provided with the `dims`\n",
    "attribute, then the name are:\n",
    "'z','y','x' automatically attributed)"
   ]
  },
  {
   "cell_type": "code",
   "execution_count": null,
   "id": "db555b2e",
   "metadata": {},
   "outputs": [],
   "source": [
    "d3D.dims"
   ]
  },
  {
   "cell_type": "code",
   "execution_count": null,
   "id": "a51c7a30",
   "metadata": {},
   "outputs": [],
   "source": [
    "d3D.ndim"
   ]
  },
  {
   "cell_type": "code",
   "execution_count": null,
   "id": "c383d458",
   "metadata": {},
   "outputs": [],
   "source": [
    "d3D.shape"
   ]
  },
  {
   "cell_type": "markdown",
   "id": "b121b1a8",
   "metadata": {},
   "source": [
    "## About the dates and times\n",
    "The dates and times are stored internally as\n",
    "[UTC (Coordinated_Universal_Time)](https://en.wikipedia.org/wiki/Coordinated_\n",
    "Universal_Time).\n",
    "Timezone information is stored in the timezone attribute.\n",
    "If not set, the default is to use the local timezone,\n",
    "which is probably the most common case."
   ]
  },
  {
   "cell_type": "code",
   "execution_count": null,
   "id": "ed85c214",
   "metadata": {},
   "outputs": [],
   "source": [
    "nd = NDDataset()\n",
    "nd.created"
   ]
  },
  {
   "cell_type": "markdown",
   "id": "3d80a6d3",
   "metadata": {},
   "source": [
    "In this case our local timezone has been used by default for the conversion from\n",
    "UTC datetime."
   ]
  },
  {
   "cell_type": "code",
   "execution_count": null,
   "id": "ff19e1c9",
   "metadata": {},
   "outputs": [],
   "source": [
    "nd.local_timezone"
   ]
  },
  {
   "cell_type": "code",
   "execution_count": null,
   "id": "ff52b613",
   "metadata": {},
   "outputs": [],
   "source": [
    "nd.timezone = \"EST\"\n",
    "nd.created"
   ]
  },
  {
   "cell_type": "markdown",
   "id": "48f00ceb",
   "metadata": {},
   "source": [
    "For a list of timezone code (TZ) you can have a look at\n",
    "[List_of_tz_database_time_zones](\n",
    "https://en.wikipedia.org/wiki/List_of_tz_database_time_zones)."
   ]
  },
  {
   "cell_type": "markdown",
   "id": "69efdd59",
   "metadata": {},
   "source": [
    "## About the `history` attribute"
   ]
  },
  {
   "cell_type": "markdown",
   "id": "827008f4",
   "metadata": {},
   "source": [
    "The history is saved internally into a list, but its has a different behaviour than\n",
    "the usual list.\n",
    "The first time a NDDataset is created, the list is empty"
   ]
  },
  {
   "cell_type": "code",
   "execution_count": null,
   "id": "9ae8fc01",
   "metadata": {},
   "outputs": [],
   "source": [
    "nd = NDDataset()\n",
    "nd.history"
   ]
  },
  {
   "cell_type": "markdown",
   "id": "4c58eca0",
   "metadata": {},
   "source": [
    "Assigning a string to the history attribute has two effects. The first one is that\n",
    "the string is appended automatically to the previous history list, and second it is\n",
    "preceeded by the time it has been added."
   ]
  },
  {
   "cell_type": "code",
   "execution_count": null,
   "id": "ed0e5c3a",
   "metadata": {},
   "outputs": [],
   "source": [
    "nd.history = \"some history\"\n",
    "nd.history = \"another history to append\"\n",
    "nd.history = \"...\"\n",
    "nd.history"
   ]
  },
  {
   "cell_type": "markdown",
   "id": "9215e3fd",
   "metadata": {},
   "source": [
    "If you want to erase the history, assign an empty list"
   ]
  },
  {
   "cell_type": "code",
   "execution_count": null,
   "id": "1335ef00",
   "metadata": {},
   "outputs": [],
   "source": [
    "nd.history = []\n",
    "nd.history"
   ]
  },
  {
   "cell_type": "markdown",
   "id": "820d6fc8",
   "metadata": {},
   "source": [
    "If you want to replace the full history use bracket around your history line:"
   ]
  },
  {
   "cell_type": "code",
   "execution_count": null,
   "id": "3b34c05f",
   "metadata": {},
   "outputs": [],
   "source": [
    "nd.history = \"Created form scratch\"\n",
    "nd.history = \"a second ligne that will be erased\"\n",
    "nd.history = [\"A more interesting message\"]\n",
    "nd.history"
   ]
  },
  {
   "cell_type": "markdown",
   "id": "2132dd7b",
   "metadata": {},
   "source": [
    "## Units"
   ]
  },
  {
   "cell_type": "markdown",
   "id": "125c088b",
   "metadata": {},
   "source": [
    "One interesting possibility for a NDDataset is to have defined units for the internal\n",
    "data."
   ]
  },
  {
   "cell_type": "code",
   "execution_count": null,
   "id": "917ce03b",
   "metadata": {},
   "outputs": [],
   "source": [
    "d1D.units = ur.eV  # ur is a registry containing all available units"
   ]
  },
  {
   "cell_type": "code",
   "execution_count": null,
   "id": "1586bb9d",
   "metadata": {},
   "outputs": [],
   "source": [
    "d1D  # note the eV symbol of the units added to the values field below"
   ]
  },
  {
   "cell_type": "markdown",
   "id": "3f55d06c",
   "metadata": {},
   "source": [
    "This allows to make units-aware calculations:"
   ]
  },
  {
   "cell_type": "code",
   "execution_count": null,
   "id": "38df5146",
   "metadata": {},
   "outputs": [],
   "source": [
    "d1D**2  # note the results in eV^2"
   ]
  },
  {
   "cell_type": "code",
   "execution_count": null,
   "id": "71ba526e",
   "metadata": {},
   "outputs": [],
   "source": [
    "np.sqrt(d1D)  # note the result in e^0.5"
   ]
  },
  {
   "cell_type": "code",
   "execution_count": null,
   "id": "1d50e95e",
   "metadata": {},
   "outputs": [],
   "source": [
    "time = 5.0 * ur.second\n",
    "d1D / time  # here we get results in eV/s"
   ]
  },
  {
   "cell_type": "markdown",
   "id": "deaa806b",
   "metadata": {},
   "source": [
    "Conversion can be done between different units transparently"
   ]
  },
  {
   "cell_type": "code",
   "execution_count": null,
   "id": "8ada3301",
   "metadata": {},
   "outputs": [],
   "source": [
    "d1D.to(\"J\")"
   ]
  },
  {
   "cell_type": "code",
   "execution_count": null,
   "id": "ed87290a",
   "metadata": {},
   "outputs": [],
   "source": [
    "d1D.to(\"K\")"
   ]
  },
  {
   "cell_type": "markdown",
   "id": "7fc47f69",
   "metadata": {},
   "source": [
    "For more examples on how to use units with NDDataset, see the\n",
    "[gallery example](gettingstarted/examples/gallery/auto_examples_core/a_nddataset/plot_c_units.html"
   ]
  },
  {
   "cell_type": "markdown",
   "id": "69235b2d",
   "metadata": {},
   "source": [
    "## Coordinates"
   ]
  },
  {
   "cell_type": "markdown",
   "id": "b7f4cc62",
   "metadata": {},
   "source": [
    "The above created `d3D` dataset has 3 dimensions, but no coordinate for these\n",
    "dimensions. Here arises a big difference\n",
    "with simple `numpy`-arrays:\n",
    "* We can add coordinates to each dimension of a NDDataset."
   ]
  },
  {
   "cell_type": "markdown",
   "id": "7f79abac",
   "metadata": {},
   "source": [
    "To get the list of all defined coordinates, we can use the `coords` attribute:"
   ]
  },
  {
   "cell_type": "code",
   "execution_count": null,
   "id": "58214760",
   "metadata": {},
   "outputs": [],
   "source": [
    "d3D.coordset  # no coordinates, so it returns nothing (None)"
   ]
  },
  {
   "cell_type": "code",
   "execution_count": null,
   "id": "8c6cb61c",
   "metadata": {},
   "outputs": [],
   "source": [
    "d3D.t  # the same for coordinate  t, v, u which are not yet set"
   ]
  },
  {
   "cell_type": "markdown",
   "id": "4bba9b33",
   "metadata": {},
   "source": [
    "To add coordinates, on way is to set them one by one:"
   ]
  },
  {
   "cell_type": "code",
   "execution_count": null,
   "id": "e3608dff",
   "metadata": {},
   "outputs": [],
   "source": [
    "d3D.t = (\n",
    "    Coord.arange(6) * 0.1\n",
    ")  # we need a sequence of 6 values for `t` dimension (see shape above)\n",
    "d3D.t.title = \"time\"\n",
    "d3D.t.units = ur.seconds\n",
    "d3D.coordset  # now return a list of coordinates"
   ]
  },
  {
   "cell_type": "code",
   "execution_count": null,
   "id": "0570aa43",
   "metadata": {},
   "outputs": [],
   "source": [
    "d3D.t"
   ]
  },
  {
   "cell_type": "code",
   "execution_count": null,
   "id": "351607ee",
   "metadata": {},
   "outputs": [],
   "source": [
    "d3D.coordset(\"t\")  # Alternative way to get a given coordinates"
   ]
  },
  {
   "cell_type": "code",
   "execution_count": null,
   "id": "03d553e6",
   "metadata": {},
   "outputs": [],
   "source": [
    "d3D[\"t\"]  # another alternative way to get a given coordinates"
   ]
  },
  {
   "cell_type": "markdown",
   "id": "75f440b3",
   "metadata": {},
   "source": [
    "The two other coordinates u and v are still undefined"
   ]
  },
  {
   "cell_type": "code",
   "execution_count": null,
   "id": "dbc1e7f8",
   "metadata": {},
   "outputs": [],
   "source": [
    "d3D.u, d3D.v"
   ]
  },
  {
   "cell_type": "markdown",
   "id": "213ed200",
   "metadata": {},
   "source": [
    "When the dataset is printed, only the information for the existing coordinates is\n",
    "given."
   ]
  },
  {
   "cell_type": "code",
   "execution_count": null,
   "id": "6212c9c9",
   "metadata": {},
   "outputs": [],
   "source": [
    "d3D"
   ]
  },
  {
   "cell_type": "markdown",
   "id": "7ea2828b",
   "metadata": {},
   "source": [
    "Programmatically, we can use the attribute `is_empty` or `has_data` to check this"
   ]
  },
  {
   "cell_type": "code",
   "execution_count": null,
   "id": "681bb2a0",
   "metadata": {},
   "outputs": [],
   "source": [
    "d3D.v.has_data, d3D.v.is_empty"
   ]
  },
  {
   "cell_type": "markdown",
   "id": "d42bd3ed",
   "metadata": {},
   "source": [
    "An error is raised when a coordinate doesn't exist"
   ]
  },
  {
   "cell_type": "code",
   "execution_count": null,
   "id": "a3918397",
   "metadata": {},
   "outputs": [],
   "source": [
    "try:\n",
    "    d3D.x\n",
    "except KeyError as e:\n",
    "    scp.error_(KeyError, e)"
   ]
  },
  {
   "cell_type": "markdown",
   "id": "04cc6824",
   "metadata": {},
   "source": [
    "In some case it can also be useful to get a coordinate from its title instead of its\n",
    "name (the limitation is that if\n",
    "several coordinates have the same title, then only the first ones that is found in\n",
    "the coordinate list, will be\n",
    "returned - this can be ambiguous)"
   ]
  },
  {
   "cell_type": "code",
   "execution_count": null,
   "id": "2489a7de",
   "metadata": {},
   "outputs": [],
   "source": [
    "d3D[\"time\"]"
   ]
  },
  {
   "cell_type": "code",
   "execution_count": null,
   "id": "dba7f3ce",
   "metadata": {},
   "outputs": [],
   "source": [
    "d3D.time"
   ]
  },
  {
   "cell_type": "markdown",
   "id": "c45dcc39",
   "metadata": {},
   "source": [
    "## Labels"
   ]
  },
  {
   "cell_type": "markdown",
   "id": "4d0c44df",
   "metadata": {},
   "source": [
    "It is possible to use labels instead of numerical coordinates. They are sequence of\n",
    "objects .The length of the\n",
    "sequence must be equal to the size of a dimension."
   ]
  },
  {
   "cell_type": "markdown",
   "id": "92f6f5f5",
   "metadata": {},
   "source": [
    "The labels can be simple strings, *e.g.,*"
   ]
  },
  {
   "cell_type": "code",
   "execution_count": null,
   "id": "d0a9ced2",
   "metadata": {},
   "outputs": [],
   "source": [
    "tags = list(\"ab\")\n",
    "d3D.u.title = \"some tags\"\n",
    "d3D.u.labels = tags  # TODO: avoid repetition\n",
    "d3D"
   ]
  },
  {
   "cell_type": "markdown",
   "id": "8aa460eb",
   "metadata": {},
   "source": [
    "or more complex objects.\n",
    "\n",
    "For instance here we use datetime.timedelta objects:"
   ]
  },
  {
   "cell_type": "code",
   "execution_count": null,
   "id": "be90f8cc",
   "metadata": {},
   "outputs": [],
   "source": [
    "from datetime import timedelta\n",
    "\n",
    "start = timedelta(0)\n",
    "times = [start + timedelta(seconds=x * 60) for x in range(6)]\n",
    "d3D.t = None\n",
    "d3D.t.labels = times\n",
    "d3D.t.title = \"time\"\n",
    "d3D"
   ]
  },
  {
   "cell_type": "markdown",
   "id": "0f6c8671",
   "metadata": {},
   "source": [
    "In this case, getting a coordinate that doesn't possess numerical data but labels,\n",
    "will return the labels"
   ]
  },
  {
   "cell_type": "code",
   "execution_count": null,
   "id": "e2373551",
   "metadata": {},
   "outputs": [],
   "source": [
    "d3D.time"
   ]
  },
  {
   "cell_type": "markdown",
   "id": "9c46c0e7",
   "metadata": {},
   "source": [
    "# More insight on coordinates"
   ]
  },
  {
   "cell_type": "markdown",
   "id": "53042024",
   "metadata": {},
   "source": [
    "## Sharing coordinates between dimensions"
   ]
  },
  {
   "cell_type": "markdown",
   "id": "4a23a989",
   "metadata": {},
   "source": [
    "Sometimes it is not necessary to have different coordinates for each axe. Some can be\n",
    "shared between axes.\n",
    "\n",
    "For example, if we have a square matrix with the same coordinate in the two\n",
    "dimensions, the second dimension can\n",
    "refer to the first. Here we create a square 2D dataset, using the `diag` method:"
   ]
  },
  {
   "cell_type": "code",
   "execution_count": null,
   "id": "0834d0a8",
   "metadata": {},
   "outputs": [],
   "source": [
    "nd = NDDataset.diag((3, 3, 2.5))\n",
    "nd"
   ]
  },
  {
   "cell_type": "markdown",
   "id": "b30c18f4",
   "metadata": {},
   "source": [
    "and then we add the same coordinate for both dimensions"
   ]
  },
  {
   "cell_type": "code",
   "execution_count": null,
   "id": "d6a77f51",
   "metadata": {},
   "outputs": [],
   "source": [
    "coordx = Coord.arange(3)\n",
    "nd.set_coordset(x=coordx, y=\"x\")\n",
    "nd"
   ]
  },
  {
   "cell_type": "markdown",
   "id": "d9234cd2",
   "metadata": {},
   "source": [
    "## Setting coordinates using `set_coordset`"
   ]
  },
  {
   "cell_type": "markdown",
   "id": "9ea5c126",
   "metadata": {},
   "source": [
    "Let's create 3 `Coord` objects to be used as coordinates for the 3 dimensions of the\n",
    "previous d3D dataset."
   ]
  },
  {
   "cell_type": "code",
   "execution_count": null,
   "id": "46a332c8",
   "metadata": {},
   "outputs": [],
   "source": [
    "d3D.dims = [\"t\", \"v\", \"u\"]\n",
    "s0, s1, s2 = d3D.shape\n",
    "coord0 = Coord.linspace(10.0, 100.0, s0, units=\"m\", title=\"distance\")\n",
    "coord1 = Coord.linspace(20.0, 25.0, s1, units=\"K\", title=\"temperature\")\n",
    "coord2 = Coord.linspace(0.0, 1000.0, s2, units=\"hour\", title=\"elapsed time\")"
   ]
  },
  {
   "cell_type": "markdown",
   "id": "7b9a970b",
   "metadata": {},
   "source": [
    "### Syntax 1"
   ]
  },
  {
   "cell_type": "code",
   "execution_count": null,
   "id": "5a0592e9",
   "metadata": {},
   "outputs": [],
   "source": [
    "d3D.set_coordset(u=coord2, v=coord1, t=coord0)\n",
    "d3D"
   ]
  },
  {
   "cell_type": "markdown",
   "id": "a792d21d",
   "metadata": {},
   "source": [
    "### Syntax 2"
   ]
  },
  {
   "cell_type": "code",
   "execution_count": null,
   "id": "80f7b678",
   "metadata": {},
   "outputs": [],
   "source": [
    "d3D.set_coordset({\"u\": coord2, \"v\": coord1, \"t\": coord0})\n",
    "d3D"
   ]
  },
  {
   "cell_type": "markdown",
   "id": "51146182",
   "metadata": {},
   "source": [
    "## Adding several coordinates to a single dimension\n",
    "We can add several coordinates to the same dimension"
   ]
  },
  {
   "cell_type": "code",
   "execution_count": null,
   "id": "bd90d0e4",
   "metadata": {},
   "outputs": [],
   "source": [
    "coord1b = Coord([1, 2, 3, 4], units=\"millitesla\", title=\"magnetic field\")"
   ]
  },
  {
   "cell_type": "code",
   "execution_count": null,
   "id": "5eed9325",
   "metadata": {},
   "outputs": [],
   "source": [
    "d3D.set_coordset(u=coord2, v=[coord1, coord1b], t=coord0)\n",
    "d3D"
   ]
  },
  {
   "cell_type": "markdown",
   "id": "1034cf30",
   "metadata": {},
   "source": [
    "We can retrieve the various coordinates for a single dimension easily:"
   ]
  },
  {
   "cell_type": "code",
   "execution_count": null,
   "id": "3713adaf",
   "metadata": {},
   "outputs": [],
   "source": [
    "d3D.v_1"
   ]
  },
  {
   "cell_type": "markdown",
   "id": "e2cfceef",
   "metadata": {},
   "source": [
    "## Summary of the coordinate setting syntax\n",
    "Some additional information about coordinate setting syntax"
   ]
  },
  {
   "cell_type": "markdown",
   "id": "882ba3c5",
   "metadata": {},
   "source": [
    "**A.** First syntax (probably the safer because the name of the dimension is\n",
    "specified, so this is less prone to\n",
    "errors!)"
   ]
  },
  {
   "cell_type": "code",
   "execution_count": null,
   "id": "079454e1",
   "metadata": {},
   "outputs": [],
   "source": [
    "d3D.set_coordset(u=coord2, v=[coord1, coord1b], t=coord0)\n",
    "# or equivalent\n",
    "d3D.set_coordset(u=coord2, v=CoordSet(coord1, coord1b), t=coord0)\n",
    "d3D"
   ]
  },
  {
   "cell_type": "markdown",
   "id": "30f85a4f",
   "metadata": {},
   "source": [
    "**B.** Second syntax assuming the coordinates are given in the order of the\n",
    "dimensions.\n",
    "\n",
    "Remember that we can check this order using the `dims` attribute of a NDDataset"
   ]
  },
  {
   "cell_type": "code",
   "execution_count": null,
   "id": "969bcd27",
   "metadata": {},
   "outputs": [],
   "source": [
    "d3D.dims"
   ]
  },
  {
   "cell_type": "code",
   "execution_count": null,
   "id": "72a4a076",
   "metadata": {},
   "outputs": [],
   "source": [
    "d3D.set_coordset((coord0, [coord1, coord1b], coord2))\n",
    "# or equivalent\n",
    "d3D.set_coordset(coord0, CoordSet(coord1, coord1b), coord2)\n",
    "d3D"
   ]
  },
  {
   "cell_type": "markdown",
   "id": "004d83fb",
   "metadata": {},
   "source": [
    "**C.** Third syntax (from a dictionary)"
   ]
  },
  {
   "cell_type": "code",
   "execution_count": null,
   "id": "89fdcb71",
   "metadata": {},
   "outputs": [],
   "source": [
    "d3D.set_coordset({\"t\": coord0, \"u\": coord2, \"v\": [coord1, coord1b]})\n",
    "d3D"
   ]
  },
  {
   "cell_type": "markdown",
   "id": "6da3feac",
   "metadata": {},
   "source": [
    "**D.** It is also possible to use directly the `CoordSet` property"
   ]
  },
  {
   "cell_type": "code",
   "execution_count": null,
   "id": "85336df6",
   "metadata": {},
   "outputs": [],
   "source": [
    "d3D.coordset = coord0, [coord1, coord1b], coord2\n",
    "d3D"
   ]
  },
  {
   "cell_type": "code",
   "execution_count": null,
   "id": "aa862381",
   "metadata": {},
   "outputs": [],
   "source": [
    "d3D.coordset = {\"t\": coord0, \"u\": coord2, \"v\": [coord1, coord1b]}\n",
    "d3D"
   ]
  },
  {
   "cell_type": "code",
   "execution_count": null,
   "id": "5aba2df0",
   "metadata": {},
   "outputs": [],
   "source": [
    "d3D.coordset = CoordSet(t=coord0, u=coord2, v=[coord1, coord1b])\n",
    "d3D"
   ]
  },
  {
   "cell_type": "markdown",
   "id": "e0678653",
   "metadata": {},
   "source": [
    "<div class='alert alert-warning'>\n",
    "<b>WARNING</b>\n",
    "\n",
    "Do not use list for setting multiples coordinates! use tuples\n",
    "</div>"
   ]
  },
  {
   "cell_type": "markdown",
   "id": "770620d1",
   "metadata": {},
   "source": [
    "This raise an error (list have another signification: it's used to set a \"same dim\"\n",
    "CoordSet see example A or B)"
   ]
  },
  {
   "cell_type": "code",
   "execution_count": null,
   "id": "9f38e90b",
   "metadata": {},
   "outputs": [],
   "source": [
    "try:\n",
    "    d3D.coordset = [coord0, coord1, coord2]\n",
    "except ValueError:\n",
    "    scp.error_(\n",
    "        ValueError,\n",
    "        \"Coordinates must be of the same size for a dimension with multiple coordinates\",\n",
    "    )"
   ]
  },
  {
   "cell_type": "markdown",
   "id": "e9703b4c",
   "metadata": {},
   "source": [
    "This works : it uses a tuple `()` , not a list `[]`"
   ]
  },
  {
   "cell_type": "code",
   "execution_count": null,
   "id": "e06721e1",
   "metadata": {},
   "outputs": [],
   "source": [
    "d3D.coordset = (\n",
    "    coord0,\n",
    "    coord1,\n",
    "    coord2,\n",
    ")  # equivalent to d3D.coordset = coord0, coord1, coord2\n",
    "d3D"
   ]
  },
  {
   "cell_type": "markdown",
   "id": "24737143",
   "metadata": {},
   "source": [
    "**E.** Setting the coordinates individually"
   ]
  },
  {
   "cell_type": "markdown",
   "id": "c3ff229f",
   "metadata": {},
   "source": [
    "Either a single coordinate"
   ]
  },
  {
   "cell_type": "code",
   "execution_count": null,
   "id": "3dac3847",
   "metadata": {
    "lines_to_next_cell": 0
   },
   "outputs": [],
   "source": [
    "d3D.u = coord2\n",
    "d3D"
   ]
  },
  {
   "cell_type": "markdown",
   "id": "d25a9a81",
   "metadata": {},
   "source": [
    "or multiple coordinates for a single dimension"
   ]
  },
  {
   "cell_type": "code",
   "execution_count": null,
   "id": "c74025ac",
   "metadata": {
    "lines_to_next_cell": 0
   },
   "outputs": [],
   "source": [
    "d3D.v = [coord1, coord1b]\n",
    "d3D"
   ]
  },
  {
   "cell_type": "markdown",
   "id": "b0e99cfa",
   "metadata": {},
   "source": [
    "or using a CoordSet object."
   ]
  },
  {
   "cell_type": "code",
   "execution_count": null,
   "id": "8fccc124",
   "metadata": {},
   "outputs": [],
   "source": [
    "d3D.v = CoordSet(coord1, coord1b)\n",
    "d3D"
   ]
  },
  {
   "cell_type": "markdown",
   "id": "4dc1eb8f",
   "metadata": {},
   "source": [
    "# Methods to create NDDataset\n",
    "\n",
    "There are many ways to create `NDDataset` objects.\n",
    "\n",
    "Let's first create 2 coordinate objects, for which we can define `labels` and `units`!\n",
    "Note the use of the function\n",
    "`linspace`to generate the data."
   ]
  },
  {
   "cell_type": "code",
   "execution_count": null,
   "id": "c8d84a32",
   "metadata": {},
   "outputs": [],
   "source": [
    "c0 = Coord.linspace(\n",
    "    start=4000.0, stop=1000.0, num=5, labels=None, units=\"cm^-1\", title=\"wavenumber\"\n",
    ")"
   ]
  },
  {
   "cell_type": "code",
   "execution_count": null,
   "id": "06ce03b8",
   "metadata": {},
   "outputs": [],
   "source": [
    "c1 = Coord.linspace(\n",
    "    10.0, 40.0, 3, labels=[\"Cold\", \"RT\", \"Hot\"], units=\"K\", title=\"temperature\"\n",
    ")"
   ]
  },
  {
   "cell_type": "markdown",
   "id": "1208a1eb",
   "metadata": {},
   "source": [
    "The full coordset will be the following"
   ]
  },
  {
   "cell_type": "code",
   "execution_count": null,
   "id": "0cd85903",
   "metadata": {
    "lines_to_next_cell": 2
   },
   "outputs": [],
   "source": [
    "cs = CoordSet(c0, c1)\n",
    "cs"
   ]
  },
  {
   "cell_type": "markdown",
   "id": "a290aac9",
   "metadata": {},
   "source": [
    "Now we will generate the full dataset, using a `fromfunction` method.\n",
    "All needed information are passed as\n",
    "parameter of the NDDataset instance constructor."
   ]
  },
  {
   "cell_type": "markdown",
   "id": "10ed7113",
   "metadata": {
    "lines_to_next_cell": 2
   },
   "source": [
    "## Create a dataset from a function"
   ]
  },
  {
   "cell_type": "code",
   "execution_count": null,
   "id": "856844b1",
   "metadata": {},
   "outputs": [],
   "source": [
    "def func(x, y, extra):\n",
    "    return x * y / extra"
   ]
  },
  {
   "cell_type": "code",
   "execution_count": null,
   "id": "ceef10f3",
   "metadata": {},
   "outputs": [],
   "source": [
    "ds = NDDataset.fromfunction(\n",
    "    func,\n",
    "    extra=100 * ur.cm**-1,  # extra arguments passed to the function\n",
    "    coordset=cs,\n",
    "    name=\"mydataset\",\n",
    "    title=\"absorbance\",\n",
    "    units=None,\n",
    ")  # when None, units will be determined from the function results\n",
    "\n",
    "ds.description = \"\"\"Dataset example created for this tutorial.\n",
    "It's a 2-D dataset\"\"\"\n",
    "\n",
    "ds.author = \"Blake & Mortimer\"\n",
    "ds"
   ]
  },
  {
   "cell_type": "markdown",
   "id": "c0a1048b",
   "metadata": {},
   "source": [
    "## Using numpy-like constructors of NDDatasets"
   ]
  },
  {
   "cell_type": "code",
   "execution_count": null,
   "id": "c32981c3",
   "metadata": {},
   "outputs": [],
   "source": [
    "dz = NDDataset.zeros(\n",
    "    (5, 3), coordset=cs, units=\"meters\", title=\"Datasets with only zeros\"\n",
    ")"
   ]
  },
  {
   "cell_type": "code",
   "execution_count": null,
   "id": "2f683424",
   "metadata": {},
   "outputs": [],
   "source": [
    "do = NDDataset.ones(\n",
    "    (5, 3), coordset=cs, units=\"kilograms\", title=\"Datasets with only ones\"\n",
    ")"
   ]
  },
  {
   "cell_type": "code",
   "execution_count": null,
   "id": "c56e2d60",
   "metadata": {},
   "outputs": [],
   "source": [
    "df = NDDataset.full(\n",
    "    (5, 3), fill_value=1.25, coordset=cs, units=\"radians\", title=\"with only float=1.25\"\n",
    ")\n",
    "df"
   ]
  },
  {
   "cell_type": "markdown",
   "id": "6f60cf86",
   "metadata": {},
   "source": [
    "As with numpy, it is also possible to take another dataset as a template:"
   ]
  },
  {
   "cell_type": "code",
   "execution_count": null,
   "id": "daa92da2",
   "metadata": {},
   "outputs": [],
   "source": [
    "df = NDDataset.full_like(d3D, dtype=\"int\", fill_value=2)\n",
    "df"
   ]
  },
  {
   "cell_type": "code",
   "execution_count": null,
   "id": "04ee835d",
   "metadata": {},
   "outputs": [],
   "source": [
    "nd = NDDataset.diag((3, 3, 2.5))\n",
    "nd"
   ]
  },
  {
   "cell_type": "markdown",
   "id": "a711a6a7",
   "metadata": {},
   "source": [
    "## Copying existing NDDataset\n",
    "\n",
    "To copy an existing dataset, this is as simple as:"
   ]
  },
  {
   "cell_type": "code",
   "execution_count": null,
   "id": "9d2f2827",
   "metadata": {},
   "outputs": [],
   "source": [
    "d3D_copy = d3D.copy()"
   ]
  },
  {
   "cell_type": "markdown",
   "id": "ffc9cef7",
   "metadata": {},
   "source": [
    "or alternatively:"
   ]
  },
  {
   "cell_type": "code",
   "execution_count": null,
   "id": "07529c9e",
   "metadata": {},
   "outputs": [],
   "source": [
    "d3D_copy = d3D[:]"
   ]
  },
  {
   "cell_type": "markdown",
   "id": "e1225637",
   "metadata": {},
   "source": [
    "Finally, it is also possible to initialize a dataset using an existing one:"
   ]
  },
  {
   "cell_type": "code",
   "execution_count": null,
   "id": "cf40b2b5",
   "metadata": {},
   "outputs": [],
   "source": [
    "d3Dduplicate = NDDataset(d3D, name=f\"duplicate of {d3D.name}\", units=\"absorbance\")\n",
    "d3Dduplicate"
   ]
  },
  {
   "cell_type": "markdown",
   "id": "cd9dfb1c",
   "metadata": {},
   "source": [
    "## Importing from external dataset\n",
    "\n",
    "NDDataset can be created from the importation of external data\n",
    "\n",
    "A **test**'s data folder contains some data for experimenting some features of\n",
    "datasets."
   ]
  },
  {
   "cell_type": "code",
   "execution_count": null,
   "id": "5ec29865",
   "metadata": {},
   "outputs": [],
   "source": [
    "# let check if this directory exists and display its actual content:\n",
    "datadir = scp.preferences.datadir\n",
    "if datadir.exists():\n",
    "    print(datadir.name)"
   ]
  },
  {
   "cell_type": "markdown",
   "id": "58876f6c",
   "metadata": {},
   "source": [
    "Let's load grouped IR spectra acquired using OMNIC:"
   ]
  },
  {
   "cell_type": "code",
   "execution_count": null,
   "id": "8d1c8ce8",
   "metadata": {},
   "outputs": [],
   "source": [
    "nd = NDDataset.read_omnic(datadir / \"irdata/nh4y-activation.spg\")\n",
    "nd.preferences.reset()\n",
    "_ = nd.plot()"
   ]
  },
  {
   "cell_type": "markdown",
   "id": "74614dc5",
   "metadata": {},
   "source": [
    "Even if we do not specify the **datadir**, the application first look in the\n",
    "directory by default."
   ]
  },
  {
   "cell_type": "markdown",
   "id": "49fa9310",
   "metadata": {},
   "source": [
    "Now, lets load a NMR dataset (in the Bruker format)."
   ]
  },
  {
   "cell_type": "code",
   "execution_count": null,
   "id": "a9ff2f9f",
   "metadata": {},
   "outputs": [],
   "source": [
    "path = datadir / \"nmrdata\" / \"bruker\" / \"tests\" / \"nmr\" / \"topspin_2d\"\n",
    "\n",
    "# load the data directly (no need to create the dataset first)\n",
    "nd2 = NDDataset.read_topspin(path, expno=1, remove_digital_filter=True)\n",
    "\n",
    "# view it...\n",
    "nd2.x.to(\"s\")\n",
    "nd2.y.to(\"ms\")\n",
    "\n",
    "ax = nd2.plot(method=\"map\")"
   ]
  }
 ],
 "metadata": {
  "jupytext": {
   "formats": "ipynb,py:percent",
   "notebook_metadata_filter": "all"
  },
  "kernelspec": {
   "display_name": "Python 3 (ipykernel)",
   "language": "python",
   "name": "python3"
  },
  "language_info": {
   "codemirror_mode": {
    "name": "ipython",
    "version": 3
   },
   "file_extension": ".py",
   "mimetype": "text/x-python",
   "name": "python",
   "nbconvert_exporter": "python",
   "pygments_lexer": "ipython3",
   "version": "3.10.8"
  },
  "widgets": {
   "application/vnd.jupyter.widget-state+json": {
    "state": {},
    "version_major": 2,
    "version_minor": 0
   }
  }
 },
 "nbformat": 4,
 "nbformat_minor": 5
}
