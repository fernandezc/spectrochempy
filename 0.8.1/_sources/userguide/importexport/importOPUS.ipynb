{
 "cells": [
  {
   "cell_type": "markdown",
   "id": "65438448",
   "metadata": {
    "editable": true,
    "slideshow": {
     "slide_type": ""
    }
   },
   "source": [
    "## Import of Bruker OPUS files\n",
    "\n",
    "[Bruker OPUS](https://www.bruker.com/en/products-and-solutions/infrared-and-raman/opus-spectroscopy-software.html)\n",
    "files have also a proprietary file format. The Opus reader (`read_opus()` ) of spectrochempy is essentially a wrapper of the python module\n",
    "[brukeropus](https://github.com/joshduran/brukeropus) developed by Josh Duran.\n",
    "The use of `read_opus()` is similar to that of  `read_omnic()`."
   ]
  },
  {
   "cell_type": "markdown",
   "id": "59423847",
   "metadata": {},
   "source": [
    "### Basic loading of OPUS file"
   ]
  },
  {
   "cell_type": "markdown",
   "id": "bb54a4e0",
   "metadata": {},
   "source": [
    "Individual Opus files can be opened and loaded as a new NDDataset using:"
   ]
  },
  {
   "cell_type": "code",
   "execution_count": null,
   "id": "f59c28bd",
   "metadata": {
    "editable": true,
    "slideshow": {
     "slide_type": ""
    }
   },
   "outputs": [],
   "source": [
    "import spectrochempy as scp"
   ]
  },
  {
   "cell_type": "code",
   "execution_count": null,
   "id": "de429a9c",
   "metadata": {
    "editable": true,
    "slideshow": {
     "slide_type": ""
    }
   },
   "outputs": [],
   "source": [
    "Z = scp.read_opus(\"irdata/OPUS/test.0002\")\n",
    "Z"
   ]
  },
  {
   "cell_type": "markdown",
   "id": "4ee8c567",
   "metadata": {
    "editable": true,
    "slideshow": {
     "slide_type": ""
    }
   },
   "source": [
    "<div class='alert alert-info'>\n",
    "<b>Note:</b><br/>\n",
    "In the previous use of <strong>read_opus()</strong>, we have assumed that the file is in <strong>datadir</strong> folder (see the <a href=\"../import.html\">import tutorial</a> or more details on this). <br/>If this not the case, you should use an absolute path or a relative path to the current notebook folder.\n",
    "</div>"
   ]
  },
  {
   "cell_type": "markdown",
   "id": "b60c5c75",
   "metadata": {
    "editable": true,
    "slideshow": {
     "slide_type": ""
    }
   },
   "source": [
    "For multifile loading, one can use:"
   ]
  },
  {
   "cell_type": "code",
   "execution_count": null,
   "id": "48372eb9",
   "metadata": {
    "editable": true,
    "slideshow": {
     "slide_type": ""
    }
   },
   "outputs": [],
   "source": [
    "Z1 = scp.read_opus(\"test.0000\", \"test.0001\", \"test.0002\", directory=\"irdata/OPUS\")\n",
    "Z1"
   ]
  },
  {
   "cell_type": "markdown",
   "id": "dd33551b",
   "metadata": {
    "editable": true,
    "slideshow": {
     "slide_type": ""
    }
   },
   "source": [
    "<div class='alert alert-info'>\n",
    "<b>Note:</b><br/>\n",
    "    By default all files in the given directory are merged as a single dataset if they are compatibles (*i.e.*, same shape, same type of experiment...).<br/>\n",
    "    If they cannot be merged due to imcompatible shape or type, separate datasets are returned with dataset merged in different groups."
   ]
  },
  {
   "cell_type": "markdown",
   "id": "5715110a",
   "metadata": {
    "editable": true,
    "slideshow": {
     "slide_type": ""
    }
   },
   "source": [
    "For instance in the following, two dataset will be returned:"
   ]
  },
  {
   "cell_type": "code",
   "execution_count": null,
   "id": "083cb7eb",
   "metadata": {
    "editable": true,
    "slideshow": {
     "slide_type": ""
    }
   },
   "outputs": [],
   "source": [
    "LZ1 = scp.read_opus(\n",
    "    \"test.0000\", \"test.0001\", \"test.0002\", \"background.0\", directory=\"irdata/OPUS\"\n",
    ")\n",
    "LZ1"
   ]
  },
  {
   "cell_type": "markdown",
   "id": "79846b40",
   "metadata": {
    "editable": true,
    "slideshow": {
     "slide_type": ""
    }
   },
   "source": [
    "Multifile loading can also be achieved by only specifying the directory to read, if all files in a directory must be read:"
   ]
  },
  {
   "cell_type": "code",
   "execution_count": null,
   "id": "a1c3c730",
   "metadata": {
    "editable": true,
    "slideshow": {
     "slide_type": ""
    }
   },
   "outputs": [],
   "source": [
    "LZ = scp.read_opus(\"irdata/OPUS\")\n",
    "LZ"
   ]
  },
  {
   "cell_type": "markdown",
   "id": "95e67a91",
   "metadata": {
    "editable": true,
    "slideshow": {
     "slide_type": ""
    }
   },
   "source": [
    "As previously two datasets are returned due to the imcompatible types and shapes of the experiments.\n",
    "\n",
    "If one desire to load of files into separate datasets, then set the **merge** attribute to False."
   ]
  },
  {
   "cell_type": "code",
   "execution_count": null,
   "id": "d288f517",
   "metadata": {
    "editable": true,
    "slideshow": {
     "slide_type": ""
    }
   },
   "outputs": [],
   "source": [
    "LZ1 = scp.read_opus(\"irdata/OPUS\", merge=False)\n",
    "LZ1"
   ]
  },
  {
   "cell_type": "markdown",
   "id": "e6f01eb4",
   "metadata": {},
   "source": [
    "### Loading given type of OPUS spectra"
   ]
  },
  {
   "cell_type": "markdown",
   "id": "febeb1d2",
   "metadata": {},
   "source": [
    "By default absortion spectra (**AB**) are load, if present in the file.\n",
    "\n",
    "Opus file however can contain several types of spectra and they can be retrieved eventually using the correct type in the call to `read_opus`:\n",
    "\n",
    "Types possibly availables and readables by `read_opus` are listed here:\n",
    "\n",
    "- `AB`: Absorbance (default if present in the file)\n",
    "- `TR`: Transmittance\n",
    "- `KM`: Kubelka-Munk\n",
    "- `RAM`: Raman\n",
    "- `EMI`: Emission\n",
    "- `RFL`: Reflectance\n",
    "- `LRF`: log(Reflectance)\n",
    "- `ATR`: ATR\n",
    "- `PAS`: Photoacoustic\n",
    "- `RF`: Single-channel reference spectra\n",
    "- `SM`: Single-channel sample spectra\n",
    "- `IGRF`: Reference interferogram\n",
    "- `IGSM`: Sample interferogram\n",
    "- `PHRF`: Reference phase\n",
    "- `PHSM`: Sample phase"
   ]
  },
  {
   "cell_type": "markdown",
   "id": "ae3ac683",
   "metadata": {},
   "source": [
    "It is possible to know which are the other types availables in the original file:"
   ]
  },
  {
   "cell_type": "code",
   "execution_count": null,
   "id": "ea979336",
   "metadata": {
    "editable": true,
    "slideshow": {
     "slide_type": ""
    }
   },
   "outputs": [],
   "source": [
    "Z.meta.other_data_types"
   ]
  },
  {
   "cell_type": "markdown",
   "id": "f5602cba",
   "metadata": {
    "editable": true,
    "slideshow": {
     "slide_type": ""
    }
   },
   "source": [
    "Thus if one wants to load the single-channel sample spectra, the read function syntax would be:"
   ]
  },
  {
   "cell_type": "code",
   "execution_count": null,
   "id": "f5597947",
   "metadata": {},
   "outputs": [],
   "source": [
    "ZSM = scp.read_opus(\"irdata/OPUS/test.0002\", type=\"SM\")\n",
    "ZSM"
   ]
  },
  {
   "cell_type": "markdown",
   "id": "abfed4f3",
   "metadata": {
    "editable": true,
    "slideshow": {
     "slide_type": ""
    }
   },
   "source": [
    "### Reading OPUS file Metadata\n",
    "\n",
    "As just seen above, more informations can be obtained on the experiment and spectrometer parameters using the dataset metadata (**meta** attribute).\n",
    "\n",
    "For instance, to get a display of all metadata:\n"
   ]
  },
  {
   "cell_type": "code",
   "execution_count": null,
   "id": "f61221b6",
   "metadata": {
    "editable": true,
    "slideshow": {
     "slide_type": ""
    }
   },
   "outputs": [],
   "source": [
    "Z.meta"
   ]
  },
  {
   "cell_type": "markdown",
   "id": "70d69f82",
   "metadata": {
    "editable": true,
    "slideshow": {
     "slide_type": ""
    }
   },
   "source": [
    "To display only a sub-group of metadata, you can use :"
   ]
  },
  {
   "cell_type": "code",
   "execution_count": null,
   "id": "8d6c6a95",
   "metadata": {
    "editable": true,
    "slideshow": {
     "slide_type": ""
    }
   },
   "outputs": [],
   "source": [
    "Z.meta.params.fourier_transform"
   ]
  },
  {
   "cell_type": "markdown",
   "id": "a9eedc42",
   "metadata": {
    "editable": true,
    "slideshow": {
     "slide_type": ""
    }
   },
   "source": [
    "or a single parameter:"
   ]
  },
  {
   "cell_type": "code",
   "execution_count": null,
   "id": "9e9c5430",
   "metadata": {
    "editable": true,
    "slideshow": {
     "slide_type": ""
    }
   },
   "outputs": [],
   "source": [
    "Z.meta.params.optical.bms"
   ]
  },
  {
   "cell_type": "code",
   "execution_count": null,
   "id": "00f39104",
   "metadata": {},
   "outputs": [],
   "source": [
    "Z.meta.params.optical.bms.value"
   ]
  },
  {
   "cell_type": "markdown",
   "id": "6514453c",
   "metadata": {
    "editable": true,
    "slideshow": {
     "slide_type": ""
    }
   },
   "source": [
    "### Acting on a parameter"
   ]
  },
  {
   "cell_type": "markdown",
   "id": "176250b0",
   "metadata": {
    "editable": true,
    "slideshow": {
     "slide_type": ""
    }
   },
   "source": [
    "Metadata modification, addition, deletion are forbidden by default (`readonly=True`).\n",
    "\n",
    "For instance, if one want to add a new parameters, the following is not permitted and then raise an error:"
   ]
  },
  {
   "cell_type": "code",
   "execution_count": null,
   "id": "d082b6a2",
   "metadata": {
    "editable": true,
    "slideshow": {
     "slide_type": ""
    }
   },
   "outputs": [],
   "source": [
    "try:\n",
    "    Z.meta.xxx = \"forbidden\"\n",
    "except ValueError:\n",
    "    scp.error_(\"meta data dictionary is read only!\")"
   ]
  },
  {
   "cell_type": "markdown",
   "id": "658cf8a4",
   "metadata": {
    "editable": true,
    "slideshow": {
     "slide_type": ""
    }
   },
   "source": [
    "To add a new value (or to modifify/delete an existing value), the `readonly` flag must be unset before the operation:"
   ]
  },
  {
   "cell_type": "code",
   "execution_count": null,
   "id": "d1e99f28",
   "metadata": {
    "editable": true,
    "slideshow": {
     "slide_type": ""
    }
   },
   "outputs": [],
   "source": [
    "Z.meta.readonly = False\n",
    "Z.meta.xxx = \"permitted\"\n",
    "Z.meta"
   ]
  },
  {
   "cell_type": "markdown",
   "id": "b8f7d9ed",
   "metadata": {
    "editable": true,
    "slideshow": {
     "slide_type": ""
    }
   },
   "source": [
    "It is advised to set back the `readonly` flag to True."
   ]
  }
 ],
 "metadata": {
  "jupytext": {
   "cell_metadata_json": true,
   "formats": "ipynb,py:percent",
   "notebook_metadata_filter": "all"
  },
  "kernelspec": {
   "display_name": "Python 3 (ipykernel)",
   "language": "python",
   "name": "python3"
  },
  "language_info": {
   "codemirror_mode": {
    "name": "ipython",
    "version": 3
   },
   "file_extension": ".py",
   "mimetype": "text/x-python",
   "name": "python",
   "nbconvert_exporter": "python",
   "pygments_lexer": "ipython3",
   "version": "3.13.2"
  },
  "widgets": {
   "application/vnd.jupyter.widget-state+json": {
    "state": {},
    "version_major": 2,
    "version_minor": 0
   }
  }
 },
 "nbformat": 4,
 "nbformat_minor": 5
}
