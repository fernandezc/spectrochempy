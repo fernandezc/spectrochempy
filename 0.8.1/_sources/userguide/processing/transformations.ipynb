{
 "cells": [
  {
   "cell_type": "markdown",
   "id": "cfca2a75",
   "metadata": {},
   "source": [
    "# Basic transformations\n",
    "\n",
    "Let's show some SpectroChemPy features on a group of IR spectra"
   ]
  },
  {
   "cell_type": "code",
   "execution_count": null,
   "id": "c353e419",
   "metadata": {},
   "outputs": [],
   "source": [
    "import spectrochempy as scp\n",
    "from spectrochempy import MASKED\n",
    "from spectrochempy import DimensionalityError\n",
    "from spectrochempy import error_"
   ]
  },
  {
   "cell_type": "code",
   "execution_count": null,
   "id": "cfa12a6b",
   "metadata": {},
   "outputs": [],
   "source": [
    "dataset = scp.read_omnic(\"irdata/nh4y-activation.spg\")\n",
    "dataset.y -= dataset.y[0]\n",
    "dataset.y.title = \"time\"\n",
    "dataset"
   ]
  },
  {
   "cell_type": "code",
   "execution_count": null,
   "id": "e46e692e",
   "metadata": {},
   "outputs": [],
   "source": [
    "prefs = scp.preferences\n",
    "prefs.figure.figsize = (6, 3)\n",
    "prefs.colormap = \"Dark2\"\n",
    "prefs.colorbar = True\n",
    "ax = dataset.plot()"
   ]
  },
  {
   "cell_type": "markdown",
   "id": "e8e13e52",
   "metadata": {},
   "source": [
    "## Masking data"
   ]
  },
  {
   "cell_type": "markdown",
   "id": "0661c2c6",
   "metadata": {},
   "source": [
    "if we try to get for example the maximum of this dataset, we face a problem due to the saturation around\n",
    "1100 cm$^{-1}$."
   ]
  },
  {
   "cell_type": "code",
   "execution_count": null,
   "id": "09be430e",
   "metadata": {},
   "outputs": [],
   "source": [
    "dataset.max()"
   ]
  },
  {
   "cell_type": "markdown",
   "id": "6a6cbf11",
   "metadata": {},
   "source": [
    "One way is to apply the max function to only a part of the spectrum (using [slicing](slicing.rst)). Another way is to\n",
    "mask the undesired data.\n",
    "\n",
    "Masking values in this case is straightforward. Just set a value `masked` or True for those data you want to mask."
   ]
  },
  {
   "cell_type": "code",
   "execution_count": null,
   "id": "daea352e",
   "metadata": {},
   "outputs": [],
   "source": [
    "dataset[:, 1290.0:890.0] = MASKED\n",
    "# note that we specify floating values in order to sect wavenumbers, not index."
   ]
  },
  {
   "cell_type": "markdown",
   "id": "6e1d8414",
   "metadata": {},
   "source": [
    "Here is a display the figure with the new mask"
   ]
  },
  {
   "cell_type": "code",
   "execution_count": null,
   "id": "e9e4b5e2",
   "metadata": {},
   "outputs": [],
   "source": [
    "dataset.plot_stack()"
   ]
  },
  {
   "cell_type": "markdown",
   "id": "750ec031",
   "metadata": {},
   "source": [
    "Now the max function return the  maximum in the unmasked region, which is exactly what we wanted."
   ]
  },
  {
   "cell_type": "code",
   "execution_count": null,
   "id": "446ce9e6",
   "metadata": {},
   "outputs": [],
   "source": [
    "dataset.max()"
   ]
  },
  {
   "cell_type": "markdown",
   "id": "708448bd",
   "metadata": {},
   "source": [
    "To clear this mask, we can simply do:"
   ]
  },
  {
   "cell_type": "code",
   "execution_count": null,
   "id": "8f169fb2",
   "metadata": {},
   "outputs": [],
   "source": [
    "dataset.remove_masks()\n",
    "dataset.plot()"
   ]
  },
  {
   "cell_type": "markdown",
   "id": "7259506e",
   "metadata": {},
   "source": [
    "## Transposition"
   ]
  },
  {
   "cell_type": "markdown",
   "id": "0b0df7f3",
   "metadata": {},
   "source": [
    "Dataset can be transposed"
   ]
  },
  {
   "cell_type": "code",
   "execution_count": null,
   "id": "06c6b258",
   "metadata": {},
   "outputs": [],
   "source": [
    "dataset[:, 1290.0:890.0] = MASKED  # we mask the unwanted columns\n",
    "t_dataset = dataset.T\n",
    "t_dataset"
   ]
  },
  {
   "cell_type": "markdown",
   "id": "d44ff440",
   "metadata": {},
   "source": [
    "As it can be observed the dimension `x`and `y`have been exchanged, *e.g.* the original shape was **(x: 5549, y: 55)**,\n",
    "and after transposition it is **(y:55, x:5549)**.\n",
    "(the dimension names stay the same, but the index of the corresponding axis are exchanged)."
   ]
  },
  {
   "cell_type": "markdown",
   "id": "b7a8a88b",
   "metadata": {},
   "source": [
    "Let's visualize the result:"
   ]
  },
  {
   "cell_type": "code",
   "execution_count": null,
   "id": "45c50def",
   "metadata": {},
   "outputs": [],
   "source": [
    "t_dataset.plot()"
   ]
  },
  {
   "cell_type": "markdown",
   "id": "be9b79b2",
   "metadata": {},
   "source": [
    "## Changing units"
   ]
  },
  {
   "cell_type": "markdown",
   "id": "18c462ca",
   "metadata": {},
   "source": [
    "Units of the data and coordinates can be changed, but only towards compatible units. For instance, data are in\n",
    "absorbance units, which are dimensionless (**a.u**). So a dimensionless units such as **radian** is allowed,\n",
    "even if in this case it makes very little sense."
   ]
  },
  {
   "cell_type": "code",
   "execution_count": null,
   "id": "2e8bc99c",
   "metadata": {},
   "outputs": [],
   "source": [
    "dataset.units = \"radian\""
   ]
  },
  {
   "cell_type": "code",
   "execution_count": null,
   "id": "4b9acafa",
   "metadata": {},
   "outputs": [],
   "source": [
    "dataset.plot()"
   ]
  },
  {
   "cell_type": "markdown",
   "id": "8b50800e",
   "metadata": {},
   "source": [
    "Trying to change it in 'meter' for instance, will generate an error!"
   ]
  },
  {
   "cell_type": "code",
   "execution_count": null,
   "id": "b4796830",
   "metadata": {},
   "outputs": [],
   "source": [
    "try:\n",
    "    dataset.to(\"meter\")\n",
    "except DimensionalityError as e:\n",
    "    error_(DimensionalityError, e)"
   ]
  },
  {
   "cell_type": "markdown",
   "id": "d2c1a21b",
   "metadata": {},
   "source": [
    "If this is for some reasons something you want to do, you must for the change:"
   ]
  },
  {
   "cell_type": "code",
   "execution_count": null,
   "id": "76e85e3f",
   "metadata": {},
   "outputs": [],
   "source": [
    "d = dataset.to(\"meter\", force=True)\n",
    "d.units"
   ]
  },
  {
   "cell_type": "markdown",
   "id": "36845486",
   "metadata": {},
   "source": [
    "When units are compatible there is no problem to modify it. For instance, we can\n",
    "change the `y` dimension units (\n",
    "Time) to hours. Her we use the inplace transformation `ito` ."
   ]
  },
  {
   "cell_type": "code",
   "execution_count": null,
   "id": "1298ac4c",
   "metadata": {},
   "outputs": [],
   "source": [
    "dataset.y.ito(\"hours\")\n",
    "dataset.plot()"
   ]
  },
  {
   "cell_type": "markdown",
   "id": "791a5e0c",
   "metadata": {},
   "source": [
    "See [Units](../objects/dataset/dataset.ipynb#Units) for more details on these units operations"
   ]
  }
 ],
 "metadata": {
  "jupytext": {
   "formats": "ipynb,py:percent",
   "notebook_metadata_filter": "all"
  },
  "kernelspec": {
   "display_name": "Python 3 (ipykernel)",
   "language": "python",
   "name": "python3"
  },
  "language_info": {
   "codemirror_mode": {
    "name": "ipython",
    "version": 3
   },
   "file_extension": ".py",
   "mimetype": "text/x-python",
   "name": "python",
   "nbconvert_exporter": "python",
   "pygments_lexer": "ipython3",
   "version": "3.13.2"
  }
 },
 "nbformat": 4,
 "nbformat_minor": 5
}
