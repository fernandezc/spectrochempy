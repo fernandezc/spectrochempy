{
 "cells": [
  {
   "cell_type": "markdown",
   "id": "471e8868",
   "metadata": {},
   "source": [
    "# Project management\n",
    "\n",
    "from pathlib import Path"
   ]
  },
  {
   "cell_type": "code",
   "execution_count": null,
   "id": "3601342c",
   "metadata": {},
   "outputs": [],
   "source": [
    "from spectrochempy import Project\n",
    "from spectrochempy import pathclean\n",
    "from spectrochempy import preferences as prefs"
   ]
  },
  {
   "cell_type": "markdown",
   "id": "9842ef26",
   "metadata": {},
   "source": [
    "## Project creation\n",
    "We can easily create a new project to store various datasets"
   ]
  },
  {
   "cell_type": "code",
   "execution_count": null,
   "id": "8362cb76",
   "metadata": {},
   "outputs": [],
   "source": [
    "proj = Project()"
   ]
  },
  {
   "cell_type": "markdown",
   "id": "8078dd07",
   "metadata": {},
   "source": [
    "As we did not specify a name, a name has been attributed automatically:"
   ]
  },
  {
   "cell_type": "code",
   "execution_count": null,
   "id": "8247207a",
   "metadata": {},
   "outputs": [],
   "source": [
    "proj.name"
   ]
  },
  {
   "cell_type": "markdown",
   "id": "72db4444",
   "metadata": {},
   "source": [
    "------\n",
    "To get the signature of the object, one can use the usual '?'. Uncomment the following line to check"
   ]
  },
  {
   "cell_type": "code",
   "execution_count": null,
   "id": "5f3fadf9",
   "metadata": {},
   "outputs": [],
   "source": [
    "# Project?"
   ]
  },
  {
   "cell_type": "markdown",
   "id": "3b227fd0",
   "metadata": {},
   "source": [
    "----\n",
    "Let's change this name"
   ]
  },
  {
   "cell_type": "code",
   "execution_count": null,
   "id": "43d8b5f2",
   "metadata": {},
   "outputs": [],
   "source": [
    "proj.name = \"myNMRdata\"\n",
    "proj"
   ]
  },
  {
   "cell_type": "markdown",
   "id": "c8281de4",
   "metadata": {},
   "source": [
    "Now we will add a dataset to the project.\n",
    "\n",
    "First we read the dataset (here some NMR data) and we give it some name (e.g. 'nmr n°1')"
   ]
  },
  {
   "cell_type": "code",
   "execution_count": null,
   "id": "50187555",
   "metadata": {},
   "outputs": [],
   "source": [
    "datadir = pathclean(prefs.datadir)\n",
    "path = datadir / \"nmrdata\" / \"bruker\" / \"tests\" / \"nmr\"\n",
    "\n",
    "from spectrochempy import read_topspin\n",
    "\n",
    "nd1 = read_topspin(\n",
    "    path / \"topspin_1d\", expno=1, remove_digital_filter=True, name=\"NMR_1D\"\n",
    ")\n",
    "nd2 = read_topspin(\n",
    "    path / \"topspin_2d\", expno=1, remove_digital_filter=True, name=\"NMR_2D\"\n",
    ")"
   ]
  },
  {
   "cell_type": "markdown",
   "id": "60db7765",
   "metadata": {},
   "source": [
    "To add it to the project, we use the `add_dataset` function for a single dataset:"
   ]
  },
  {
   "cell_type": "code",
   "execution_count": null,
   "id": "62cae63e",
   "metadata": {},
   "outputs": [],
   "source": [
    "proj.add_datasets(nd1)"
   ]
  },
  {
   "cell_type": "markdown",
   "id": "cc53cb7b",
   "metadata": {},
   "source": [
    "or `add_datasets` for several datasets."
   ]
  },
  {
   "cell_type": "code",
   "execution_count": null,
   "id": "6a8e6e19",
   "metadata": {},
   "outputs": [],
   "source": [
    "proj.add_datasets(nd1, nd2)"
   ]
  },
  {
   "cell_type": "markdown",
   "id": "3c6a0be9",
   "metadata": {},
   "source": [
    "Display its structure"
   ]
  },
  {
   "cell_type": "code",
   "execution_count": null,
   "id": "c892a60a",
   "metadata": {},
   "outputs": [],
   "source": [
    "proj"
   ]
  },
  {
   "cell_type": "markdown",
   "id": "06afdff4",
   "metadata": {},
   "source": [
    "It is also possible to add other projects as sub-project (using the `add_project` )"
   ]
  },
  {
   "cell_type": "markdown",
   "id": "3a349130",
   "metadata": {},
   "source": [
    "## Remove an element from a project"
   ]
  },
  {
   "cell_type": "code",
   "execution_count": null,
   "id": "590ac446",
   "metadata": {},
   "outputs": [],
   "source": [
    "proj.remove_dataset(\"NMR_1D\")\n",
    "proj"
   ]
  },
  {
   "cell_type": "markdown",
   "id": "91a4bc44",
   "metadata": {},
   "source": [
    "## Get project's elements"
   ]
  },
  {
   "cell_type": "code",
   "execution_count": null,
   "id": "ca6f5849",
   "metadata": {},
   "outputs": [],
   "source": [
    "proj.add_datasets(nd1, nd2)\n",
    "proj"
   ]
  },
  {
   "cell_type": "markdown",
   "id": "f68b941f",
   "metadata": {},
   "source": [
    "We can just use the name of the element as a project attribute."
   ]
  },
  {
   "cell_type": "code",
   "execution_count": null,
   "id": "511a7f56",
   "metadata": {},
   "outputs": [],
   "source": [
    "proj.NMR_1D"
   ]
  },
  {
   "cell_type": "code",
   "execution_count": null,
   "id": "b15a7fa5",
   "metadata": {},
   "outputs": [],
   "source": [
    "proj.NMR_1D.plot()"
   ]
  },
  {
   "cell_type": "markdown",
   "id": "52b4e231",
   "metadata": {},
   "source": [
    "However, this work only if the name contains no space, dot, comma, colon, etc.\n",
    "The only special character allowed is\n",
    "the underscore `_` .  If the name is not respecting this, then it is possible to use\n",
    "the following syntax (as a\n",
    "project behave as a dictionary). For example:"
   ]
  },
  {
   "cell_type": "code",
   "execution_count": null,
   "id": "def0815e",
   "metadata": {},
   "outputs": [],
   "source": [
    "proj[\"NMR_1D\"].data"
   ]
  },
  {
   "cell_type": "code",
   "execution_count": null,
   "id": "9d4b0375",
   "metadata": {},
   "outputs": [],
   "source": [
    "proj.NMR_2D"
   ]
  },
  {
   "cell_type": "markdown",
   "id": "2ae0e789",
   "metadata": {},
   "source": [
    "## Saving and loading projects"
   ]
  },
  {
   "cell_type": "code",
   "execution_count": null,
   "id": "faa487cc",
   "metadata": {},
   "outputs": [],
   "source": [
    "proj"
   ]
  },
  {
   "cell_type": "markdown",
   "id": "b895836a",
   "metadata": {},
   "source": [
    "#### Saving"
   ]
  },
  {
   "cell_type": "code",
   "execution_count": null,
   "id": "61ab70b2",
   "metadata": {},
   "outputs": [],
   "source": [
    "proj.save_as(\"NMR\")"
   ]
  },
  {
   "cell_type": "markdown",
   "id": "0a5f92c6",
   "metadata": {},
   "source": [
    "#### Loading"
   ]
  },
  {
   "cell_type": "code",
   "execution_count": null,
   "id": "44806191",
   "metadata": {},
   "outputs": [],
   "source": [
    "proj2 = Project.load(\"NMR\")"
   ]
  },
  {
   "cell_type": "code",
   "execution_count": null,
   "id": "22ab0230",
   "metadata": {},
   "outputs": [],
   "source": [
    "proj2"
   ]
  },
  {
   "cell_type": "code",
   "execution_count": null,
   "id": "4b013c89",
   "metadata": {},
   "outputs": [],
   "source": [
    "proj2.NMR_1D.plot()"
   ]
  },
  {
   "cell_type": "code",
   "execution_count": null,
   "id": "136e06d7",
   "metadata": {},
   "outputs": [],
   "source": [
    "proj2.NMR_2D"
   ]
  },
  {
   "cell_type": "code",
   "execution_count": null,
   "id": "0de5b174",
   "metadata": {},
   "outputs": [],
   "source": [
    "proj.NMR_2D.plot()"
   ]
  },
  {
   "cell_type": "code",
   "execution_count": null,
   "id": "bf1bfcb1",
   "metadata": {},
   "outputs": [],
   "source": []
  }
 ],
 "metadata": {
  "jupytext": {
   "formats": "ipynb,py:percent",
   "notebook_metadata_filter": "all"
  },
  "kernelspec": {
   "display_name": "Python 3 (ipykernel)",
   "language": "python",
   "name": "python3"
  },
  "language_info": {
   "codemirror_mode": {
    "name": "ipython",
    "version": 3
   },
   "file_extension": ".py",
   "mimetype": "text/x-python",
   "name": "python",
   "nbconvert_exporter": "python",
   "pygments_lexer": "ipython3",
   "version": "3.9.9"
  },
  "widgets": {
   "application/vnd.jupyter.widget-state+json": {
    "state": {},
    "version_major": 2,
    "version_minor": 0
   }
  }
 },
 "nbformat": 4,
 "nbformat_minor": 5
}
