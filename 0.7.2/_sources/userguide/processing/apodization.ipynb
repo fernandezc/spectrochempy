{
 "cells": [
  {
   "cell_type": "markdown",
   "id": "398f238f",
   "metadata": {},
   "source": [
    "# Apodization"
   ]
  },
  {
   "cell_type": "code",
   "execution_count": null,
   "id": "2872570f",
   "metadata": {},
   "outputs": [],
   "source": [
    "import spectrochempy as scp\n",
    "from spectrochempy.core.units import ur"
   ]
  },
  {
   "cell_type": "markdown",
   "id": "5007606b",
   "metadata": {},
   "source": [
    "## Introduction\n",
    "\n",
    "As an example, apodization is a transformation particularly useful for preprocessing NMR time domain data before\n",
    "Fourier transformation. It generally helps for signal-to-noise improvement."
   ]
  },
  {
   "cell_type": "code",
   "execution_count": null,
   "id": "b9773e13",
   "metadata": {},
   "outputs": [],
   "source": [
    "# read an experimental spectra\n",
    "path = scp.pathclean(\"nmrdata/bruker/tests/nmr/topspin_1d\")\n",
    "\n",
    "# the method pathclean allow to write pth in linux or window style indifferently\n",
    "dataset = scp.read_topspin(path, expno=1, remove_digital_filter=True)\n",
    "dataset = dataset / dataset.max()  # normalization\n",
    "\n",
    "# store original data\n",
    "nd = dataset.copy()\n",
    "\n",
    "# show data\n",
    "nd"
   ]
  },
  {
   "cell_type": "markdown",
   "id": "3206258a",
   "metadata": {},
   "source": [
    "### Plot of the Real and Imaginary original data"
   ]
  },
  {
   "cell_type": "code",
   "execution_count": null,
   "id": "b512d84e",
   "metadata": {},
   "outputs": [],
   "source": [
    "nd.plot(xlim=(0.0, 15000.0))\n",
    "nd.plot(imag=True, data_only=True, clear=False, color=\"r\")"
   ]
  },
  {
   "cell_type": "markdown",
   "id": "1d4efa06",
   "metadata": {},
   "source": [
    "### Exponential multiplication"
   ]
  },
  {
   "cell_type": "code",
   "execution_count": null,
   "id": "8428fe5e",
   "metadata": {},
   "outputs": [],
   "source": [
    "nd.plot(xlim=(0.0, 15000.0))\n",
    "_ = nd.em(lb=300.0 * ur.Hz)\n",
    "nd.plot(data_only=True, clear=False, color=\"g\")"
   ]
  },
  {
   "cell_type": "markdown",
   "id": "6e2af076",
   "metadata": {},
   "source": [
    "**Warning:** processing function are most of the time applied inplace. Use\n",
    "`inplace=False` option to avoid this if\n",
    "necessary"
   ]
  },
  {
   "cell_type": "code",
   "execution_count": null,
   "id": "f66505b3",
   "metadata": {},
   "outputs": [],
   "source": [
    "nd = dataset.copy()  # to go back to the original data\n",
    "nd.plot(xlim=(0.0, 5000.0))\n",
    "ndlb = nd.em(lb=300.0 * ur.Hz, inplace=False)  # ndlb contain the processed data\n",
    "nd.plot(data_only=True, clear=False, color=\"g\")  # nd dataset remain unchanged\n",
    "ndlb.plot(data_only=True, clear=False, color=\"b\")"
   ]
  },
  {
   "cell_type": "markdown",
   "id": "79834ad7",
   "metadata": {},
   "source": [
    "Of course, imaginary data are also transformed at the same time"
   ]
  },
  {
   "cell_type": "code",
   "execution_count": null,
   "id": "4a39352d",
   "metadata": {},
   "outputs": [],
   "source": [
    "nd.plot(imag=True, xlim=(0, 5000), color=\"r\")\n",
    "ndlb.plot(imag=True, data_only=True, clear=False, color=\"b\")"
   ]
  },
  {
   "cell_type": "markdown",
   "id": "51066b28",
   "metadata": {},
   "source": [
    "If we want to display the apodization function, we can use the `retapod=True` parameter."
   ]
  },
  {
   "cell_type": "code",
   "execution_count": null,
   "id": "37597c63",
   "metadata": {},
   "outputs": [],
   "source": [
    "nd = dataset.copy()\n",
    "nd.plot(xlim=(0.0, 5000.0))\n",
    "ndlb, apod = nd.em(\n",
    "    lb=300.0 * ur.Hz, inplace=False, retapod=True\n",
    ")  # ndlb contain the processed data and apod the\n",
    "# apodization function\n",
    "ndlb.plot(data_only=True, clear=False, color=\"b\")\n",
    "apod.plot(data_only=True, clear=False, color=\"m\", linestyle=\"--\")"
   ]
  },
  {
   "cell_type": "markdown",
   "id": "6256caa7",
   "metadata": {},
   "source": [
    "#### Shifted apodization"
   ]
  },
  {
   "cell_type": "code",
   "execution_count": null,
   "id": "590d1057",
   "metadata": {},
   "outputs": [],
   "source": [
    "nd = dataset.copy()\n",
    "nd.plot(xlim=(0.0, 5000.0))\n",
    "ndlb, apod = nd.em(\n",
    "    lb=300.0 * ur.Hz, shifted=1000 * ur.us, inplace=False, retapod=True\n",
    ")  # ndlb contain the processed data and apod the apodization function\n",
    "ndlb.plot(data_only=True, clear=False, color=\"b\")\n",
    "apod.plot(data_only=True, clear=False, color=\"m\", linestyle=\"--\")"
   ]
  },
  {
   "cell_type": "markdown",
   "id": "d741d259",
   "metadata": {},
   "source": [
    "### Other apodization functions"
   ]
  },
  {
   "cell_type": "markdown",
   "id": "0112cea3",
   "metadata": {},
   "source": [
    "#### Gaussian-Lorentzian apodization"
   ]
  },
  {
   "cell_type": "code",
   "execution_count": null,
   "id": "105672f0",
   "metadata": {},
   "outputs": [],
   "source": [
    "nd = dataset.copy()\n",
    "lb = 10.0\n",
    "gb = 200.0\n",
    "ndlg, apod = nd.gm(lb=lb, gb=gb, inplace=False, retapod=True)\n",
    "nd.plot(xlim=(0.0, 5000.0))\n",
    "ndlg.plot(data_only=True, clear=False, color=\"b\")\n",
    "apod.plot(data_only=True, clear=False, color=\"m\", linestyle=\"--\")"
   ]
  },
  {
   "cell_type": "markdown",
   "id": "22f3d4ef",
   "metadata": {},
   "source": [
    "#### Shifted Gaussian-Lorentzian apodization"
   ]
  },
  {
   "cell_type": "code",
   "execution_count": null,
   "id": "1fb23a32",
   "metadata": {},
   "outputs": [],
   "source": [
    "nd = dataset.copy()\n",
    "lb = 10.0\n",
    "gb = 200.0\n",
    "ndlg, apod = nd.gm(lb=lb, gb=gb, shifted=2000 * ur.us, inplace=False, retapod=True)\n",
    "nd.plot(xlim=(0.0, 5000.0))\n",
    "ndlg.plot(data_only=True, clear=False, color=\"b\")\n",
    "apod.plot(data_only=True, clear=False, color=\"m\", linestyle=\"--\")"
   ]
  },
  {
   "cell_type": "markdown",
   "id": "9020627a",
   "metadata": {},
   "source": [
    "#### Apodization using sine window multiplication\n",
    "\n",
    "The`sp`  apodization is by default performed on the last dimension.\n",
    "\n",
    "Functional form of apodization window (cfBruker TOPSPIN manual): $sp(t) = \\sin(\\frac{(\\pi - \\phi) t }{\\text{aq}} +\n",
    "\\phi)^{pow}$\n",
    "\n",
    "where\n",
    "* $0 < t < \\text{aq}$ and  $\\phi = \\pi ⁄ \\text{sbb}$ when $\\text{ssb} \\ge 2$\n",
    "\n",
    "or\n",
    "*    $\\phi = 0$ when $\\text{ssb} < 2$\n",
    "\n",
    "$\\text{aq}$ is an acquisition status parameter and $\\text{ssb}$ is a processing parameter (see below) and $\\text{\n",
    "pow}$ is an exponent equal to 1 for a sine bell window or 2 for a squared sine bell window.\n",
    "\n",
    "The $\\text{ssb}$ parameter mimics the behaviour of the `SSB` parameter on bruker TOPSPIN software:\n",
    "* Typical values are 1 for a pure sine function and 2 for a pure cosine function.\n",
    "* Values greater than 2 give a mixed sine/cosine function. Note that all values smaller than 2, for example 0,\n",
    "have the same effect as $\\text{ssb}=1$, namely a pure sine function.\n",
    "\n",
    "**Shortcuts**:\n",
    "* `sine` is strictly an alias of `sp`\n",
    "* `sinm` is equivalent to `sp` with $\\text{pow}=1$\n",
    "* `qsin` is equivalent to `sp` with $\\text{pow}=2$\n",
    "\n",
    "Below are several examples of `sinm` and `qsin` apodization functions."
   ]
  },
  {
   "cell_type": "code",
   "execution_count": null,
   "id": "fcd185a2",
   "metadata": {},
   "outputs": [],
   "source": [
    "nd = dataset.copy()\n",
    "nd.plot()\n",
    "\n",
    "new, curve = nd.qsin(ssb=3, retapod=True)\n",
    "curve.plot(color=\"r\", clear=False)\n",
    "new.plot(xlim=(0, 25000), zlim=(-2, 2), data_only=True, color=\"r\", clear=False)"
   ]
  },
  {
   "cell_type": "code",
   "execution_count": null,
   "id": "cbebfac1",
   "metadata": {},
   "outputs": [],
   "source": [
    "nd = dataset.copy()\n",
    "nd.plot()\n",
    "\n",
    "new, curve = nd.sinm(ssb=1, retapod=True)\n",
    "curve.plot(color=\"b\", clear=False)\n",
    "new.plot(xlim=(0, 25000), zlim=(-2, 2), data_only=True, color=\"b\", clear=False)"
   ]
  },
  {
   "cell_type": "code",
   "execution_count": null,
   "id": "1807c36e",
   "metadata": {},
   "outputs": [],
   "source": [
    "nd = dataset.copy()\n",
    "nd.plot()\n",
    "\n",
    "new, curve = nd.sinm(ssb=3, retapod=True)\n",
    "curve.plot(color=\"b\", ls=\"--\", clear=False)\n",
    "new.plot(xlim=(0, 25000), zlim=(-2, 2), data_only=True, color=\"b\", clear=False)"
   ]
  },
  {
   "cell_type": "code",
   "execution_count": null,
   "id": "0002968f",
   "metadata": {},
   "outputs": [],
   "source": [
    "nd = dataset.copy()\n",
    "nd.plot()\n",
    "\n",
    "new, curve = nd.qsin(ssb=2, retapod=True)\n",
    "curve.plot(color=\"m\", clear=False)\n",
    "new.plot(xlim=(0, 25000), zlim=(-2, 2), data_only=True, color=\"m\", clear=False)"
   ]
  },
  {
   "cell_type": "code",
   "execution_count": null,
   "id": "24185689",
   "metadata": {},
   "outputs": [],
   "source": [
    "nd = dataset.copy()\n",
    "nd.plot()\n",
    "\n",
    "new, curve = nd.qsin(ssb=1, retapod=True)\n",
    "curve.plot(color=\"g\", clear=False)\n",
    "new.plot(xlim=(0, 25000), zlim=(-2, 2), data_only=True, color=\"g\", clear=False)"
   ]
  }
 ],
 "metadata": {
  "jupytext": {
   "formats": "ipynb,py:percent",
   "notebook_metadata_filter": "all"
  },
  "kernelspec": {
   "display_name": "Python 3",
   "language": "python",
   "name": "python3"
  },
  "language_info": {
   "codemirror_mode": {
    "name": "ipython",
    "version": 3
   },
   "file_extension": ".py",
   "mimetype": "text/x-python",
   "name": "python",
   "nbconvert_exporter": "python",
   "pygments_lexer": "ipython3",
   "version": "3.9.1"
  },
  "widgets": {
   "application/vnd.jupyter.widget-state+json": {
    "state": {},
    "version_major": 2,
    "version_minor": 0
   }
  }
 },
 "nbformat": 4,
 "nbformat_minor": 5
}
