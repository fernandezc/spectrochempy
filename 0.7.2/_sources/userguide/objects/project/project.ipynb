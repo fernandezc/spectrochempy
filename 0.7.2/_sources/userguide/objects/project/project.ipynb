{
 "cells": [
  {
   "cell_type": "markdown",
   "id": "da010b72",
   "metadata": {},
   "source": [
    "# Project management\n",
    "\n",
    "from pathlib import Path"
   ]
  },
  {
   "cell_type": "code",
   "execution_count": null,
   "id": "f8c3383c",
   "metadata": {},
   "outputs": [],
   "source": [
    "from spectrochempy import NDDataset\n",
    "from spectrochempy import Project\n",
    "from spectrochempy import pathclean\n",
    "from spectrochempy import preferences as prefs"
   ]
  },
  {
   "cell_type": "markdown",
   "id": "73b02f65",
   "metadata": {},
   "source": [
    "## Project creation\n",
    "We can easily create a new project to store various datasets"
   ]
  },
  {
   "cell_type": "code",
   "execution_count": null,
   "id": "5541923b",
   "metadata": {},
   "outputs": [],
   "source": [
    "proj = Project()"
   ]
  },
  {
   "cell_type": "markdown",
   "id": "67e95b3b",
   "metadata": {},
   "source": [
    "As we did not specify a name, a name has been attributed automatically:"
   ]
  },
  {
   "cell_type": "code",
   "execution_count": null,
   "id": "8d25a5ae",
   "metadata": {},
   "outputs": [],
   "source": [
    "proj.name"
   ]
  },
  {
   "cell_type": "markdown",
   "id": "15c81d2e",
   "metadata": {},
   "source": [
    "------\n",
    "To get the signature of the object, one can use the usual '?'. Uncomment the following line to check"
   ]
  },
  {
   "cell_type": "code",
   "execution_count": null,
   "id": "67c58a0c",
   "metadata": {},
   "outputs": [],
   "source": [
    "# Project?"
   ]
  },
  {
   "cell_type": "markdown",
   "id": "0d47dbd5",
   "metadata": {},
   "source": [
    "----\n",
    "Let's change this name"
   ]
  },
  {
   "cell_type": "code",
   "execution_count": null,
   "id": "1bff65bc",
   "metadata": {},
   "outputs": [],
   "source": [
    "proj.name = \"myNMRdata\"\n",
    "proj"
   ]
  },
  {
   "cell_type": "markdown",
   "id": "f6360e79",
   "metadata": {},
   "source": [
    "Now we will add a dataset to the project.\n",
    "\n",
    "First we read the dataset (here some NMR data) and we give it some name (e.g. 'nmr n°1')"
   ]
  },
  {
   "cell_type": "code",
   "execution_count": null,
   "id": "8c4aa946",
   "metadata": {},
   "outputs": [],
   "source": [
    "datadir = pathclean(prefs.datadir)\n",
    "path = datadir / \"nmrdata\" / \"bruker\" / \"tests\" / \"nmr\"\n",
    "nd1 = NDDataset.read_topspin(\n",
    "    path / \"topspin_1d\", expno=1, remove_digital_filter=True, name=\"NMR_1D\"\n",
    ")\n",
    "nd2 = NDDataset.read_topspin(\n",
    "    path / \"topspin_2d\", expno=1, remove_digital_filter=True, name=\"NMR_2D\"\n",
    ")"
   ]
  },
  {
   "cell_type": "markdown",
   "id": "83c904fc",
   "metadata": {},
   "source": [
    "To add it to the project, we use the `add_dataset` function for a single dataset:"
   ]
  },
  {
   "cell_type": "code",
   "execution_count": null,
   "id": "abc900cb",
   "metadata": {},
   "outputs": [],
   "source": [
    "proj.add_datasets(nd1)"
   ]
  },
  {
   "cell_type": "markdown",
   "id": "16b3c10b",
   "metadata": {},
   "source": [
    "or `add_datasets` for several datasets."
   ]
  },
  {
   "cell_type": "code",
   "execution_count": null,
   "id": "8441525d",
   "metadata": {},
   "outputs": [],
   "source": [
    "proj.add_datasets(nd1, nd2)"
   ]
  },
  {
   "cell_type": "markdown",
   "id": "6c6223e5",
   "metadata": {},
   "source": [
    "Display its structure"
   ]
  },
  {
   "cell_type": "code",
   "execution_count": null,
   "id": "bc47da45",
   "metadata": {},
   "outputs": [],
   "source": [
    "proj"
   ]
  },
  {
   "cell_type": "markdown",
   "id": "fe5ba1b9",
   "metadata": {},
   "source": [
    "It is also possible to add other projects as sub-project (using the `add_project` )"
   ]
  },
  {
   "cell_type": "markdown",
   "id": "9d5c0a35",
   "metadata": {},
   "source": [
    "## Remove an element from a project"
   ]
  },
  {
   "cell_type": "code",
   "execution_count": null,
   "id": "29b21602",
   "metadata": {},
   "outputs": [],
   "source": [
    "proj.remove_dataset(\"NMR_1D\")\n",
    "proj"
   ]
  },
  {
   "cell_type": "markdown",
   "id": "6022d1c8",
   "metadata": {},
   "source": [
    "## Get project's elements"
   ]
  },
  {
   "cell_type": "code",
   "execution_count": null,
   "id": "bec9329d",
   "metadata": {},
   "outputs": [],
   "source": [
    "proj.add_datasets(nd1, nd2)\n",
    "proj"
   ]
  },
  {
   "cell_type": "markdown",
   "id": "01644f74",
   "metadata": {},
   "source": [
    "We can just use the name of the element as a project attribute."
   ]
  },
  {
   "cell_type": "code",
   "execution_count": null,
   "id": "ae9d5d36",
   "metadata": {},
   "outputs": [],
   "source": [
    "proj.NMR_1D"
   ]
  },
  {
   "cell_type": "code",
   "execution_count": null,
   "id": "7d226368",
   "metadata": {},
   "outputs": [],
   "source": [
    "proj.NMR_1D.plot()"
   ]
  },
  {
   "cell_type": "markdown",
   "id": "50b5a45c",
   "metadata": {},
   "source": [
    "However, this work only if the name contains no space, dot, comma, colon, etc.\n",
    "The only special character allowed is\n",
    "the underscore `_` .  If the name is not respecting this, then it is possible to use\n",
    "the following syntax (as a\n",
    "project behave as a dictionary). For example:"
   ]
  },
  {
   "cell_type": "code",
   "execution_count": null,
   "id": "2b0fbdbb",
   "metadata": {},
   "outputs": [],
   "source": [
    "proj[\"NMR_1D\"].data"
   ]
  },
  {
   "cell_type": "code",
   "execution_count": null,
   "id": "bdcf078a",
   "metadata": {},
   "outputs": [],
   "source": [
    "proj.NMR_2D"
   ]
  },
  {
   "cell_type": "markdown",
   "id": "f2e0e35d",
   "metadata": {},
   "source": [
    "## Saving and loading projects"
   ]
  },
  {
   "cell_type": "code",
   "execution_count": null,
   "id": "8626d546",
   "metadata": {},
   "outputs": [],
   "source": [
    "proj"
   ]
  },
  {
   "cell_type": "markdown",
   "id": "994ded21",
   "metadata": {},
   "source": [
    "#### Saving"
   ]
  },
  {
   "cell_type": "code",
   "execution_count": null,
   "id": "e7a4f27a",
   "metadata": {},
   "outputs": [],
   "source": [
    "proj.save_as(\"NMR\")"
   ]
  },
  {
   "cell_type": "markdown",
   "id": "49390583",
   "metadata": {},
   "source": [
    "#### Loading"
   ]
  },
  {
   "cell_type": "code",
   "execution_count": null,
   "id": "987aee62",
   "metadata": {},
   "outputs": [],
   "source": [
    "proj2 = Project.load(\"NMR\")"
   ]
  },
  {
   "cell_type": "code",
   "execution_count": null,
   "id": "073631b4",
   "metadata": {},
   "outputs": [],
   "source": [
    "proj2"
   ]
  },
  {
   "cell_type": "code",
   "execution_count": null,
   "id": "a1f5babf",
   "metadata": {},
   "outputs": [],
   "source": [
    "proj2.NMR_1D.plot()"
   ]
  },
  {
   "cell_type": "code",
   "execution_count": null,
   "id": "d467712c",
   "metadata": {},
   "outputs": [],
   "source": [
    "proj2.NMR_2D"
   ]
  },
  {
   "cell_type": "code",
   "execution_count": null,
   "id": "6ca64fda",
   "metadata": {},
   "outputs": [],
   "source": [
    "proj.NMR_2D.plot()"
   ]
  },
  {
   "cell_type": "code",
   "execution_count": null,
   "id": "f89f7eb7",
   "metadata": {},
   "outputs": [],
   "source": []
  }
 ],
 "metadata": {
  "jupytext": {
   "formats": "ipynb,py:percent",
   "notebook_metadata_filter": "all"
  },
  "kernelspec": {
   "display_name": "Python 3 (ipykernel)",
   "language": "python",
   "name": "python3"
  },
  "language_info": {
   "codemirror_mode": {
    "name": "ipython",
    "version": 3
   },
   "file_extension": ".py",
   "mimetype": "text/x-python",
   "name": "python",
   "nbconvert_exporter": "python",
   "pygments_lexer": "ipython3",
   "version": "3.9.9"
  },
  "widgets": {
   "application/vnd.jupyter.widget-state+json": {
    "state": {},
    "version_major": 2,
    "version_minor": 0
   }
  }
 },
 "nbformat": 4,
 "nbformat_minor": 5
}
